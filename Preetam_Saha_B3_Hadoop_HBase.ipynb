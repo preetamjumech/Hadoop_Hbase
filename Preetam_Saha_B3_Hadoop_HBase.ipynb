{
  "nbformat": 4,
  "nbformat_minor": 0,
  "metadata": {
    "colab": {
      "provenance": [],
      "collapsed_sections": [
        "-S6uDEjlIZD0"
      ],
      "include_colab_link": true
    },
    "kernelspec": {
      "name": "python3",
      "display_name": "Python 3"
    },
    "language_info": {
      "name": "python"
    }
  },
  "cells": [
    {
      "cell_type": "markdown",
      "metadata": {
        "id": "view-in-github",
        "colab_type": "text"
      },
      "source": [
        "<a href=\"https://colab.research.google.com/github/preetamjumech/Hadoop_Hbase_practice/blob/main/Preetam_Saha_B3_Hadoop_HBase.ipynb\" target=\"_parent\"><img src=\"https://colab.research.google.com/assets/colab-badge.svg\" alt=\"Open In Colab\"/></a>"
      ]
    },
    {
      "cell_type": "markdown",
      "metadata": {
        "id": "GyYTQEpb1htS"
      },
      "source": [
        "#Hadoop \n",
        "Install and Test"
      ]
    },
    {
      "cell_type": "markdown",
      "source": [
        "#Here, we install two softwares, hadoop and hbase"
      ],
      "metadata": {
        "id": "mjuJinOgFMfj"
      }
    },
    {
      "cell_type": "code",
      "metadata": {
        "id": "_r0IOmlc0-Dt"
      },
      "source": [
        "# The default JVM available at /usr/lib/jvm/java-11-openjdk-amd64/  works for Hadoop\n",
        "# But gives errors with Hive https://stackoverflow.com/questions/54037773/hive-exception-class-jdk-internal-loader-classloadersappclassloader-cannot\n",
        "# Hence this JVM needs to be installed\n",
        "!apt-get update > /dev/null\n",
        "!apt-get install openjdk-8-jdk-headless -qq > /dev/null"
      ],
      "execution_count": 1,
      "outputs": []
    },
    {
      "cell_type": "code",
      "metadata": {
        "colab": {
          "base_uri": "https://localhost:8080/"
        },
        "id": "NWspfH6A1a4P",
        "outputId": "b3183891-a63e-4b32-8624-df8a54ad12ae"
      },
      "source": [
        "# Download the latest version of Hadoop\n",
        "!wget https://downloads.apache.org/hadoop/common/hadoop-3.3.3/hadoop-3.3.3.tar.gz\n",
        "# Unzip it\n",
        "# the tar command with the -x flag to extract, -z to uncompress, -v for verbose output, and -f to specify that we’re extracting from a file\n",
        "!tar -xzf hadoop-3.3.3.tar.gz\n",
        "#copy  hadoop file to user/local\n",
        "!mv  hadoop-3.3.3/ /usr/local/"
      ],
      "execution_count": 2,
      "outputs": [
        {
          "output_type": "stream",
          "name": "stdout",
          "text": [
            "--2022-11-07 04:32:51--  https://downloads.apache.org/hadoop/common/hadoop-3.3.3/hadoop-3.3.3.tar.gz\n",
            "Resolving downloads.apache.org (downloads.apache.org)... 135.181.214.104, 88.99.95.219, 2a01:4f8:10a:201a::2, ...\n",
            "Connecting to downloads.apache.org (downloads.apache.org)|135.181.214.104|:443... connected.\n",
            "HTTP request sent, awaiting response... 200 OK\n",
            "Length: 645040598 (615M) [application/x-gzip]\n",
            "Saving to: ‘hadoop-3.3.3.tar.gz’\n",
            "\n",
            "hadoop-3.3.3.tar.gz 100%[===================>] 615.16M  23.3MB/s    in 27s     \n",
            "\n",
            "2022-11-07 04:33:18 (22.7 MB/s) - ‘hadoop-3.3.3.tar.gz’ saved [645040598/645040598]\n",
            "\n"
          ]
        }
      ]
    },
    {
      "cell_type": "code",
      "metadata": {
        "id": "24QjQ22V1swJ",
        "colab": {
          "base_uri": "https://localhost:8080/"
        },
        "outputId": "3006ea74-6557-4ac6-9daf-38352a01c202"
      },
      "source": [
        "#To find the default Java path\n",
        "!readlink -f /usr/bin/java | sed \"s:bin/java::\"\n",
        "!ls /usr/lib/jvm/"
      ],
      "execution_count": 3,
      "outputs": [
        {
          "output_type": "stream",
          "name": "stdout",
          "text": [
            "/usr/lib/jvm/java-11-openjdk-amd64/\n",
            "default-java\t\t   java-11-openjdk-amd64     java-8-openjdk-amd64\n",
            "java-1.11.0-openjdk-amd64  java-1.8.0-openjdk-amd64\n"
          ]
        }
      ]
    },
    {
      "cell_type": "markdown",
      "metadata": {
        "id": "Ugibq3m1CbgC"
      },
      "source": [
        "## Set Hadoop Environment"
      ]
    },
    {
      "cell_type": "markdown",
      "source": [
        "### path is a collection of directiories where executable files are stored.and the system searches it in a particular sequence."
      ],
      "metadata": {
        "id": "ryuVskeLGFZl"
      }
    },
    {
      "cell_type": "code",
      "metadata": {
        "id": "1j7WFh5k18E1"
      },
      "source": [
        "#To set java path, go to /usr/local/hadoop-3.3.0/etc/hadoop/hadoop-env.sh then\n",
        "#. . . export JAVA_HOME=/usr/lib/jvm/java-11-openjdk-amd64/ . . .\n",
        "#we have used a simpler alternative route using os.environ - it works\n",
        "\n",
        "import os\n",
        "os.environ[\"JAVA_HOME\"] = \"/usr/lib/jvm/java-8-openjdk-amd64\"   # default is changed\n",
        "#os.environ[\"JAVA_HOME\"] = \"/usr/lib/jvm/java-11-openjdk-amd64/\"\n",
        "os.environ[\"HADOOP_HOME\"] = \"/usr/local/hadoop-3.3.3/\""
      ],
      "execution_count": 4,
      "outputs": []
    },
    {
      "cell_type": "code",
      "metadata": {
        "id": "NaaMpfVP2p3m",
        "outputId": "34ba7dd9-6661-4700-cd48-89deb1a28841",
        "colab": {
          "base_uri": "https://localhost:8080/"
        }
      },
      "source": [
        "# Add Hadoop BIN to PATH\n",
        "# current_path taken from last command\n",
        "#current_path = '/opt/bin:/usr/local/nvidia/bin:/usr/local/cuda/bin:/usr/local/sbin:/usr/local/bin:/usr/sbin:/usr/bin:/sbin:/bin:/tools/node/bin:/tools/google-cloud-sdk/bin'\n",
        "#new_path = current_path+':/usr/local/hadoop-3.3.3/bin/'\n",
        "#os.environ[\"PATH\"] = new_path\n",
        "\n",
        "current_path = os.getenv('PATH')\n",
        "#new_path = current_path+':/usr/local/hadoop-3.3.0/bin/'\n",
        "new_path = current_path+':/usr/local/hadoop-3.3.3/bin/'\n",
        "os.environ[\"PATH\"] = new_path\n",
        "!echo $PATH"
      ],
      "execution_count": 5,
      "outputs": [
        {
          "output_type": "stream",
          "name": "stdout",
          "text": [
            "/opt/bin:/usr/local/nvidia/bin:/usr/local/cuda/bin:/usr/local/sbin:/usr/local/bin:/usr/sbin:/usr/bin:/sbin:/bin:/tools/node/bin:/tools/google-cloud-sdk/bin:/usr/local/hadoop-3.3.3/bin/\n"
          ]
        }
      ]
    },
    {
      "cell_type": "code",
      "metadata": {
        "id": "ZD34gT3y2u-D"
      },
      "source": [
        "# Testing Hadoop with PI generating sample program, should calculate value of pi = 3.14157500000000000000\n",
        "# pi example\n",
        "#Uncomment the following line if  you want to test Hadoop with pi example\n",
        "!hadoop jar /usr/local/hadoop-3.3.3/share/hadoop/mapreduce/hadoop-mapreduce-examples-3.3.3.jar pi 16 100000"
      ],
      "execution_count": null,
      "outputs": []
    },
    {
      "cell_type": "markdown",
      "metadata": {
        "id": "zHwLU0Uo3tLo"
      },
      "source": [
        "#Install HBase"
      ]
    },
    {
      "cell_type": "code",
      "metadata": {
        "colab": {
          "base_uri": "https://localhost:8080/"
        },
        "id": "bODP1xaM3vEB",
        "outputId": "520f7ce8-bc80-4924-e873-69560759bc39"
      },
      "source": [
        "# Get the latest HBase download site from here https://www.apache.org/dyn/closer.lua/hbase/\n",
        "# or even better check here for latest downloads >>> https://downloads.apache.org/hbase/\n",
        "#!wget https://mirrors.estointernet.in/apache/hbase/2.4.5/hbase-2.4.5-bin.tar.gz\n",
        "#!wget https://mirrors.estointernet.in/apache/hbase/2.4.8/hbase-2.4.8-bin.tar.gz\n",
        "#!wget https://downloads.apache.org/hbase/2.4.9/hbase-2.4.9-bin.tar.gz\n",
        "!wget https://downloads.apache.org/hbase/2.4.15/hbase-2.4.15-bin.tar.gz\n",
        "#!wget https://downloads.apache.org/hbase/2.5.0/hbase-2.5.0-bin.tar.gz\n",
        "#!tar xzf hbase-2.4.5-bin.tar.gz\n",
        "#!tar xzf hbase-2.4.8-bin.tar.gz\n",
        "#!tar xzf hbase-2.4.9-bin.tar.gz\n",
        "!tar xzf hbase-2.4.15-bin.tar.gz\n",
        "#!tar xzf hbase-2.5.0-bin.tar.gz"
      ],
      "execution_count": 7,
      "outputs": [
        {
          "output_type": "stream",
          "name": "stdout",
          "text": [
            "--2022-11-07 04:35:39--  https://downloads.apache.org/hbase/2.4.15/hbase-2.4.15-bin.tar.gz\n",
            "Resolving downloads.apache.org (downloads.apache.org)... 88.99.95.219, 135.181.214.104, 2a01:4f8:10a:201a::2, ...\n",
            "Connecting to downloads.apache.org (downloads.apache.org)|88.99.95.219|:443... connected.\n",
            "HTTP request sent, awaiting response... 200 OK\n",
            "Length: 284230281 (271M) [application/x-gzip]\n",
            "Saving to: ‘hbase-2.4.15-bin.tar.gz’\n",
            "\n",
            "hbase-2.4.15-bin.ta 100%[===================>] 271.06M  25.2MB/s    in 12s     \n",
            "\n",
            "2022-11-07 04:35:51 (23.5 MB/s) - ‘hbase-2.4.15-bin.tar.gz’ saved [284230281/284230281]\n",
            "\n"
          ]
        }
      ]
    },
    {
      "cell_type": "markdown",
      "source": [
        "### so we have downloaded the current version of hbase and untarred it."
      ],
      "metadata": {
        "id": "2nng_3KDG78-"
      }
    },
    {
      "cell_type": "markdown",
      "metadata": {
        "id": "kaMtyNOVCiMS"
      },
      "source": [
        "## Set HBase Environment"
      ]
    },
    {
      "cell_type": "code",
      "metadata": {
        "colab": {
          "base_uri": "https://localhost:8080/"
        },
        "id": "p4dc0K7h4f-y",
        "outputId": "94d1e3c7-414a-4995-bc98-0afc3a8fc018"
      },
      "source": [
        "#os.environ[\"HIVE_HOME\"] = \"/content/apache-hive-3.1.2-bin\"\n",
        "#!echo $HIVE_HOME\n",
        "#os.environ[\"HBASE_HOME\"] = \"/content/hbase-2.4.5/\"\n",
        "#os.environ[\"HBASE_HOME\"] = \"/content/hbase-2.4.8/\"\n",
        "#os.environ[\"HBASE_HOME\"] = \"/content/hbase-2.4.9/\"\n",
        "os.environ[\"HBASE_HOME\"] = \"/content/hbase-2.4.15/\"\n",
        "#os.environ[\"HBASE_HOME\"] = \"/content/hbase-2.5.0/\"\n",
        "!echo $HBASE_HOME"
      ],
      "execution_count": 8,
      "outputs": [
        {
          "output_type": "stream",
          "name": "stdout",
          "text": [
            "/content/hbase-2.4.15/\n"
          ]
        }
      ]
    },
    {
      "cell_type": "code",
      "metadata": {
        "id": "LrLGC7ln5Wwx",
        "colab": {
          "base_uri": "https://localhost:8080/"
        },
        "outputId": "f2ee0d8d-caf8-4d60-a829-c4efa2a14bb7"
      },
      "source": [
        "!echo $PATH"
      ],
      "execution_count": 9,
      "outputs": [
        {
          "output_type": "stream",
          "name": "stdout",
          "text": [
            "/opt/bin:/usr/local/nvidia/bin:/usr/local/cuda/bin:/usr/local/sbin:/usr/local/bin:/usr/sbin:/usr/bin:/sbin:/bin:/tools/node/bin:/tools/google-cloud-sdk/bin:/usr/local/hadoop-3.3.3/bin/\n"
          ]
        }
      ]
    },
    {
      "cell_type": "code",
      "metadata": {
        "colab": {
          "base_uri": "https://localhost:8080/"
        },
        "id": "DqXZ_kF65VXK",
        "outputId": "7396fc50-3ce0-45e7-c1dd-8ec3648570d7"
      },
      "source": [
        "# current_path taken from command in previous cell\n",
        "#current_path = '/opt/bin:/usr/local/nvidia/bin:/usr/local/cuda/bin:/usr/local/sbin:/usr/local/bin:/usr/sbin:/usr/bin:/sbin:/bin:/tools/node/bin:/tools/google-cloud-sdk/bin:/usr/local/hadoop-3.3.3/bin/'\n",
        "current_path = os.getenv('PATH')\n",
        "#new_path = current_path+':/content/hbase-2.4.5/bin'\n",
        "#new_path = current_path+':/content/hbase-2.4.8/bin'\n",
        "#new_path = current_path+':/content/hbase-2.4.9/bin'\n",
        "new_path = current_path+':/content/hbase-2.4.15/bin'\n",
        "#new_path = current_path+':/content/hbase-2.5.0/bin'\n",
        "os.environ[\"PATH\"] = new_path\n",
        "!echo $PATH"
      ],
      "execution_count": 10,
      "outputs": [
        {
          "output_type": "stream",
          "name": "stdout",
          "text": [
            "/opt/bin:/usr/local/nvidia/bin:/usr/local/cuda/bin:/usr/local/sbin:/usr/local/bin:/usr/sbin:/usr/bin:/sbin:/bin:/tools/node/bin:/tools/google-cloud-sdk/bin:/usr/local/hadoop-3.3.3/bin/:/content/hbase-2.4.15/bin\n"
          ]
        }
      ]
    },
    {
      "cell_type": "code",
      "metadata": {
        "colab": {
          "base_uri": "https://localhost:8080/"
        },
        "id": "ZrS6BL5k51Bl",
        "outputId": "ebca1710-7aa9-4853-b5cb-db2cd632c2be"
      },
      "source": [
        "!echo $JAVA_HOME\n",
        "!echo $HADOOP_HOME\n",
        "!echo $HBASE_HOME"
      ],
      "execution_count": 11,
      "outputs": [
        {
          "output_type": "stream",
          "name": "stdout",
          "text": [
            "/usr/lib/jvm/java-8-openjdk-amd64\n",
            "/usr/local/hadoop-3.3.3/\n",
            "/content/hbase-2.4.15/\n"
          ]
        }
      ]
    },
    {
      "cell_type": "code",
      "metadata": {
        "id": "9kDmgFfh6a12"
      },
      "source": [
        "# the file hbase-site.xml may need to be updated ...\n",
        "# however the default file works well in the simple stand-alone HBase mode\n",
        "# so no need to touch it\n",
        "#!cat $HBASE_HOME/conf/hbase-site.xml"
      ],
      "execution_count": null,
      "outputs": []
    },
    {
      "cell_type": "markdown",
      "metadata": {
        "id": "BWn-DJ1PDbXd"
      },
      "source": [
        "## Some Clean UP\n",
        "Otherwise we get ugly warnings"
      ]
    },
    {
      "cell_type": "markdown",
      "source": [
        "### we have installed hadoop and hbase, both of them are having some overlapping functions.One painfully overlapping function is the logging function."
      ],
      "metadata": {
        "id": "FXpEwkrBHm24"
      }
    },
    {
      "cell_type": "code",
      "metadata": {
        "colab": {
          "base_uri": "https://localhost:8080/"
        },
        "id": "bKG7t8sQDj2t",
        "outputId": "9e046b36-1d3a-4ff6-d9d7-84d8ad916e6d"
      },
      "source": [
        "# locate multiple instances of slf4j ...\n",
        "!ls $HADOOP_HOME/share/hadoop/common/lib/*slf4j*\n",
        "!ls $HBASE_HOME/lib/*slf4j*\n",
        "!ls /content/hbase-2.4.15/lib/client-facing-thirdparty/slf4j-reload4j-1.7.33.jar\n",
        "#ls /content/hbase-2.5.0/lib/client-facing-thirdparty/slf4j-api-1.7.33.jar"
      ],
      "execution_count": 12,
      "outputs": [
        {
          "output_type": "stream",
          "name": "stdout",
          "text": [
            "/usr/local/hadoop-3.3.3//share/hadoop/common/lib/jul-to-slf4j-1.7.36.jar\n",
            "/usr/local/hadoop-3.3.3//share/hadoop/common/lib/slf4j-api-1.7.36.jar\n",
            "/usr/local/hadoop-3.3.3//share/hadoop/common/lib/slf4j-reload4j-1.7.36.jar\n",
            "/content/hbase-2.4.15//lib/jcl-over-slf4j-1.7.33.jar\n",
            "/content/hbase-2.4.15//lib/jul-to-slf4j-1.7.33.jar\n",
            "/content/hbase-2.4.15/lib/client-facing-thirdparty/slf4j-reload4j-1.7.33.jar\n"
          ]
        }
      ]
    },
    {
      "cell_type": "code",
      "metadata": {
        "id": "6OaOkjD5EOr0"
      },
      "source": [
        "# remove the Hadoop logger out of the path\n",
        "# without this you will get ugly warnings every time\n",
        "#!mv /usr/local/hadoop-3.3.3//share/hadoop/common/lib/slf4j-log4j12-1.7.25.jar .\n",
        "#!mv /usr/local/hadoop-3.3.3//share/hadoop/common/lib/slf4j-api-1.7.36.jar .\n",
        "#!mv /usr/local/hadoop-3.3.3//share/hadoop/common/lib/slf4j-reload4j-1.7.36.jar .\n",
        "!mv /content/hbase-2.4.15/lib/client-facing-thirdparty/slf4j-reload4j-1.7.33.jar .\n",
        "#!mv /content/hbase-2.5.0/lib/client-facing-thirdparty/slf4j-api-1.7.33.jar ."
      ],
      "execution_count": 13,
      "outputs": []
    },
    {
      "cell_type": "markdown",
      "source": [
        "### so, we have removed hbase slf4 path and now we are in position to start the Hbase server. we can start hadoop first, or we can start hbase first. what we do is we keep hadoop dormant, whenever hbase requires, it starts it up. that is why it is slighltly slower."
      ],
      "metadata": {
        "id": "-S6uDEjlIZD0"
      }
    },
    {
      "cell_type": "markdown",
      "metadata": {
        "id": "uA03iA4XFN_E"
      },
      "source": [
        "## Start HBase server"
      ]
    },
    {
      "cell_type": "code",
      "source": [
        "#!stop-hbase.sh"
      ],
      "metadata": {
        "id": "SOFDd_XCvBET"
      },
      "execution_count": null,
      "outputs": []
    },
    {
      "cell_type": "code",
      "metadata": {
        "colab": {
          "base_uri": "https://localhost:8080/"
        },
        "id": "GMQHzlCO7MDC",
        "outputId": "a5ae385d-58dd-48e8-ce33-07b640b71544"
      },
      "source": [
        "!start-hbase.sh"
      ],
      "execution_count": 14,
      "outputs": [
        {
          "output_type": "stream",
          "name": "stdout",
          "text": [
            "running master, logging to /content/hbase-2.4.15//logs/hbase--master-72a80941cd57.out\n"
          ]
        }
      ]
    },
    {
      "cell_type": "code",
      "metadata": {
        "colab": {
          "base_uri": "https://localhost:8080/"
        },
        "id": "v1imUqpf7apm",
        "outputId": "d6352a63-5406-4ff9-e5da-a43d111dca23"
      },
      "source": [
        "!jps"
      ],
      "execution_count": 15,
      "outputs": [
        {
          "output_type": "stream",
          "name": "stdout",
          "text": [
            "1412 HMaster\n",
            "1738 Jps\n"
          ]
        }
      ]
    },
    {
      "cell_type": "markdown",
      "metadata": {
        "id": "gd6mdgPSFSvB"
      },
      "source": [
        "# Run Hbase Shell"
      ]
    },
    {
      "cell_type": "markdown",
      "source": [
        "HBase Shell\n",
        "HBase contains a shell using which you can communicate with HBase. HBase uses the Hadoop File System to store its data. It will have a master server and region servers. The data storage will be in the form of regions (tables). These regions will be split up and stored in region servers.\n",
        "\n",
        "The master server manages these region servers and all these tasks take place on HDFS. Given below are some of the commands supported by HBase Shell.\n",
        "\n",
        "General Commands\n",
        "status - Provides the status of HBase, for example, the number of servers.\n",
        "\n",
        "version - Provides the version of HBase being used.\n",
        "\n",
        "table_help - Provides help for table-reference commands.\n",
        "\n",
        "whoami - Provides information about the user."
      ],
      "metadata": {
        "id": "-tEKHWiFZ488"
      }
    },
    {
      "cell_type": "markdown",
      "source": [
        "### now, Hbase is running but to access it, one technique is shell approach,as if it is stting on a machine where hbase is installed, and it is giving the shell command to access it"
      ],
      "metadata": {
        "id": "wk-IK9pDI_zJ"
      }
    },
    {
      "cell_type": "code",
      "metadata": {
        "colab": {
          "base_uri": "https://localhost:8080/"
        },
        "id": "42DJQfpY7oqe",
        "outputId": "5b7e91b7-30f2-478e-8895-2c17c5a2aeec"
      },
      "source": [
        "# you can enter hbase shell commands at the prompt. Double click on the prompt to open up a input box\n",
        "!hbase shell "
      ],
      "execution_count": 16,
      "outputs": [
        {
          "output_type": "stream",
          "name": "stdout",
          "text": [
            "HBase Shell\n",
            "Use \"help\" to get list of supported commands.\n",
            "Use \"exit\" to quit this interactive shell.\n",
            "For Reference, please visit: http://hbase.apache.org/2.0/book.html#shell\n",
            "Version 2.4.15, r35310fcd6b11a1d04d75eb7db2e592dd34e4d5b6, Thu Oct 13 11:42:20 PDT 2022\n",
            "Took 0.0025 seconds                                                             \n",
            "hbase:001:0> exit\n"
          ]
        }
      ]
    },
    {
      "cell_type": "markdown",
      "source": [
        "now, the system will expect pure hbase commands like scan(),get(),put().etc  but whenever we are inside colab, we dont have that ability. in linux system we could do that, we are using a bypass feature of colab but unfortuantely it treats it as a password.So,it is not that much of help."
      ],
      "metadata": {
        "id": "Ey5Dj0mbbD49"
      }
    },
    {
      "cell_type": "markdown",
      "metadata": {
        "id": "qhuHJF4lH6f6"
      },
      "source": [
        "shell commands  <br>\n",
        "https://www.tutorialspoint.com/hbase/hbase_shell.htm <br>\n",
        "https://www.guru99.com/hbase-shell-general-commands.html <br>\n",
        "better way of passing shell commands are given here"
      ]
    },
    {
      "cell_type": "code",
      "metadata": {
        "colab": {
          "base_uri": "https://localhost:8080/"
        },
        "id": "cQdbisL2GQtE",
        "outputId": "36759f47-5a5e-4b52-a5f5-e8b355125096"
      },
      "source": [
        "!echo 'status' | hbase shell -n"
      ],
      "execution_count": 17,
      "outputs": [
        {
          "output_type": "stream",
          "name": "stdout",
          "text": [
            "hbase:001:0> status\n",
            "1 active master, 0 backup masters, 1 servers, 0 dead, 2.0000 average load\n",
            "Took 1.4758 seconds                                                             \n",
            "hbase:002:0> \n"
          ]
        }
      ]
    },
    {
      "cell_type": "markdown",
      "source": [
        "### so,the command I am giving to hbase is actually the 'status', and it is giving the output,so shell is active."
      ],
      "metadata": {
        "id": "pWg7v0ltJ2U5"
      }
    },
    {
      "cell_type": "code",
      "metadata": {
        "id": "0OvCnX8SGkPG"
      },
      "source": [
        "#!echo \"status 'detail'\" | hbase shell -n"
      ],
      "execution_count": null,
      "outputs": []
    },
    {
      "cell_type": "code",
      "metadata": {
        "colab": {
          "base_uri": "https://localhost:8080/"
        },
        "id": "NYhR2DpgIbnU",
        "outputId": "0f0affc9-134a-40e5-dd68-784689c4ae57"
      },
      "source": [
        "!echo \"whoami\" | hbase shell -n"
      ],
      "execution_count": 18,
      "outputs": [
        {
          "output_type": "stream",
          "name": "stdout",
          "text": [
            "hbase:001:0> whoami\n",
            "root (auth:SIMPLE)\n",
            "    groups: root\n",
            "Took 0.0186 seconds                                                             \n",
            "hbase:002:0> \n"
          ]
        }
      ]
    },
    {
      "cell_type": "markdown",
      "metadata": {
        "id": "psoYaCFmAItK"
      },
      "source": [
        "## Simple Tutorial\n",
        "command line tutorial https://akbarahmed.com/2012/08/13/hbase-command-line-tutorial/"
      ]
    },
    {
      "cell_type": "code",
      "metadata": {
        "colab": {
          "base_uri": "https://localhost:8080/"
        },
        "id": "vG4pok6AJu0V",
        "outputId": "58a36e04-5f21-4ea8-a11f-94b5498667c3"
      },
      "source": [
        "!echo \"create 'table1', 'columnfamily1'\" | hbase shell -n"
      ],
      "execution_count": 19,
      "outputs": [
        {
          "output_type": "stream",
          "name": "stdout",
          "text": [
            "hbase:001:0> create 'table1', 'columnfamily1'\n",
            "Created table table1\n",
            "Took 1.5324 seconds                                                             \n",
            "=> Hbase::Table - table1\n",
            "hbase:002:0> \n"
          ]
        }
      ]
    },
    {
      "cell_type": "code",
      "metadata": {
        "colab": {
          "base_uri": "https://localhost:8080/"
        },
        "id": "Mb26zNcdKJpC",
        "outputId": "e0a209f7-9be2-4a34-b7c9-da1efd6564fb"
      },
      "source": [
        "!echo \"list\" | hbase shell -n"
      ],
      "execution_count": 20,
      "outputs": [
        {
          "output_type": "stream",
          "name": "stdout",
          "text": [
            "hbase:001:0> list\n",
            "TABLE                                                                           \n",
            "table1                                                                          \n",
            "1 row(s)\n",
            "Took 1.1085 seconds                                                             \n",
            "=> [\"table1\"]\n",
            "hbase:002:0> \n"
          ]
        }
      ]
    },
    {
      "cell_type": "code",
      "metadata": {
        "colab": {
          "base_uri": "https://localhost:8080/"
        },
        "id": "xb9m6ahLKxDK",
        "outputId": "1a0f3dfb-0e3e-42a5-e9c5-875d5a340906"
      },
      "source": [
        "!echo \"create 'cars', 'vi'\" | hbase shell -n"
      ],
      "execution_count": 21,
      "outputs": [
        {
          "output_type": "stream",
          "name": "stdout",
          "text": [
            "hbase:001:0> create 'cars', 'vi'\n",
            "Created table cars\n",
            "Took 1.5397 seconds                                                             \n",
            "=> Hbase::Table - cars\n",
            "hbase:002:0> \n"
          ]
        }
      ]
    },
    {
      "cell_type": "code",
      "metadata": {
        "colab": {
          "base_uri": "https://localhost:8080/"
        },
        "id": "InyhsYkXK_j9",
        "outputId": "9f52a9fb-cc16-4364-acc9-b004e8102d88"
      },
      "source": [
        "!echo \"list\" | hbase shell -n"
      ],
      "execution_count": 22,
      "outputs": [
        {
          "output_type": "stream",
          "name": "stdout",
          "text": [
            "hbase:001:0> list\n",
            "TABLE                                                                           \n",
            "cars                                                                            \n",
            "table1                                                                          \n",
            "2 row(s)\n",
            "Took 1.0744 seconds                                                             \n",
            "=> [\"cars\", \"table1\"]\n",
            "hbase:002:0> \n"
          ]
        }
      ]
    },
    {
      "cell_type": "code",
      "metadata": {
        "colab": {
          "base_uri": "https://localhost:8080/"
        },
        "id": "L1ktyGL5LHG7",
        "outputId": "b3965011-9db5-4a39-b65d-a8a45ba2c28a"
      },
      "source": [
        "# add ONE row\n",
        "# nearly THREE seconds per row ... what will you do with a million rows? wait for bulk loader\n",
        "!echo \"put 'cars', 'row1', 'vi:make', 'bmw'\" | hbase shell -n\n",
        "!echo \"put 'cars', 'row1', 'vi:model', '5 series'\" | hbase shell -n\n",
        "!echo \"put 'cars', 'row1', 'vi:year', '2012'\" | hbase shell -n"
      ],
      "execution_count": 23,
      "outputs": [
        {
          "output_type": "stream",
          "name": "stdout",
          "text": [
            "hbase:001:0> put 'cars', 'row1', 'vi:make', 'bmw'\n",
            "Took 0.8408 seconds                                                             \n",
            "hbase:002:0> \n",
            "hbase:001:0> put 'cars', 'row1', 'vi:model', '5 series'\n",
            "Took 0.9941 seconds                                                             \n",
            "hbase:002:0> \n",
            "hbase:001:0> put 'cars', 'row1', 'vi:year', '2012'\n",
            "Took 1.0578 seconds                                                             \n",
            "hbase:002:0> \n"
          ]
        }
      ]
    },
    {
      "cell_type": "code",
      "metadata": {
        "colab": {
          "base_uri": "https://localhost:8080/"
        },
        "id": "aDyHCB9_MsUy",
        "outputId": "87d17320-e085-4b49-ec23-849c2919ca1d"
      },
      "source": [
        "%%time\n",
        "# add ONE row\n",
        "!echo \"put 'cars', 'row2', 'vi:make', 'mercedes'\" | hbase shell -n\n",
        "!echo \"put 'cars', 'row2', 'vi:model', 'e class'\" | hbase shell -n\n",
        "!echo \"put 'cars', 'row2', 'vi:year', '2012'\" | hbase shell -n"
      ],
      "execution_count": 24,
      "outputs": [
        {
          "output_type": "stream",
          "name": "stdout",
          "text": [
            "hbase:001:0> put 'cars', 'row2', 'vi:make', 'mercedes'\n",
            "Took 1.0543 seconds                                                             \n",
            "hbase:002:0> \n",
            "hbase:001:0> put 'cars', 'row2', 'vi:model', 'e class'\n",
            "Took 0.9331 seconds                                                             \n",
            "hbase:002:0> \n",
            "hbase:001:0> put 'cars', 'row2', 'vi:year', '2012'\n",
            "Took 1.0611 seconds                                                             \n",
            "hbase:002:0> \n",
            "CPU times: user 521 ms, sys: 86 ms, total: 607 ms\n",
            "Wall time: 1min 3s\n"
          ]
        }
      ]
    },
    {
      "cell_type": "code",
      "metadata": {
        "colab": {
          "base_uri": "https://localhost:8080/"
        },
        "id": "YJ2RISDNN1gT",
        "outputId": "43f91993-8b36-4985-c2f8-e0d0d03e93d4"
      },
      "source": [
        "%%time\n",
        "!echo \"scan 'cars'\" | hbase shell -n"
      ],
      "execution_count": 25,
      "outputs": [
        {
          "output_type": "stream",
          "name": "stdout",
          "text": [
            "hbase:001:0> scan 'cars'\n",
            "ROW                   COLUMN+CELL                                               \n",
            " row1                 column=vi:make, timestamp=2022-11-07T05:11:06.580, value=b\n",
            "                      mw                                                        \n",
            " row1                 column=vi:model, timestamp=2022-11-07T05:11:27.628, value=\n",
            "                      5 series                                                  \n",
            " row1                 column=vi:year, timestamp=2022-11-07T05:11:48.962, value=2\n",
            "                      012                                                       \n",
            " row2                 column=vi:make, timestamp=2022-11-07T05:13:48.336, value=m\n",
            "                      ercedes                                                   \n",
            " row2                 column=vi:model, timestamp=2022-11-07T05:14:09.129, value=\n",
            "                      e class                                                   \n",
            " row2                 column=vi:year, timestamp=2022-11-07T05:14:29.876, value=2\n",
            "                      012                                                       \n",
            "2 row(s)\n",
            "Took 0.9226 seconds                                                             \n",
            "hbase:002:0> \n",
            "CPU times: user 164 ms, sys: 34.6 ms, total: 199 ms\n",
            "Wall time: 20.9 s\n"
          ]
        }
      ]
    },
    {
      "cell_type": "code",
      "metadata": {
        "colab": {
          "base_uri": "https://localhost:8080/"
        },
        "id": "sMadzGtQOVpM",
        "outputId": "fb4feb13-bfc9-4088-cebd-313ed3b04d7b"
      },
      "source": [
        "!echo \"scan 'cars', {COLUMNS => ['vi:make']}\" | hbase shell -n"
      ],
      "execution_count": 26,
      "outputs": [
        {
          "output_type": "stream",
          "name": "stdout",
          "text": [
            "hbase:001:0> scan 'cars', {COLUMNS => ['vi:make']}\n",
            "ROW                   COLUMN+CELL                                               \n",
            " row1                 column=vi:make, timestamp=2022-11-07T05:11:06.580, value=b\n",
            "                      mw                                                        \n",
            " row2                 column=vi:make, timestamp=2022-11-07T05:13:48.336, value=m\n",
            "                      ercedes                                                   \n",
            "2 row(s)\n",
            "Took 1.2318 seconds                                                             \n",
            "hbase:002:0> \n"
          ]
        }
      ]
    },
    {
      "cell_type": "code",
      "source": [
        "!echo \"get 'cars', 'row1'\"| hbase shell -n"
      ],
      "metadata": {
        "id": "SDVs9Yux2YPu",
        "outputId": "8683878e-188c-4173-97bf-b881e50983cd",
        "colab": {
          "base_uri": "https://localhost:8080/"
        }
      },
      "execution_count": 27,
      "outputs": [
        {
          "output_type": "stream",
          "name": "stdout",
          "text": [
            "hbase:001:0> get 'cars', 'row1'\n",
            "COLUMN                CELL                                                      \n",
            " vi:make              timestamp=2022-11-07T05:11:06.580, value=bmw              \n",
            " vi:model             timestamp=2022-11-07T05:11:27.628, value=5 series         \n",
            " vi:year              timestamp=2022-11-07T05:11:48.962, value=2012             \n",
            "1 row(s)\n",
            "Took 1.3830 seconds                                                             \n",
            "hbase:002:0> \n"
          ]
        }
      ]
    },
    {
      "cell_type": "code",
      "source": [
        "!echo \"get 'cars', 'row1', 'vi:make' \"| hbase shell -n"
      ],
      "metadata": {
        "id": "2F0-Eps93FxF",
        "outputId": "f34d92dc-c5df-4e5c-e24f-e47d404d5bcb",
        "colab": {
          "base_uri": "https://localhost:8080/"
        }
      },
      "execution_count": 28,
      "outputs": [
        {
          "output_type": "stream",
          "name": "stdout",
          "text": [
            "hbase:001:0> get 'cars', 'row1', 'vi:make' \n",
            "COLUMN                CELL                                                      \n",
            " vi:make              timestamp=2022-11-07T05:11:06.580, value=bmw              \n",
            "1 row(s)\n",
            "Took 1.4494 seconds                                                             \n",
            "hbase:002:0> \n"
          ]
        }
      ]
    },
    {
      "cell_type": "markdown",
      "source": [
        "### Versioning"
      ],
      "metadata": {
        "id": "TI4nTpqu9xtz"
      }
    },
    {
      "cell_type": "markdown",
      "source": [
        "### now,I am updating the data, last time it was bmw, now it is bmw-v2, so new version of data is going in"
      ],
      "metadata": {
        "id": "6uyabJElimQI"
      }
    },
    {
      "cell_type": "code",
      "source": [
        "# add the same row a second time\n",
        "!echo \"put 'cars', 'row1', 'vi:make', 'bmw-v2'\" | hbase shell -n"
      ],
      "metadata": {
        "id": "5jK9-93r30Dp",
        "outputId": "912a3ee0-2054-4145-91ae-2d0efa565853",
        "colab": {
          "base_uri": "https://localhost:8080/"
        }
      },
      "execution_count": 29,
      "outputs": [
        {
          "output_type": "stream",
          "name": "stdout",
          "text": [
            "hbase:001:0> put 'cars', 'row1', 'vi:make', 'bmw-v2'\n",
            "Took 1.0880 seconds                                                             \n",
            "hbase:002:0> \n"
          ]
        }
      ]
    },
    {
      "cell_type": "code",
      "source": [
        "!echo \"get 'cars', 'row1', 'vi:make' \"| hbase shell -n"
      ],
      "metadata": {
        "id": "uVo7y5sx4Psd",
        "outputId": "fd17b31b-36af-4876-f7a4-0b4147a21690",
        "colab": {
          "base_uri": "https://localhost:8080/"
        }
      },
      "execution_count": 30,
      "outputs": [
        {
          "output_type": "stream",
          "name": "stdout",
          "text": [
            "hbase:001:0> get 'cars', 'row1', 'vi:make' \n",
            "COLUMN                CELL                                                      \n",
            " vi:make              timestamp=2022-11-07T05:24:32.248, value=bmw-v2           \n",
            "1 row(s)\n",
            "Took 1.1621 seconds                                                             \n",
            "hbase:002:0> \n"
          ]
        }
      ]
    },
    {
      "cell_type": "markdown",
      "source": [
        "### here, we are only getting last version of data, only bmw-v2"
      ],
      "metadata": {
        "id": "ZKoXVz9rjg82"
      }
    },
    {
      "cell_type": "code",
      "source": [
        "!echo \"get 'cars', 'row1',  {COLUMN => 'vi:make', VERSIONS => 2} \"| hbase shell -n"
      ],
      "metadata": {
        "id": "HwG3kO_P4u_G",
        "outputId": "d3d10f56-3f09-422a-e13d-771be4f9b17e",
        "colab": {
          "base_uri": "https://localhost:8080/"
        }
      },
      "execution_count": 31,
      "outputs": [
        {
          "output_type": "stream",
          "name": "stdout",
          "text": [
            "hbase:001:0> get 'cars', 'row1',  {COLUMN => 'vi:make', VERSIONS => 2} \n",
            "COLUMN                CELL                                                      \n",
            " vi:make              timestamp=2022-11-07T05:24:32.248, value=bmw-v2           \n",
            "1 row(s)\n",
            "Took 1.1930 seconds                                                             \n",
            "hbase:002:0> \n"
          ]
        }
      ]
    },
    {
      "cell_type": "markdown",
      "source": [
        "### by default, the first value has no version, so, version 2 will be bmw-v2, and the original data will be washed out."
      ],
      "metadata": {
        "id": "Up-O9wInkNi_"
      }
    },
    {
      "cell_type": "code",
      "source": [
        "# versioning is not setup by default\n",
        "! echo \"alter 'cars', NAME=>'vi', VERSIONS=>3\" | hbase shell -n"
      ],
      "metadata": {
        "id": "WfE76SyV8ppK",
        "outputId": "4ba196fe-c78c-4f97-e6ec-8017d2c2348b",
        "colab": {
          "base_uri": "https://localhost:8080/"
        }
      },
      "execution_count": 32,
      "outputs": [
        {
          "output_type": "stream",
          "name": "stdout",
          "text": [
            "hbase:001:0> alter 'cars', NAME=>'vi', VERSIONS=>3\n",
            "Updating all regions with the new schema...\n",
            "1/1 regions updated.\n",
            "Done.\n",
            "Took 3.1522 seconds                                                             \n",
            "hbase:002:0> \n"
          ]
        }
      ]
    },
    {
      "cell_type": "markdown",
      "source": [
        "### now, I am altering the table my making it version 3. so the table is versionable now. now if I retreive the data after updating, I should get the previous one also. "
      ],
      "metadata": {
        "id": "IKV_cCBHlYnY"
      }
    },
    {
      "cell_type": "code",
      "source": [
        "# add the same row a third time\n",
        "!echo \"put 'cars', 'row1', 'vi:make', 'bmw-v3'\" | hbase shell -n"
      ],
      "metadata": {
        "id": "cn6iZqLo89DT",
        "outputId": "e4d9bfa8-87f1-417b-b6c8-c967ad558057",
        "colab": {
          "base_uri": "https://localhost:8080/"
        }
      },
      "execution_count": 33,
      "outputs": [
        {
          "output_type": "stream",
          "name": "stdout",
          "text": [
            "hbase:001:0> put 'cars', 'row1', 'vi:make', 'bmw-v3'\n",
            "Took 1.2502 seconds                                                             \n",
            "hbase:002:0> \n"
          ]
        }
      ]
    },
    {
      "cell_type": "code",
      "source": [
        "!echo \"get 'cars', 'row1',  {COLUMN => 'vi:make', VERSIONS => 2} \"| hbase shell -n"
      ],
      "metadata": {
        "id": "IIeysAjZ9Z9-",
        "outputId": "a763372b-b9f2-4d92-9667-2f1b3827f540",
        "colab": {
          "base_uri": "https://localhost:8080/"
        }
      },
      "execution_count": 34,
      "outputs": [
        {
          "output_type": "stream",
          "name": "stdout",
          "text": [
            "hbase:001:0> get 'cars', 'row1',  {COLUMN => 'vi:make', VERSIONS => 2} \n",
            "COLUMN                CELL                                                      \n",
            " vi:make              timestamp=2022-11-07T05:32:59.441, value=bmw-v3           \n",
            " vi:make              timestamp=2022-11-07T05:24:32.248, value=bmw-v2           \n",
            "1 row(s)\n",
            "Took 1.0098 seconds                                                             \n",
            "hbase:002:0> \n"
          ]
        }
      ]
    },
    {
      "cell_type": "code",
      "metadata": {
        "colab": {
          "base_uri": "https://localhost:8080/"
        },
        "id": "KBFVcL95PgSB",
        "outputId": "81ea3902-8658-4ba1-cca5-45b4f9c63056"
      },
      "source": [
        "!echo \"disable 'cars'\" | hbase shell -n\n",
        "!echo \"drop 'cars'\" | hbase shell -n"
      ],
      "execution_count": 35,
      "outputs": [
        {
          "output_type": "stream",
          "name": "stdout",
          "text": [
            "hbase:001:0> disable 'cars'\n",
            "Took 1.6955 seconds                                                             \n",
            "hbase:002:0> \n",
            "hbase:001:0> drop 'cars'\n",
            "Took 1.4621 seconds                                                             \n",
            "hbase:002:0> \n"
          ]
        }
      ]
    },
    {
      "cell_type": "markdown",
      "metadata": {
        "id": "EztkGD3HPYhb"
      },
      "source": [
        "#Bulk Data Load\n",
        "https://people.apache.org/~stack/site/bulk-loads.html"
      ]
    },
    {
      "cell_type": "code",
      "metadata": {
        "colab": {
          "base_uri": "https://localhost:8080/"
        },
        "id": "v3z4W7zYzbEP",
        "outputId": "65facd82-968c-4927-c99c-5e8a9d149007"
      },
      "source": [
        "#Data as CSV file\n",
        "!gdown https://drive.google.com/uc?id=1B6szzHNG7BCToKOktRiGUfFblrp1f_GC  # cars2.csv"
      ],
      "execution_count": 36,
      "outputs": [
        {
          "output_type": "stream",
          "name": "stdout",
          "text": [
            "Downloading...\n",
            "From: https://drive.google.com/uc?id=1B6szzHNG7BCToKOktRiGUfFblrp1f_GC\n",
            "To: /content/cars2.csv\n",
            "\r  0% 0.00/54.0 [00:00<?, ?B/s]\r100% 54.0/54.0 [00:00<00:00, 63.9kB/s]\n"
          ]
        }
      ]
    },
    {
      "cell_type": "code",
      "metadata": {
        "colab": {
          "base_uri": "https://localhost:8080/"
        },
        "id": "rBJ063HuoDhA",
        "outputId": "39d296e9-c5b0-4bf6-b672-a2a0ceb68a72"
      },
      "source": [
        "# see the data, cat command reads data from the file and gives their content as output.\n",
        "!cat cars2.csv"
      ],
      "execution_count": 37,
      "outputs": [
        {
          "output_type": "stream",
          "name": "stdout",
          "text": [
            "Ford,Ecosport,2019\r\n",
            "Hyundai,i20,2015\r\n",
            "Maruti,Omni,2007"
          ]
        }
      ]
    },
    {
      "cell_type": "code",
      "metadata": {
        "id": "EkEIeHtHkc3L"
      },
      "source": [
        "#!echo \"disable 'cars2'\" | hbase shell -n\n",
        "#!echo \"drop 'cars2'\" | hbase shell -n"
      ],
      "execution_count": null,
      "outputs": []
    },
    {
      "cell_type": "markdown",
      "source": [
        "### now, we are creating a new table called car2, with a column family containing columns 'make','model',and'year'."
      ],
      "metadata": {
        "id": "YNuItI6impHY"
      }
    },
    {
      "cell_type": "code",
      "metadata": {
        "colab": {
          "base_uri": "https://localhost:8080/"
        },
        "id": "rOlmaKHFewdi",
        "outputId": "0da3d23a-b4c7-469e-cac3-ff173df5db7c"
      },
      "source": [
        "#create 'sensor','temp','vibration','pressure'\n",
        "!echo \"create 'cars2', 'make','model','year'\" | hbase shell -n"
      ],
      "execution_count": 38,
      "outputs": [
        {
          "output_type": "stream",
          "name": "stdout",
          "text": [
            "hbase:001:0> create 'cars2', 'make','model','year'\n",
            "Created table cars2\n",
            "Took 1.7701 seconds                                                             \n",
            "=> Hbase::Table - cars2\n",
            "hbase:002:0> \n"
          ]
        }
      ]
    },
    {
      "cell_type": "code",
      "metadata": {
        "colab": {
          "base_uri": "https://localhost:8080/"
        },
        "id": "Hg002j_6fKQx",
        "outputId": "30b20470-9232-4296-b8b1-11a6860f6819"
      },
      "source": [
        "!echo \"list\" | hbase shell -n"
      ],
      "execution_count": 39,
      "outputs": [
        {
          "output_type": "stream",
          "name": "stdout",
          "text": [
            "hbase:001:0> list\n",
            "TABLE                                                                           \n",
            "cars2                                                                           \n",
            "table1                                                                          \n",
            "2 row(s)\n",
            "Took 0.8658 seconds                                                             \n",
            "=> [\"cars2\", \"table1\"]\n",
            "hbase:002:0> \n"
          ]
        }
      ]
    },
    {
      "cell_type": "code",
      "metadata": {
        "colab": {
          "base_uri": "https://localhost:8080/"
        },
        "id": "L0xLDl6_iHBA",
        "outputId": "2d3d8b03-e75b-4c29-d142-95fb8976d069"
      },
      "source": [
        "!cat cars2.csv"
      ],
      "execution_count": 40,
      "outputs": [
        {
          "output_type": "stream",
          "name": "stdout",
          "text": [
            "Ford,Ecosport,2019\r\n",
            "Hyundai,i20,2015\r\n",
            "Maruti,Omni,2007"
          ]
        }
      ]
    },
    {
      "cell_type": "markdown",
      "source": [
        "### now, hbase is running on hdfs, the csv file first has to move in hdfs,when we install hadoop, we have to create a hdfs directory, where hdfs file systems will be stored. default set up is /tmp . so first we have to move the file from normal directory to hdfs directory,so, we will use the hdfs command"
      ],
      "metadata": {
        "id": "OLjovwpKnMj3"
      }
    },
    {
      "cell_type": "code",
      "source": [
        "!ls #local directory"
      ],
      "metadata": {
        "colab": {
          "base_uri": "https://localhost:8080/"
        },
        "id": "JF_0RpDzonOt",
        "outputId": "add5ca80-ba54-4e17-f8dc-61b864470b06"
      },
      "execution_count": 42,
      "outputs": [
        {
          "output_type": "stream",
          "name": "stdout",
          "text": [
            "cars2.csv\t     hbase-2.4.15\t      sample_data\t\t tmp\n",
            "hadoop-3.3.3.tar.gz  hbase-2.4.15-bin.tar.gz  slf4j-reload4j-1.7.33.jar\n"
          ]
        }
      ]
    },
    {
      "cell_type": "code",
      "metadata": {
        "id": "EYhznehYfZiC"
      },
      "source": [
        "# input file has to be moved from regular file system to HDFS file system\n",
        "!hdfs dfs -copyFromLocal cars2.csv /tmp"
      ],
      "execution_count": 43,
      "outputs": []
    },
    {
      "cell_type": "markdown",
      "source": [
        "### in our case, it doesnot matter because we are using single cluster machine but actually, it moves to multiple cluster machines from a local directory. "
      ],
      "metadata": {
        "id": "BcbylAxso_bD"
      }
    },
    {
      "cell_type": "code",
      "metadata": {
        "id": "CF5loP6EfxuW"
      },
      "source": [
        "# https://community.cloudera.com/t5/Community-Articles/Import-CSV-data-into-HBase-using-importtsv/ta-p/244842\n",
        "#hbase org.apache.hadoop.hbase.mapreduce.ImportTsv -Dimporttsv.separator=,  -Dimporttsv.columns=\"HBASE_ROW_KEY,id,temp:in,temp:out,vibration,pressure:in,pressure:out\" sensor hdfs://sandbox.hortonworks.com:/tmp/hbase.csv\n",
        "!hbase org.apache.hadoop.hbase.mapreduce.ImportTsv -Dimporttsv.separator=','  -Dimporttsv.columns=\"HBASE_ROW_KEY,make,model,year\" cars2 /tmp/cars2.csv"
      ],
      "execution_count": null,
      "outputs": []
    },
    {
      "cell_type": "markdown",
      "source": [
        "### so, we haved loaded the file in hadoop"
      ],
      "metadata": {
        "id": "WDdkZ19EqBHS"
      }
    },
    {
      "cell_type": "code",
      "metadata": {
        "colab": {
          "base_uri": "https://localhost:8080/"
        },
        "id": "CSs-MATjgw6p",
        "outputId": "071a0810-827d-44ff-a3c3-f8e0bc8b1c8d"
      },
      "source": [
        "!echo \"scan 'cars2'\" | hbase shell -n"
      ],
      "execution_count": 45,
      "outputs": [
        {
          "output_type": "stream",
          "name": "stdout",
          "text": [
            "hbase:001:0> scan 'cars2'\n",
            "ROW                   COLUMN+CELL                                               \n",
            " Ford                 column=make:, timestamp=2022-11-07T05:54:21.506, value=Eco\n",
            "                      sport                                                     \n",
            " Ford                 column=model:, timestamp=2022-11-07T05:54:21.506, value=20\n",
            "                      19                                                        \n",
            " Hyundai              column=make:, timestamp=2022-11-07T05:54:21.506, value=i20\n",
            " Hyundai              column=model:, timestamp=2022-11-07T05:54:21.506, value=20\n",
            "                      15                                                        \n",
            " Maruti               column=make:, timestamp=2022-11-07T05:54:21.506, value=Omn\n",
            "                      i                                                         \n",
            " Maruti               column=model:, timestamp=2022-11-07T05:54:21.506, value=20\n",
            "                      07                                                        \n",
            "3 row(s)\n",
            "Took 1.3764 seconds                                                             \n",
            "hbase:002:0> \n"
          ]
        }
      ]
    },
    {
      "cell_type": "markdown",
      "metadata": {
        "id": "O6PP3akdlVKJ"
      },
      "source": [
        "#Stop HBase"
      ]
    },
    {
      "cell_type": "code",
      "metadata": {
        "colab": {
          "base_uri": "https://localhost:8080/"
        },
        "id": "p28XBoitAWTL",
        "outputId": "fad4cea2-fa5d-41d9-d0c9-98e657e4f59e"
      },
      "source": [
        "!stop-hbase.sh"
      ],
      "execution_count": 46,
      "outputs": [
        {
          "output_type": "stream",
          "name": "stdout",
          "text": [
            "stopping hbase.............\n"
          ]
        }
      ]
    },
    {
      "cell_type": "code",
      "source": [
        "from datetime import datetime\n",
        "import pytz\n",
        "print('signed off at  ',datetime.now(pytz.timezone('Asia/Kolkata')))"
      ],
      "metadata": {
        "id": "5OI2RAbZx_JQ",
        "outputId": "98967aac-307b-407a-fc29-3b17b24becdd",
        "colab": {
          "base_uri": "https://localhost:8080/"
        }
      },
      "execution_count": 47,
      "outputs": [
        {
          "output_type": "stream",
          "name": "stdout",
          "text": [
            "signed off at   2022-11-07 11:29:45.624608+05:30\n"
          ]
        }
      ]
    }
  ]
}