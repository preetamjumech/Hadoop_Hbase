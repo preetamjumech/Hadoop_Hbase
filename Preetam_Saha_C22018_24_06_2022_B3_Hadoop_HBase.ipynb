{
  "nbformat": 4,
  "nbformat_minor": 0,
  "metadata": {
    "colab": {
      "name": "Preetam_Saha_C22018_24_06_2022_B3 Hadoop HBase",
      "provenance": [],
      "collapsed_sections": [],
      "include_colab_link": true
    },
    "kernelspec": {
      "name": "python3",
      "display_name": "Python 3"
    },
    "language_info": {
      "name": "python"
    }
  },
  "cells": [
    {
      "cell_type": "markdown",
      "metadata": {
        "id": "view-in-github",
        "colab_type": "text"
      },
      "source": [
        "<a href=\"https://colab.research.google.com/github/preetamjumech/Hadoop_Hbase_practice/blob/main/Preetam_Saha_C22018_24_06_2022_B3_Hadoop_HBase.ipynb\" target=\"_parent\"><img src=\"https://colab.research.google.com/assets/colab-badge.svg\" alt=\"Open In Colab\"/></a>"
      ]
    },
    {
      "cell_type": "markdown",
      "metadata": {
        "id": "GyYTQEpb1htS"
      },
      "source": [
        "#Hadoop \n",
        "Install and Test"
      ]
    },
    {
      "cell_type": "code",
      "metadata": {
        "id": "_r0IOmlc0-Dt"
      },
      "source": [
        "# The default JVM available at /usr/lib/jvm/java-11-openjdk-amd64/  works for Hadoop\n",
        "# But gives errors with Hive https://stackoverflow.com/questions/54037773/hive-exception-class-jdk-internal-loader-classloadersappclassloader-cannot\n",
        "# Hence this JVM needs to be installed\n",
        "!apt-get update > /dev/null\n",
        "!apt-get install openjdk-8-jdk-headless -qq > /dev/null"
      ],
      "execution_count": 1,
      "outputs": []
    },
    {
      "cell_type": "code",
      "metadata": {
        "colab": {
          "base_uri": "https://localhost:8080/"
        },
        "id": "NWspfH6A1a4P",
        "outputId": "10982823-ef06-4081-9df2-73344dd9d22c"
      },
      "source": [
        "# Download the latest version of Hadoop\n",
        "!wget https://downloads.apache.org/hadoop/common/hadoop-3.3.3/hadoop-3.3.3.tar.gz\n",
        "# Unzip it\n",
        "# the tar command with the -x flag to extract, -z to uncompress, -v for verbose output, and -f to specify that we’re extracting from a file\n",
        "!tar -xzf hadoop-3.3.3.tar.gz\n",
        "#copy  hadoop file to user/local\n",
        "!mv  hadoop-3.3.3/ /usr/local/"
      ],
      "execution_count": 2,
      "outputs": [
        {
          "output_type": "stream",
          "name": "stdout",
          "text": [
            "--2022-06-24 09:17:16--  https://downloads.apache.org/hadoop/common/hadoop-3.3.3/hadoop-3.3.3.tar.gz\n",
            "Resolving downloads.apache.org (downloads.apache.org)... 88.99.95.219, 135.181.214.104, 2a01:4f9:3a:2c57::2, ...\n",
            "Connecting to downloads.apache.org (downloads.apache.org)|88.99.95.219|:443... connected.\n",
            "HTTP request sent, awaiting response... 200 OK\n",
            "Length: 645040598 (615M) [application/x-gzip]\n",
            "Saving to: ‘hadoop-3.3.3.tar.gz’\n",
            "\n",
            "hadoop-3.3.3.tar.gz 100%[===================>] 615.16M  30.4MB/s    in 27s     \n",
            "\n",
            "2022-06-24 09:17:43 (23.0 MB/s) - ‘hadoop-3.3.3.tar.gz’ saved [645040598/645040598]\n",
            "\n"
          ]
        }
      ]
    },
    {
      "cell_type": "code",
      "metadata": {
        "colab": {
          "base_uri": "https://localhost:8080/"
        },
        "id": "24QjQ22V1swJ",
        "outputId": "53efe02f-4a65-4985-f276-a0276ecd16d5"
      },
      "source": [
        "#To find the default Java path\n",
        "!readlink -f /usr/bin/java | sed \"s:bin/java::\"\n",
        "!ls /usr/lib/jvm/"
      ],
      "execution_count": 3,
      "outputs": [
        {
          "output_type": "stream",
          "name": "stdout",
          "text": [
            "/usr/lib/jvm/java-11-openjdk-amd64/\n",
            "default-java\t\t   java-11-openjdk-amd64     java-8-openjdk-amd64\n",
            "java-1.11.0-openjdk-amd64  java-1.8.0-openjdk-amd64\n"
          ]
        }
      ]
    },
    {
      "cell_type": "markdown",
      "metadata": {
        "id": "Ugibq3m1CbgC"
      },
      "source": [
        "## Set Hadoop Environment"
      ]
    },
    {
      "cell_type": "code",
      "metadata": {
        "id": "1j7WFh5k18E1"
      },
      "source": [
        "#To set java path, go to /usr/local/hadoop-3.3.0/etc/hadoop/hadoop-env.sh then\n",
        "#. . . export JAVA_HOME=/usr/lib/jvm/java-11-openjdk-amd64/ . . .\n",
        "#we have used a simpler alternative route using os.environ - it works\n",
        "\n",
        "import os\n",
        "os.environ[\"JAVA_HOME\"] = \"/usr/lib/jvm/java-8-openjdk-amd64\"   # default is changed\n",
        "#os.environ[\"JAVA_HOME\"] = \"/usr/lib/jvm/java-11-openjdk-amd64/\"\n",
        "os.environ[\"HADOOP_HOME\"] = \"/usr/local/hadoop-3.3.3/\""
      ],
      "execution_count": 4,
      "outputs": []
    },
    {
      "cell_type": "code",
      "metadata": {
        "id": "DevjcjSF2ltL"
      },
      "source": [
        "# Get the value of current_path                    #path are collection of directiories where executable files are stored\n",
        "#!echo $PATH"
      ],
      "execution_count": null,
      "outputs": []
    },
    {
      "cell_type": "code",
      "metadata": {
        "id": "NaaMpfVP2p3m"
      },
      "source": [
        "# Add Hadoop BIN to PATH\n",
        "# current_path taken from last command\n",
        "#current_path = '/opt/bin:/usr/local/nvidia/bin:/usr/local/cuda/bin:/usr/local/sbin:/usr/local/bin:/usr/sbin:/usr/bin:/sbin:/bin:/tools/node/bin:/tools/google-cloud-sdk/bin'\n",
        "#new_path = current_path+':/usr/local/hadoop-3.3.3/bin/'\n",
        "#os.environ[\"PATH\"] = new_path\n",
        "\n",
        "current_path = os.getenv('PATH')\n",
        "#new_path = current_path+':/usr/local/hadoop-3.3.0/bin/'\n",
        "new_path = current_path+':/usr/local/hadoop-3.3.3/bin/'\n",
        "os.environ[\"PATH\"] = new_path"
      ],
      "execution_count": 5,
      "outputs": []
    },
    {
      "cell_type": "code",
      "metadata": {
        "id": "ZD34gT3y2u-D",
        "colab": {
          "base_uri": "https://localhost:8080/"
        },
        "outputId": "11064808-3609-4897-9141-97a36d9d3258"
      },
      "source": [
        "# Testing Hadoop with PI generating sample program, should calculate value of pi = 3.14157500000000000000\n",
        "# pi example\n",
        "#Uncomment the following line if  you want to test Hadoop with pi example\n",
        "#!hadoop jar /usr/local/hadoop-3.3.3/share/hadoop/mapreduce/hadoop-mapreduce-examples-3.3.3.jar pi 16 100000"
      ],
      "execution_count": 6,
      "outputs": [
        {
          "output_type": "stream",
          "name": "stdout",
          "text": [
            "Number of Maps  = 16\n",
            "Samples per Map = 100000\n",
            "Wrote input for Map #0\n",
            "Wrote input for Map #1\n",
            "Wrote input for Map #2\n",
            "Wrote input for Map #3\n",
            "Wrote input for Map #4\n",
            "Wrote input for Map #5\n",
            "Wrote input for Map #6\n",
            "Wrote input for Map #7\n",
            "Wrote input for Map #8\n",
            "Wrote input for Map #9\n",
            "Wrote input for Map #10\n",
            "Wrote input for Map #11\n",
            "Wrote input for Map #12\n",
            "Wrote input for Map #13\n",
            "Wrote input for Map #14\n",
            "Wrote input for Map #15\n",
            "Starting Job\n",
            "2022-06-24 09:23:00,990 INFO impl.MetricsConfig: Loaded properties from hadoop-metrics2.properties\n",
            "2022-06-24 09:23:01,099 INFO impl.MetricsSystemImpl: Scheduled Metric snapshot period at 10 second(s).\n",
            "2022-06-24 09:23:01,100 INFO impl.MetricsSystemImpl: JobTracker metrics system started\n",
            "2022-06-24 09:23:01,274 INFO input.FileInputFormat: Total input files to process : 16\n",
            "2022-06-24 09:23:01,292 INFO mapreduce.JobSubmitter: number of splits:16\n",
            "2022-06-24 09:23:01,524 INFO mapreduce.JobSubmitter: Submitting tokens for job: job_local1824338819_0001\n",
            "2022-06-24 09:23:01,524 INFO mapreduce.JobSubmitter: Executing with tokens: []\n",
            "2022-06-24 09:23:01,750 INFO mapreduce.Job: The url to track the job: http://localhost:8080/\n",
            "2022-06-24 09:23:01,751 INFO mapreduce.Job: Running job: job_local1824338819_0001\n",
            "2022-06-24 09:23:01,763 INFO mapred.LocalJobRunner: OutputCommitter set in config null\n",
            "2022-06-24 09:23:01,774 INFO output.FileOutputCommitter: File Output Committer Algorithm version is 2\n",
            "2022-06-24 09:23:01,774 INFO output.FileOutputCommitter: FileOutputCommitter skip cleanup _temporary folders under output directory:false, ignore cleanup failures: false\n",
            "2022-06-24 09:23:01,775 INFO mapred.LocalJobRunner: OutputCommitter is org.apache.hadoop.mapreduce.lib.output.FileOutputCommitter\n",
            "2022-06-24 09:23:01,849 INFO mapred.LocalJobRunner: Waiting for map tasks\n",
            "2022-06-24 09:23:01,850 INFO mapred.LocalJobRunner: Starting task: attempt_local1824338819_0001_m_000000_0\n",
            "2022-06-24 09:23:01,889 INFO output.FileOutputCommitter: File Output Committer Algorithm version is 2\n",
            "2022-06-24 09:23:01,889 INFO output.FileOutputCommitter: FileOutputCommitter skip cleanup _temporary folders under output directory:false, ignore cleanup failures: false\n",
            "2022-06-24 09:23:01,932 INFO mapred.Task:  Using ResourceCalculatorProcessTree : [ ]\n",
            "2022-06-24 09:23:01,942 INFO mapred.MapTask: Processing split: file:/content/QuasiMonteCarlo_1656062580230_1321832377/in/part10:0+118\n",
            "2022-06-24 09:23:02,073 INFO mapred.MapTask: (EQUATOR) 0 kvi 26214396(104857584)\n",
            "2022-06-24 09:23:02,073 INFO mapred.MapTask: mapreduce.task.io.sort.mb: 100\n",
            "2022-06-24 09:23:02,073 INFO mapred.MapTask: soft limit at 83886080\n",
            "2022-06-24 09:23:02,073 INFO mapred.MapTask: bufstart = 0; bufvoid = 104857600\n",
            "2022-06-24 09:23:02,073 INFO mapred.MapTask: kvstart = 26214396; length = 6553600\n",
            "2022-06-24 09:23:02,079 INFO mapred.MapTask: Map output collector class = org.apache.hadoop.mapred.MapTask$MapOutputBuffer\n",
            "2022-06-24 09:23:02,143 INFO mapred.LocalJobRunner: \n",
            "2022-06-24 09:23:02,143 INFO mapred.MapTask: Starting flush of map output\n",
            "2022-06-24 09:23:02,143 INFO mapred.MapTask: Spilling map output\n",
            "2022-06-24 09:23:02,143 INFO mapred.MapTask: bufstart = 0; bufend = 18; bufvoid = 104857600\n",
            "2022-06-24 09:23:02,143 INFO mapred.MapTask: kvstart = 26214396(104857584); kvend = 26214392(104857568); length = 5/6553600\n",
            "2022-06-24 09:23:02,153 INFO mapred.MapTask: Finished spill 0\n",
            "2022-06-24 09:23:02,172 INFO mapred.Task: Task:attempt_local1824338819_0001_m_000000_0 is done. And is in the process of committing\n",
            "2022-06-24 09:23:02,176 INFO mapred.LocalJobRunner: Generated 100000 samples.\n",
            "2022-06-24 09:23:02,176 INFO mapred.Task: Task 'attempt_local1824338819_0001_m_000000_0' done.\n",
            "2022-06-24 09:23:02,192 INFO mapred.Task: Final Counters for attempt_local1824338819_0001_m_000000_0: Counters: 17\n",
            "\tFile System Counters\n",
            "\t\tFILE: Number of bytes read=283465\n",
            "\t\tFILE: Number of bytes written=923577\n",
            "\t\tFILE: Number of read operations=0\n",
            "\t\tFILE: Number of large read operations=0\n",
            "\t\tFILE: Number of write operations=0\n",
            "\tMap-Reduce Framework\n",
            "\t\tMap input records=1\n",
            "\t\tMap output records=2\n",
            "\t\tMap output bytes=18\n",
            "\t\tMap output materialized bytes=28\n",
            "\t\tInput split bytes=129\n",
            "\t\tCombine input records=0\n",
            "\t\tSpilled Records=2\n",
            "\t\tFailed Shuffles=0\n",
            "\t\tMerged Map outputs=0\n",
            "\t\tGC time elapsed (ms)=0\n",
            "\t\tTotal committed heap usage (bytes)=258473984\n",
            "\tFile Input Format Counters \n",
            "\t\tBytes Read=130\n",
            "2022-06-24 09:23:02,192 INFO mapred.LocalJobRunner: Finishing task: attempt_local1824338819_0001_m_000000_0\n",
            "2022-06-24 09:23:02,193 INFO mapred.LocalJobRunner: Starting task: attempt_local1824338819_0001_m_000001_0\n",
            "2022-06-24 09:23:02,195 INFO output.FileOutputCommitter: File Output Committer Algorithm version is 2\n",
            "2022-06-24 09:23:02,197 INFO output.FileOutputCommitter: FileOutputCommitter skip cleanup _temporary folders under output directory:false, ignore cleanup failures: false\n",
            "2022-06-24 09:23:02,197 INFO mapred.Task:  Using ResourceCalculatorProcessTree : [ ]\n",
            "2022-06-24 09:23:02,200 INFO mapred.MapTask: Processing split: file:/content/QuasiMonteCarlo_1656062580230_1321832377/in/part5:0+118\n",
            "2022-06-24 09:23:02,309 INFO mapred.MapTask: (EQUATOR) 0 kvi 26214396(104857584)\n",
            "2022-06-24 09:23:02,309 INFO mapred.MapTask: mapreduce.task.io.sort.mb: 100\n",
            "2022-06-24 09:23:02,309 INFO mapred.MapTask: soft limit at 83886080\n",
            "2022-06-24 09:23:02,309 INFO mapred.MapTask: bufstart = 0; bufvoid = 104857600\n",
            "2022-06-24 09:23:02,309 INFO mapred.MapTask: kvstart = 26214396; length = 6553600\n",
            "2022-06-24 09:23:02,311 INFO mapred.MapTask: Map output collector class = org.apache.hadoop.mapred.MapTask$MapOutputBuffer\n",
            "2022-06-24 09:23:02,321 INFO mapred.LocalJobRunner: \n",
            "2022-06-24 09:23:02,321 INFO mapred.MapTask: Starting flush of map output\n",
            "2022-06-24 09:23:02,321 INFO mapred.MapTask: Spilling map output\n",
            "2022-06-24 09:23:02,321 INFO mapred.MapTask: bufstart = 0; bufend = 18; bufvoid = 104857600\n",
            "2022-06-24 09:23:02,321 INFO mapred.MapTask: kvstart = 26214396(104857584); kvend = 26214392(104857568); length = 5/6553600\n",
            "2022-06-24 09:23:02,323 INFO mapred.MapTask: Finished spill 0\n",
            "2022-06-24 09:23:02,328 INFO mapred.Task: Task:attempt_local1824338819_0001_m_000001_0 is done. And is in the process of committing\n",
            "2022-06-24 09:23:02,331 INFO mapred.LocalJobRunner: Generated 100000 samples.\n",
            "2022-06-24 09:23:02,331 INFO mapred.Task: Task 'attempt_local1824338819_0001_m_000001_0' done.\n",
            "2022-06-24 09:23:02,332 INFO mapred.Task: Final Counters for attempt_local1824338819_0001_m_000001_0: Counters: 17\n",
            "\tFile System Counters\n",
            "\t\tFILE: Number of bytes read=285684\n",
            "\t\tFILE: Number of bytes written=923637\n",
            "\t\tFILE: Number of read operations=0\n",
            "\t\tFILE: Number of large read operations=0\n",
            "\t\tFILE: Number of write operations=0\n",
            "\tMap-Reduce Framework\n",
            "\t\tMap input records=1\n",
            "\t\tMap output records=2\n",
            "\t\tMap output bytes=18\n",
            "\t\tMap output materialized bytes=28\n",
            "\t\tInput split bytes=128\n",
            "\t\tCombine input records=0\n",
            "\t\tSpilled Records=2\n",
            "\t\tFailed Shuffles=0\n",
            "\t\tMerged Map outputs=0\n",
            "\t\tGC time elapsed (ms)=0\n",
            "\t\tTotal committed heap usage (bytes)=363855872\n",
            "\tFile Input Format Counters \n",
            "\t\tBytes Read=130\n",
            "2022-06-24 09:23:02,333 INFO mapred.LocalJobRunner: Finishing task: attempt_local1824338819_0001_m_000001_0\n",
            "2022-06-24 09:23:02,333 INFO mapred.LocalJobRunner: Starting task: attempt_local1824338819_0001_m_000002_0\n",
            "2022-06-24 09:23:02,337 INFO output.FileOutputCommitter: File Output Committer Algorithm version is 2\n",
            "2022-06-24 09:23:02,337 INFO output.FileOutputCommitter: FileOutputCommitter skip cleanup _temporary folders under output directory:false, ignore cleanup failures: false\n",
            "2022-06-24 09:23:02,337 INFO mapred.Task:  Using ResourceCalculatorProcessTree : [ ]\n",
            "2022-06-24 09:23:02,339 INFO mapred.MapTask: Processing split: file:/content/QuasiMonteCarlo_1656062580230_1321832377/in/part13:0+118\n",
            "2022-06-24 09:23:02,443 INFO mapred.MapTask: (EQUATOR) 0 kvi 26214396(104857584)\n",
            "2022-06-24 09:23:02,445 INFO mapred.MapTask: mapreduce.task.io.sort.mb: 100\n",
            "2022-06-24 09:23:02,445 INFO mapred.MapTask: soft limit at 83886080\n",
            "2022-06-24 09:23:02,446 INFO mapred.MapTask: bufstart = 0; bufvoid = 104857600\n",
            "2022-06-24 09:23:02,446 INFO mapred.MapTask: kvstart = 26214396; length = 6553600\n",
            "2022-06-24 09:23:02,447 INFO mapred.MapTask: Map output collector class = org.apache.hadoop.mapred.MapTask$MapOutputBuffer\n",
            "2022-06-24 09:23:02,454 INFO mapred.LocalJobRunner: \n",
            "2022-06-24 09:23:02,454 INFO mapred.MapTask: Starting flush of map output\n",
            "2022-06-24 09:23:02,454 INFO mapred.MapTask: Spilling map output\n",
            "2022-06-24 09:23:02,455 INFO mapred.MapTask: bufstart = 0; bufend = 18; bufvoid = 104857600\n",
            "2022-06-24 09:23:02,455 INFO mapred.MapTask: kvstart = 26214396(104857584); kvend = 26214392(104857568); length = 5/6553600\n",
            "2022-06-24 09:23:02,457 INFO mapred.MapTask: Finished spill 0\n",
            "2022-06-24 09:23:02,459 INFO mapred.Task: Task:attempt_local1824338819_0001_m_000002_0 is done. And is in the process of committing\n",
            "2022-06-24 09:23:02,461 INFO mapred.LocalJobRunner: Generated 100000 samples.\n",
            "2022-06-24 09:23:02,461 INFO mapred.Task: Task 'attempt_local1824338819_0001_m_000002_0' done.\n",
            "2022-06-24 09:23:02,464 INFO mapred.Task: Final Counters for attempt_local1824338819_0001_m_000002_0: Counters: 17\n",
            "\tFile System Counters\n",
            "\t\tFILE: Number of bytes read=287903\n",
            "\t\tFILE: Number of bytes written=923697\n",
            "\t\tFILE: Number of read operations=0\n",
            "\t\tFILE: Number of large read operations=0\n",
            "\t\tFILE: Number of write operations=0\n",
            "\tMap-Reduce Framework\n",
            "\t\tMap input records=1\n",
            "\t\tMap output records=2\n",
            "\t\tMap output bytes=18\n",
            "\t\tMap output materialized bytes=28\n",
            "\t\tInput split bytes=129\n",
            "\t\tCombine input records=0\n",
            "\t\tSpilled Records=2\n",
            "\t\tFailed Shuffles=0\n",
            "\t\tMerged Map outputs=0\n",
            "\t\tGC time elapsed (ms)=0\n",
            "\t\tTotal committed heap usage (bytes)=469237760\n",
            "\tFile Input Format Counters \n",
            "\t\tBytes Read=130\n",
            "2022-06-24 09:23:02,464 INFO mapred.LocalJobRunner: Finishing task: attempt_local1824338819_0001_m_000002_0\n",
            "2022-06-24 09:23:02,464 INFO mapred.LocalJobRunner: Starting task: attempt_local1824338819_0001_m_000003_0\n",
            "2022-06-24 09:23:02,465 INFO output.FileOutputCommitter: File Output Committer Algorithm version is 2\n",
            "2022-06-24 09:23:02,466 INFO output.FileOutputCommitter: FileOutputCommitter skip cleanup _temporary folders under output directory:false, ignore cleanup failures: false\n",
            "2022-06-24 09:23:02,467 INFO mapred.Task:  Using ResourceCalculatorProcessTree : [ ]\n",
            "2022-06-24 09:23:02,470 INFO mapred.MapTask: Processing split: file:/content/QuasiMonteCarlo_1656062580230_1321832377/in/part2:0+118\n",
            "2022-06-24 09:23:02,575 INFO mapred.MapTask: (EQUATOR) 0 kvi 26214396(104857584)\n",
            "2022-06-24 09:23:02,575 INFO mapred.MapTask: mapreduce.task.io.sort.mb: 100\n",
            "2022-06-24 09:23:02,575 INFO mapred.MapTask: soft limit at 83886080\n",
            "2022-06-24 09:23:02,575 INFO mapred.MapTask: bufstart = 0; bufvoid = 104857600\n",
            "2022-06-24 09:23:02,575 INFO mapred.MapTask: kvstart = 26214396; length = 6553600\n",
            "2022-06-24 09:23:02,576 INFO mapred.MapTask: Map output collector class = org.apache.hadoop.mapred.MapTask$MapOutputBuffer\n",
            "2022-06-24 09:23:02,583 INFO mapred.LocalJobRunner: \n",
            "2022-06-24 09:23:02,583 INFO mapred.MapTask: Starting flush of map output\n",
            "2022-06-24 09:23:02,583 INFO mapred.MapTask: Spilling map output\n",
            "2022-06-24 09:23:02,583 INFO mapred.MapTask: bufstart = 0; bufend = 18; bufvoid = 104857600\n",
            "2022-06-24 09:23:02,583 INFO mapred.MapTask: kvstart = 26214396(104857584); kvend = 26214392(104857568); length = 5/6553600\n",
            "2022-06-24 09:23:02,585 INFO mapred.MapTask: Finished spill 0\n",
            "2022-06-24 09:23:02,587 INFO mapred.Task: Task:attempt_local1824338819_0001_m_000003_0 is done. And is in the process of committing\n",
            "2022-06-24 09:23:02,589 INFO mapred.LocalJobRunner: Generated 100000 samples.\n",
            "2022-06-24 09:23:02,589 INFO mapred.Task: Task 'attempt_local1824338819_0001_m_000003_0' done.\n",
            "2022-06-24 09:23:02,590 INFO mapred.Task: Final Counters for attempt_local1824338819_0001_m_000003_0: Counters: 17\n",
            "\tFile System Counters\n",
            "\t\tFILE: Number of bytes read=290122\n",
            "\t\tFILE: Number of bytes written=923757\n",
            "\t\tFILE: Number of read operations=0\n",
            "\t\tFILE: Number of large read operations=0\n",
            "\t\tFILE: Number of write operations=0\n",
            "\tMap-Reduce Framework\n",
            "\t\tMap input records=1\n",
            "\t\tMap output records=2\n",
            "\t\tMap output bytes=18\n",
            "\t\tMap output materialized bytes=28\n",
            "\t\tInput split bytes=128\n",
            "\t\tCombine input records=0\n",
            "\t\tSpilled Records=2\n",
            "\t\tFailed Shuffles=0\n",
            "\t\tMerged Map outputs=0\n",
            "\t\tGC time elapsed (ms)=0\n",
            "\t\tTotal committed heap usage (bytes)=574619648\n",
            "\tFile Input Format Counters \n",
            "\t\tBytes Read=130\n",
            "2022-06-24 09:23:02,590 INFO mapred.LocalJobRunner: Finishing task: attempt_local1824338819_0001_m_000003_0\n",
            "2022-06-24 09:23:02,590 INFO mapred.LocalJobRunner: Starting task: attempt_local1824338819_0001_m_000004_0\n",
            "2022-06-24 09:23:02,591 INFO output.FileOutputCommitter: File Output Committer Algorithm version is 2\n",
            "2022-06-24 09:23:02,591 INFO output.FileOutputCommitter: FileOutputCommitter skip cleanup _temporary folders under output directory:false, ignore cleanup failures: false\n",
            "2022-06-24 09:23:02,592 INFO mapred.Task:  Using ResourceCalculatorProcessTree : [ ]\n",
            "2022-06-24 09:23:02,593 INFO mapred.MapTask: Processing split: file:/content/QuasiMonteCarlo_1656062580230_1321832377/in/part1:0+118\n",
            "2022-06-24 09:23:02,688 INFO mapred.MapTask: (EQUATOR) 0 kvi 26214396(104857584)\n",
            "2022-06-24 09:23:02,688 INFO mapred.MapTask: mapreduce.task.io.sort.mb: 100\n",
            "2022-06-24 09:23:02,688 INFO mapred.MapTask: soft limit at 83886080\n",
            "2022-06-24 09:23:02,688 INFO mapred.MapTask: bufstart = 0; bufvoid = 104857600\n",
            "2022-06-24 09:23:02,688 INFO mapred.MapTask: kvstart = 26214396; length = 6553600\n",
            "2022-06-24 09:23:02,690 INFO mapred.MapTask: Map output collector class = org.apache.hadoop.mapred.MapTask$MapOutputBuffer\n",
            "2022-06-24 09:23:02,696 INFO mapred.LocalJobRunner: \n",
            "2022-06-24 09:23:02,696 INFO mapred.MapTask: Starting flush of map output\n",
            "2022-06-24 09:23:02,696 INFO mapred.MapTask: Spilling map output\n",
            "2022-06-24 09:23:02,696 INFO mapred.MapTask: bufstart = 0; bufend = 18; bufvoid = 104857600\n",
            "2022-06-24 09:23:02,696 INFO mapred.MapTask: kvstart = 26214396(104857584); kvend = 26214392(104857568); length = 5/6553600\n",
            "2022-06-24 09:23:02,699 INFO mapred.MapTask: Finished spill 0\n",
            "2022-06-24 09:23:02,703 INFO mapred.Task: Task:attempt_local1824338819_0001_m_000004_0 is done. And is in the process of committing\n",
            "2022-06-24 09:23:02,705 INFO mapred.LocalJobRunner: Generated 100000 samples.\n",
            "2022-06-24 09:23:02,705 INFO mapred.Task: Task 'attempt_local1824338819_0001_m_000004_0' done.\n",
            "2022-06-24 09:23:02,705 INFO mapred.Task: Final Counters for attempt_local1824338819_0001_m_000004_0: Counters: 17\n",
            "\tFile System Counters\n",
            "\t\tFILE: Number of bytes read=291829\n",
            "\t\tFILE: Number of bytes written=923817\n",
            "\t\tFILE: Number of read operations=0\n",
            "\t\tFILE: Number of large read operations=0\n",
            "\t\tFILE: Number of write operations=0\n",
            "\tMap-Reduce Framework\n",
            "\t\tMap input records=1\n",
            "\t\tMap output records=2\n",
            "\t\tMap output bytes=18\n",
            "\t\tMap output materialized bytes=28\n",
            "\t\tInput split bytes=128\n",
            "\t\tCombine input records=0\n",
            "\t\tSpilled Records=2\n",
            "\t\tFailed Shuffles=0\n",
            "\t\tMerged Map outputs=0\n",
            "\t\tGC time elapsed (ms)=0\n",
            "\t\tTotal committed heap usage (bytes)=680001536\n",
            "\tFile Input Format Counters \n",
            "\t\tBytes Read=130\n",
            "2022-06-24 09:23:02,705 INFO mapred.LocalJobRunner: Finishing task: attempt_local1824338819_0001_m_000004_0\n",
            "2022-06-24 09:23:02,705 INFO mapred.LocalJobRunner: Starting task: attempt_local1824338819_0001_m_000005_0\n",
            "2022-06-24 09:23:02,708 INFO output.FileOutputCommitter: File Output Committer Algorithm version is 2\n",
            "2022-06-24 09:23:02,709 INFO output.FileOutputCommitter: FileOutputCommitter skip cleanup _temporary folders under output directory:false, ignore cleanup failures: false\n",
            "2022-06-24 09:23:02,709 INFO mapred.Task:  Using ResourceCalculatorProcessTree : [ ]\n",
            "2022-06-24 09:23:02,711 INFO mapred.MapTask: Processing split: file:/content/QuasiMonteCarlo_1656062580230_1321832377/in/part0:0+118\n",
            "2022-06-24 09:23:02,762 INFO mapreduce.Job: Job job_local1824338819_0001 running in uber mode : false\n",
            "2022-06-24 09:23:02,763 INFO mapreduce.Job:  map 100% reduce 0%\n",
            "2022-06-24 09:23:02,805 INFO mapred.MapTask: (EQUATOR) 0 kvi 26214396(104857584)\n",
            "2022-06-24 09:23:02,805 INFO mapred.MapTask: mapreduce.task.io.sort.mb: 100\n",
            "2022-06-24 09:23:02,805 INFO mapred.MapTask: soft limit at 83886080\n",
            "2022-06-24 09:23:02,806 INFO mapred.MapTask: bufstart = 0; bufvoid = 104857600\n",
            "2022-06-24 09:23:02,806 INFO mapred.MapTask: kvstart = 26214396; length = 6553600\n",
            "2022-06-24 09:23:02,808 INFO mapred.MapTask: Map output collector class = org.apache.hadoop.mapred.MapTask$MapOutputBuffer\n",
            "2022-06-24 09:23:02,813 INFO mapred.LocalJobRunner: \n",
            "2022-06-24 09:23:02,814 INFO mapred.MapTask: Starting flush of map output\n",
            "2022-06-24 09:23:02,814 INFO mapred.MapTask: Spilling map output\n",
            "2022-06-24 09:23:02,814 INFO mapred.MapTask: bufstart = 0; bufend = 18; bufvoid = 104857600\n",
            "2022-06-24 09:23:02,814 INFO mapred.MapTask: kvstart = 26214396(104857584); kvend = 26214392(104857568); length = 5/6553600\n",
            "2022-06-24 09:23:02,817 INFO mapred.MapTask: Finished spill 0\n",
            "2022-06-24 09:23:02,819 INFO mapred.Task: Task:attempt_local1824338819_0001_m_000005_0 is done. And is in the process of committing\n",
            "2022-06-24 09:23:02,820 INFO mapred.LocalJobRunner: Generated 100000 samples.\n",
            "2022-06-24 09:23:02,820 INFO mapred.Task: Task 'attempt_local1824338819_0001_m_000005_0' done.\n",
            "2022-06-24 09:23:02,821 INFO mapred.Task: Final Counters for attempt_local1824338819_0001_m_000005_0: Counters: 17\n",
            "\tFile System Counters\n",
            "\t\tFILE: Number of bytes read=293536\n",
            "\t\tFILE: Number of bytes written=923877\n",
            "\t\tFILE: Number of read operations=0\n",
            "\t\tFILE: Number of large read operations=0\n",
            "\t\tFILE: Number of write operations=0\n",
            "\tMap-Reduce Framework\n",
            "\t\tMap input records=1\n",
            "\t\tMap output records=2\n",
            "\t\tMap output bytes=18\n",
            "\t\tMap output materialized bytes=28\n",
            "\t\tInput split bytes=128\n",
            "\t\tCombine input records=0\n",
            "\t\tSpilled Records=2\n",
            "\t\tFailed Shuffles=0\n",
            "\t\tMerged Map outputs=0\n",
            "\t\tGC time elapsed (ms)=0\n",
            "\t\tTotal committed heap usage (bytes)=785383424\n",
            "\tFile Input Format Counters \n",
            "\t\tBytes Read=130\n",
            "2022-06-24 09:23:02,821 INFO mapred.LocalJobRunner: Finishing task: attempt_local1824338819_0001_m_000005_0\n",
            "2022-06-24 09:23:02,821 INFO mapred.LocalJobRunner: Starting task: attempt_local1824338819_0001_m_000006_0\n",
            "2022-06-24 09:23:02,829 INFO output.FileOutputCommitter: File Output Committer Algorithm version is 2\n",
            "2022-06-24 09:23:02,829 INFO output.FileOutputCommitter: FileOutputCommitter skip cleanup _temporary folders under output directory:false, ignore cleanup failures: false\n",
            "2022-06-24 09:23:02,829 INFO mapred.Task:  Using ResourceCalculatorProcessTree : [ ]\n",
            "2022-06-24 09:23:02,831 INFO mapred.MapTask: Processing split: file:/content/QuasiMonteCarlo_1656062580230_1321832377/in/part4:0+118\n",
            "2022-06-24 09:23:02,926 INFO mapred.MapTask: (EQUATOR) 0 kvi 26214396(104857584)\n",
            "2022-06-24 09:23:02,926 INFO mapred.MapTask: mapreduce.task.io.sort.mb: 100\n",
            "2022-06-24 09:23:02,926 INFO mapred.MapTask: soft limit at 83886080\n",
            "2022-06-24 09:23:02,926 INFO mapred.MapTask: bufstart = 0; bufvoid = 104857600\n",
            "2022-06-24 09:23:02,926 INFO mapred.MapTask: kvstart = 26214396; length = 6553600\n",
            "2022-06-24 09:23:02,927 INFO mapred.MapTask: Map output collector class = org.apache.hadoop.mapred.MapTask$MapOutputBuffer\n",
            "2022-06-24 09:23:02,933 INFO mapred.LocalJobRunner: \n",
            "2022-06-24 09:23:02,934 INFO mapred.MapTask: Starting flush of map output\n",
            "2022-06-24 09:23:02,934 INFO mapred.MapTask: Spilling map output\n",
            "2022-06-24 09:23:02,934 INFO mapred.MapTask: bufstart = 0; bufend = 18; bufvoid = 104857600\n",
            "2022-06-24 09:23:02,934 INFO mapred.MapTask: kvstart = 26214396(104857584); kvend = 26214392(104857568); length = 5/6553600\n",
            "2022-06-24 09:23:02,936 INFO mapred.MapTask: Finished spill 0\n",
            "2022-06-24 09:23:02,939 INFO mapred.Task: Task:attempt_local1824338819_0001_m_000006_0 is done. And is in the process of committing\n",
            "2022-06-24 09:23:02,941 INFO mapred.LocalJobRunner: Generated 100000 samples.\n",
            "2022-06-24 09:23:02,941 INFO mapred.Task: Task 'attempt_local1824338819_0001_m_000006_0' done.\n",
            "2022-06-24 09:23:02,941 INFO mapred.Task: Final Counters for attempt_local1824338819_0001_m_000006_0: Counters: 17\n",
            "\tFile System Counters\n",
            "\t\tFILE: Number of bytes read=295243\n",
            "\t\tFILE: Number of bytes written=923937\n",
            "\t\tFILE: Number of read operations=0\n",
            "\t\tFILE: Number of large read operations=0\n",
            "\t\tFILE: Number of write operations=0\n",
            "\tMap-Reduce Framework\n",
            "\t\tMap input records=1\n",
            "\t\tMap output records=2\n",
            "\t\tMap output bytes=18\n",
            "\t\tMap output materialized bytes=28\n",
            "\t\tInput split bytes=128\n",
            "\t\tCombine input records=0\n",
            "\t\tSpilled Records=2\n",
            "\t\tFailed Shuffles=0\n",
            "\t\tMerged Map outputs=0\n",
            "\t\tGC time elapsed (ms)=0\n",
            "\t\tTotal committed heap usage (bytes)=890765312\n",
            "\tFile Input Format Counters \n",
            "\t\tBytes Read=130\n",
            "2022-06-24 09:23:02,941 INFO mapred.LocalJobRunner: Finishing task: attempt_local1824338819_0001_m_000006_0\n",
            "2022-06-24 09:23:02,941 INFO mapred.LocalJobRunner: Starting task: attempt_local1824338819_0001_m_000007_0\n",
            "2022-06-24 09:23:02,943 INFO output.FileOutputCommitter: File Output Committer Algorithm version is 2\n",
            "2022-06-24 09:23:02,943 INFO output.FileOutputCommitter: FileOutputCommitter skip cleanup _temporary folders under output directory:false, ignore cleanup failures: false\n",
            "2022-06-24 09:23:02,943 INFO mapred.Task:  Using ResourceCalculatorProcessTree : [ ]\n",
            "2022-06-24 09:23:02,944 INFO mapred.MapTask: Processing split: file:/content/QuasiMonteCarlo_1656062580230_1321832377/in/part12:0+118\n",
            "2022-06-24 09:23:03,046 INFO mapred.MapTask: (EQUATOR) 0 kvi 26214396(104857584)\n",
            "2022-06-24 09:23:03,046 INFO mapred.MapTask: mapreduce.task.io.sort.mb: 100\n",
            "2022-06-24 09:23:03,046 INFO mapred.MapTask: soft limit at 83886080\n",
            "2022-06-24 09:23:03,046 INFO mapred.MapTask: bufstart = 0; bufvoid = 104857600\n",
            "2022-06-24 09:23:03,046 INFO mapred.MapTask: kvstart = 26214396; length = 6553600\n",
            "2022-06-24 09:23:03,048 INFO mapred.MapTask: Map output collector class = org.apache.hadoop.mapred.MapTask$MapOutputBuffer\n",
            "2022-06-24 09:23:03,055 INFO mapred.LocalJobRunner: \n",
            "2022-06-24 09:23:03,056 INFO mapred.MapTask: Starting flush of map output\n",
            "2022-06-24 09:23:03,056 INFO mapred.MapTask: Spilling map output\n",
            "2022-06-24 09:23:03,056 INFO mapred.MapTask: bufstart = 0; bufend = 18; bufvoid = 104857600\n",
            "2022-06-24 09:23:03,056 INFO mapred.MapTask: kvstart = 26214396(104857584); kvend = 26214392(104857568); length = 5/6553600\n",
            "2022-06-24 09:23:03,058 INFO mapred.MapTask: Finished spill 0\n",
            "2022-06-24 09:23:03,061 INFO mapred.Task: Task:attempt_local1824338819_0001_m_000007_0 is done. And is in the process of committing\n",
            "2022-06-24 09:23:03,063 INFO mapred.LocalJobRunner: Generated 100000 samples.\n",
            "2022-06-24 09:23:03,063 INFO mapred.Task: Task 'attempt_local1824338819_0001_m_000007_0' done.\n",
            "2022-06-24 09:23:03,063 INFO mapred.Task: Final Counters for attempt_local1824338819_0001_m_000007_0: Counters: 17\n",
            "\tFile System Counters\n",
            "\t\tFILE: Number of bytes read=296950\n",
            "\t\tFILE: Number of bytes written=923997\n",
            "\t\tFILE: Number of read operations=0\n",
            "\t\tFILE: Number of large read operations=0\n",
            "\t\tFILE: Number of write operations=0\n",
            "\tMap-Reduce Framework\n",
            "\t\tMap input records=1\n",
            "\t\tMap output records=2\n",
            "\t\tMap output bytes=18\n",
            "\t\tMap output materialized bytes=28\n",
            "\t\tInput split bytes=129\n",
            "\t\tCombine input records=0\n",
            "\t\tSpilled Records=2\n",
            "\t\tFailed Shuffles=0\n",
            "\t\tMerged Map outputs=0\n",
            "\t\tGC time elapsed (ms)=0\n",
            "\t\tTotal committed heap usage (bytes)=996147200\n",
            "\tFile Input Format Counters \n",
            "\t\tBytes Read=130\n",
            "2022-06-24 09:23:03,064 INFO mapred.LocalJobRunner: Finishing task: attempt_local1824338819_0001_m_000007_0\n",
            "2022-06-24 09:23:03,064 INFO mapred.LocalJobRunner: Starting task: attempt_local1824338819_0001_m_000008_0\n",
            "2022-06-24 09:23:03,079 INFO output.FileOutputCommitter: File Output Committer Algorithm version is 2\n",
            "2022-06-24 09:23:03,079 INFO output.FileOutputCommitter: FileOutputCommitter skip cleanup _temporary folders under output directory:false, ignore cleanup failures: false\n",
            "2022-06-24 09:23:03,080 INFO mapred.Task:  Using ResourceCalculatorProcessTree : [ ]\n",
            "2022-06-24 09:23:03,081 INFO mapred.MapTask: Processing split: file:/content/QuasiMonteCarlo_1656062580230_1321832377/in/part11:0+118\n",
            "2022-06-24 09:23:03,168 INFO mapred.MapTask: (EQUATOR) 0 kvi 26214396(104857584)\n",
            "2022-06-24 09:23:03,169 INFO mapred.MapTask: mapreduce.task.io.sort.mb: 100\n",
            "2022-06-24 09:23:03,169 INFO mapred.MapTask: soft limit at 83886080\n",
            "2022-06-24 09:23:03,169 INFO mapred.MapTask: bufstart = 0; bufvoid = 104857600\n",
            "2022-06-24 09:23:03,169 INFO mapred.MapTask: kvstart = 26214396; length = 6553600\n",
            "2022-06-24 09:23:03,173 INFO mapred.MapTask: Map output collector class = org.apache.hadoop.mapred.MapTask$MapOutputBuffer\n",
            "2022-06-24 09:23:03,178 INFO mapred.LocalJobRunner: \n",
            "2022-06-24 09:23:03,178 INFO mapred.MapTask: Starting flush of map output\n",
            "2022-06-24 09:23:03,178 INFO mapred.MapTask: Spilling map output\n",
            "2022-06-24 09:23:03,178 INFO mapred.MapTask: bufstart = 0; bufend = 18; bufvoid = 104857600\n",
            "2022-06-24 09:23:03,178 INFO mapred.MapTask: kvstart = 26214396(104857584); kvend = 26214392(104857568); length = 5/6553600\n",
            "2022-06-24 09:23:03,179 INFO mapred.MapTask: Finished spill 0\n",
            "2022-06-24 09:23:03,182 INFO mapred.Task: Task:attempt_local1824338819_0001_m_000008_0 is done. And is in the process of committing\n",
            "2022-06-24 09:23:03,184 INFO mapred.LocalJobRunner: Generated 100000 samples.\n",
            "2022-06-24 09:23:03,184 INFO mapred.Task: Task 'attempt_local1824338819_0001_m_000008_0' done.\n",
            "2022-06-24 09:23:03,185 INFO mapred.Task: Final Counters for attempt_local1824338819_0001_m_000008_0: Counters: 17\n",
            "\tFile System Counters\n",
            "\t\tFILE: Number of bytes read=298145\n",
            "\t\tFILE: Number of bytes written=924057\n",
            "\t\tFILE: Number of read operations=0\n",
            "\t\tFILE: Number of large read operations=0\n",
            "\t\tFILE: Number of write operations=0\n",
            "\tMap-Reduce Framework\n",
            "\t\tMap input records=1\n",
            "\t\tMap output records=2\n",
            "\t\tMap output bytes=18\n",
            "\t\tMap output materialized bytes=28\n",
            "\t\tInput split bytes=129\n",
            "\t\tCombine input records=0\n",
            "\t\tSpilled Records=2\n",
            "\t\tFailed Shuffles=0\n",
            "\t\tMerged Map outputs=0\n",
            "\t\tGC time elapsed (ms)=0\n",
            "\t\tTotal committed heap usage (bytes)=1101529088\n",
            "\tFile Input Format Counters \n",
            "\t\tBytes Read=130\n",
            "2022-06-24 09:23:03,185 INFO mapred.LocalJobRunner: Finishing task: attempt_local1824338819_0001_m_000008_0\n",
            "2022-06-24 09:23:03,185 INFO mapred.LocalJobRunner: Starting task: attempt_local1824338819_0001_m_000009_0\n",
            "2022-06-24 09:23:03,198 INFO output.FileOutputCommitter: File Output Committer Algorithm version is 2\n",
            "2022-06-24 09:23:03,198 INFO output.FileOutputCommitter: FileOutputCommitter skip cleanup _temporary folders under output directory:false, ignore cleanup failures: false\n",
            "2022-06-24 09:23:03,198 INFO mapred.Task:  Using ResourceCalculatorProcessTree : [ ]\n",
            "2022-06-24 09:23:03,200 INFO mapred.MapTask: Processing split: file:/content/QuasiMonteCarlo_1656062580230_1321832377/in/part8:0+118\n",
            "2022-06-24 09:23:03,296 INFO mapred.MapTask: (EQUATOR) 0 kvi 26214396(104857584)\n",
            "2022-06-24 09:23:03,296 INFO mapred.MapTask: mapreduce.task.io.sort.mb: 100\n",
            "2022-06-24 09:23:03,296 INFO mapred.MapTask: soft limit at 83886080\n",
            "2022-06-24 09:23:03,296 INFO mapred.MapTask: bufstart = 0; bufvoid = 104857600\n",
            "2022-06-24 09:23:03,296 INFO mapred.MapTask: kvstart = 26214396; length = 6553600\n",
            "2022-06-24 09:23:03,298 INFO mapred.MapTask: Map output collector class = org.apache.hadoop.mapred.MapTask$MapOutputBuffer\n",
            "2022-06-24 09:23:03,304 INFO mapred.LocalJobRunner: \n",
            "2022-06-24 09:23:03,305 INFO mapred.MapTask: Starting flush of map output\n",
            "2022-06-24 09:23:03,305 INFO mapred.MapTask: Spilling map output\n",
            "2022-06-24 09:23:03,305 INFO mapred.MapTask: bufstart = 0; bufend = 18; bufvoid = 104857600\n",
            "2022-06-24 09:23:03,305 INFO mapred.MapTask: kvstart = 26214396(104857584); kvend = 26214392(104857568); length = 5/6553600\n",
            "2022-06-24 09:23:03,306 INFO mapred.MapTask: Finished spill 0\n",
            "2022-06-24 09:23:03,308 INFO mapred.Task: Task:attempt_local1824338819_0001_m_000009_0 is done. And is in the process of committing\n",
            "2022-06-24 09:23:03,309 INFO mapred.LocalJobRunner: Generated 100000 samples.\n",
            "2022-06-24 09:23:03,309 INFO mapred.Task: Task 'attempt_local1824338819_0001_m_000009_0' done.\n",
            "2022-06-24 09:23:03,310 INFO mapred.Task: Final Counters for attempt_local1824338819_0001_m_000009_0: Counters: 17\n",
            "\tFile System Counters\n",
            "\t\tFILE: Number of bytes read=299340\n",
            "\t\tFILE: Number of bytes written=924117\n",
            "\t\tFILE: Number of read operations=0\n",
            "\t\tFILE: Number of large read operations=0\n",
            "\t\tFILE: Number of write operations=0\n",
            "\tMap-Reduce Framework\n",
            "\t\tMap input records=1\n",
            "\t\tMap output records=2\n",
            "\t\tMap output bytes=18\n",
            "\t\tMap output materialized bytes=28\n",
            "\t\tInput split bytes=128\n",
            "\t\tCombine input records=0\n",
            "\t\tSpilled Records=2\n",
            "\t\tFailed Shuffles=0\n",
            "\t\tMerged Map outputs=0\n",
            "\t\tGC time elapsed (ms)=0\n",
            "\t\tTotal committed heap usage (bytes)=1206910976\n",
            "\tFile Input Format Counters \n",
            "\t\tBytes Read=130\n",
            "2022-06-24 09:23:03,310 INFO mapred.LocalJobRunner: Finishing task: attempt_local1824338819_0001_m_000009_0\n",
            "2022-06-24 09:23:03,310 INFO mapred.LocalJobRunner: Starting task: attempt_local1824338819_0001_m_000010_0\n",
            "2022-06-24 09:23:03,311 INFO output.FileOutputCommitter: File Output Committer Algorithm version is 2\n",
            "2022-06-24 09:23:03,311 INFO output.FileOutputCommitter: FileOutputCommitter skip cleanup _temporary folders under output directory:false, ignore cleanup failures: false\n",
            "2022-06-24 09:23:03,311 INFO mapred.Task:  Using ResourceCalculatorProcessTree : [ ]\n",
            "2022-06-24 09:23:03,312 INFO mapred.MapTask: Processing split: file:/content/QuasiMonteCarlo_1656062580230_1321832377/in/part14:0+118\n",
            "2022-06-24 09:23:03,379 INFO mapred.MapTask: (EQUATOR) 0 kvi 26214396(104857584)\n",
            "2022-06-24 09:23:03,379 INFO mapred.MapTask: mapreduce.task.io.sort.mb: 100\n",
            "2022-06-24 09:23:03,379 INFO mapred.MapTask: soft limit at 83886080\n",
            "2022-06-24 09:23:03,379 INFO mapred.MapTask: bufstart = 0; bufvoid = 104857600\n",
            "2022-06-24 09:23:03,379 INFO mapred.MapTask: kvstart = 26214396; length = 6553600\n",
            "2022-06-24 09:23:03,380 INFO mapred.MapTask: Map output collector class = org.apache.hadoop.mapred.MapTask$MapOutputBuffer\n",
            "2022-06-24 09:23:03,385 INFO mapred.LocalJobRunner: \n",
            "2022-06-24 09:23:03,385 INFO mapred.MapTask: Starting flush of map output\n",
            "2022-06-24 09:23:03,385 INFO mapred.MapTask: Spilling map output\n",
            "2022-06-24 09:23:03,385 INFO mapred.MapTask: bufstart = 0; bufend = 18; bufvoid = 104857600\n",
            "2022-06-24 09:23:03,385 INFO mapred.MapTask: kvstart = 26214396(104857584); kvend = 26214392(104857568); length = 5/6553600\n",
            "2022-06-24 09:23:03,387 INFO mapred.MapTask: Finished spill 0\n",
            "2022-06-24 09:23:03,390 INFO mapred.Task: Task:attempt_local1824338819_0001_m_000010_0 is done. And is in the process of committing\n",
            "2022-06-24 09:23:03,392 INFO mapred.LocalJobRunner: Generated 100000 samples.\n",
            "2022-06-24 09:23:03,393 INFO mapred.Task: Task 'attempt_local1824338819_0001_m_000010_0' done.\n",
            "2022-06-24 09:23:03,393 INFO mapred.Task: Final Counters for attempt_local1824338819_0001_m_000010_0: Counters: 17\n",
            "\tFile System Counters\n",
            "\t\tFILE: Number of bytes read=300535\n",
            "\t\tFILE: Number of bytes written=924177\n",
            "\t\tFILE: Number of read operations=0\n",
            "\t\tFILE: Number of large read operations=0\n",
            "\t\tFILE: Number of write operations=0\n",
            "\tMap-Reduce Framework\n",
            "\t\tMap input records=1\n",
            "\t\tMap output records=2\n",
            "\t\tMap output bytes=18\n",
            "\t\tMap output materialized bytes=28\n",
            "\t\tInput split bytes=129\n",
            "\t\tCombine input records=0\n",
            "\t\tSpilled Records=2\n",
            "\t\tFailed Shuffles=0\n",
            "\t\tMerged Map outputs=0\n",
            "\t\tGC time elapsed (ms)=0\n",
            "\t\tTotal committed heap usage (bytes)=1312292864\n",
            "\tFile Input Format Counters \n",
            "\t\tBytes Read=130\n",
            "2022-06-24 09:23:03,393 INFO mapred.LocalJobRunner: Finishing task: attempt_local1824338819_0001_m_000010_0\n",
            "2022-06-24 09:23:03,393 INFO mapred.LocalJobRunner: Starting task: attempt_local1824338819_0001_m_000011_0\n",
            "2022-06-24 09:23:03,398 INFO output.FileOutputCommitter: File Output Committer Algorithm version is 2\n",
            "2022-06-24 09:23:03,398 INFO output.FileOutputCommitter: FileOutputCommitter skip cleanup _temporary folders under output directory:false, ignore cleanup failures: false\n",
            "2022-06-24 09:23:03,398 INFO mapred.Task:  Using ResourceCalculatorProcessTree : [ ]\n",
            "2022-06-24 09:23:03,399 INFO mapred.MapTask: Processing split: file:/content/QuasiMonteCarlo_1656062580230_1321832377/in/part9:0+118\n",
            "2022-06-24 09:23:03,466 INFO mapred.MapTask: (EQUATOR) 0 kvi 26214396(104857584)\n",
            "2022-06-24 09:23:03,466 INFO mapred.MapTask: mapreduce.task.io.sort.mb: 100\n",
            "2022-06-24 09:23:03,466 INFO mapred.MapTask: soft limit at 83886080\n",
            "2022-06-24 09:23:03,466 INFO mapred.MapTask: bufstart = 0; bufvoid = 104857600\n",
            "2022-06-24 09:23:03,466 INFO mapred.MapTask: kvstart = 26214396; length = 6553600\n",
            "2022-06-24 09:23:03,466 INFO mapred.MapTask: Map output collector class = org.apache.hadoop.mapred.MapTask$MapOutputBuffer\n",
            "2022-06-24 09:23:03,471 INFO mapred.LocalJobRunner: \n",
            "2022-06-24 09:23:03,471 INFO mapred.MapTask: Starting flush of map output\n",
            "2022-06-24 09:23:03,471 INFO mapred.MapTask: Spilling map output\n",
            "2022-06-24 09:23:03,471 INFO mapred.MapTask: bufstart = 0; bufend = 18; bufvoid = 104857600\n",
            "2022-06-24 09:23:03,471 INFO mapred.MapTask: kvstart = 26214396(104857584); kvend = 26214392(104857568); length = 5/6553600\n",
            "2022-06-24 09:23:03,473 INFO mapred.MapTask: Finished spill 0\n",
            "2022-06-24 09:23:03,474 INFO mapred.Task: Task:attempt_local1824338819_0001_m_000011_0 is done. And is in the process of committing\n",
            "2022-06-24 09:23:03,476 INFO mapred.LocalJobRunner: Generated 100000 samples.\n",
            "2022-06-24 09:23:03,476 INFO mapred.Task: Task 'attempt_local1824338819_0001_m_000011_0' done.\n",
            "2022-06-24 09:23:03,477 INFO mapred.Task: Final Counters for attempt_local1824338819_0001_m_000011_0: Counters: 17\n",
            "\tFile System Counters\n",
            "\t\tFILE: Number of bytes read=301730\n",
            "\t\tFILE: Number of bytes written=924237\n",
            "\t\tFILE: Number of read operations=0\n",
            "\t\tFILE: Number of large read operations=0\n",
            "\t\tFILE: Number of write operations=0\n",
            "\tMap-Reduce Framework\n",
            "\t\tMap input records=1\n",
            "\t\tMap output records=2\n",
            "\t\tMap output bytes=18\n",
            "\t\tMap output materialized bytes=28\n",
            "\t\tInput split bytes=128\n",
            "\t\tCombine input records=0\n",
            "\t\tSpilled Records=2\n",
            "\t\tFailed Shuffles=0\n",
            "\t\tMerged Map outputs=0\n",
            "\t\tGC time elapsed (ms)=0\n",
            "\t\tTotal committed heap usage (bytes)=1417674752\n",
            "\tFile Input Format Counters \n",
            "\t\tBytes Read=130\n",
            "2022-06-24 09:23:03,477 INFO mapred.LocalJobRunner: Finishing task: attempt_local1824338819_0001_m_000011_0\n",
            "2022-06-24 09:23:03,477 INFO mapred.LocalJobRunner: Starting task: attempt_local1824338819_0001_m_000012_0\n",
            "2022-06-24 09:23:03,479 INFO output.FileOutputCommitter: File Output Committer Algorithm version is 2\n",
            "2022-06-24 09:23:03,479 INFO output.FileOutputCommitter: FileOutputCommitter skip cleanup _temporary folders under output directory:false, ignore cleanup failures: false\n",
            "2022-06-24 09:23:03,480 INFO mapred.Task:  Using ResourceCalculatorProcessTree : [ ]\n",
            "2022-06-24 09:23:03,481 INFO mapred.MapTask: Processing split: file:/content/QuasiMonteCarlo_1656062580230_1321832377/in/part7:0+118\n",
            "2022-06-24 09:23:03,551 INFO mapred.MapTask: (EQUATOR) 0 kvi 26214396(104857584)\n",
            "2022-06-24 09:23:03,551 INFO mapred.MapTask: mapreduce.task.io.sort.mb: 100\n",
            "2022-06-24 09:23:03,551 INFO mapred.MapTask: soft limit at 83886080\n",
            "2022-06-24 09:23:03,551 INFO mapred.MapTask: bufstart = 0; bufvoid = 104857600\n",
            "2022-06-24 09:23:03,551 INFO mapred.MapTask: kvstart = 26214396; length = 6553600\n",
            "2022-06-24 09:23:03,552 INFO mapred.MapTask: Map output collector class = org.apache.hadoop.mapred.MapTask$MapOutputBuffer\n",
            "2022-06-24 09:23:03,559 INFO mapred.LocalJobRunner: \n",
            "2022-06-24 09:23:03,559 INFO mapred.MapTask: Starting flush of map output\n",
            "2022-06-24 09:23:03,559 INFO mapred.MapTask: Spilling map output\n",
            "2022-06-24 09:23:03,559 INFO mapred.MapTask: bufstart = 0; bufend = 18; bufvoid = 104857600\n",
            "2022-06-24 09:23:03,559 INFO mapred.MapTask: kvstart = 26214396(104857584); kvend = 26214392(104857568); length = 5/6553600\n",
            "2022-06-24 09:23:03,561 INFO mapred.MapTask: Finished spill 0\n",
            "2022-06-24 09:23:03,565 INFO mapred.Task: Task:attempt_local1824338819_0001_m_000012_0 is done. And is in the process of committing\n",
            "2022-06-24 09:23:03,570 INFO mapred.LocalJobRunner: Generated 100000 samples.\n",
            "2022-06-24 09:23:03,570 INFO mapred.Task: Task 'attempt_local1824338819_0001_m_000012_0' done.\n",
            "2022-06-24 09:23:03,571 INFO mapred.Task: Final Counters for attempt_local1824338819_0001_m_000012_0: Counters: 17\n",
            "\tFile System Counters\n",
            "\t\tFILE: Number of bytes read=302413\n",
            "\t\tFILE: Number of bytes written=924297\n",
            "\t\tFILE: Number of read operations=0\n",
            "\t\tFILE: Number of large read operations=0\n",
            "\t\tFILE: Number of write operations=0\n",
            "\tMap-Reduce Framework\n",
            "\t\tMap input records=1\n",
            "\t\tMap output records=2\n",
            "\t\tMap output bytes=18\n",
            "\t\tMap output materialized bytes=28\n",
            "\t\tInput split bytes=128\n",
            "\t\tCombine input records=0\n",
            "\t\tSpilled Records=2\n",
            "\t\tFailed Shuffles=0\n",
            "\t\tMerged Map outputs=0\n",
            "\t\tGC time elapsed (ms)=0\n",
            "\t\tTotal committed heap usage (bytes)=1523056640\n",
            "\tFile Input Format Counters \n",
            "\t\tBytes Read=130\n",
            "2022-06-24 09:23:03,571 INFO mapred.LocalJobRunner: Finishing task: attempt_local1824338819_0001_m_000012_0\n",
            "2022-06-24 09:23:03,571 INFO mapred.LocalJobRunner: Starting task: attempt_local1824338819_0001_m_000013_0\n",
            "2022-06-24 09:23:03,608 INFO output.FileOutputCommitter: File Output Committer Algorithm version is 2\n",
            "2022-06-24 09:23:03,608 INFO output.FileOutputCommitter: FileOutputCommitter skip cleanup _temporary folders under output directory:false, ignore cleanup failures: false\n",
            "2022-06-24 09:23:03,608 INFO mapred.Task:  Using ResourceCalculatorProcessTree : [ ]\n",
            "2022-06-24 09:23:03,609 INFO mapred.MapTask: Processing split: file:/content/QuasiMonteCarlo_1656062580230_1321832377/in/part15:0+118\n",
            "2022-06-24 09:23:03,678 INFO mapred.MapTask: (EQUATOR) 0 kvi 26214396(104857584)\n",
            "2022-06-24 09:23:03,678 INFO mapred.MapTask: mapreduce.task.io.sort.mb: 100\n",
            "2022-06-24 09:23:03,678 INFO mapred.MapTask: soft limit at 83886080\n",
            "2022-06-24 09:23:03,678 INFO mapred.MapTask: bufstart = 0; bufvoid = 104857600\n",
            "2022-06-24 09:23:03,678 INFO mapred.MapTask: kvstart = 26214396; length = 6553600\n",
            "2022-06-24 09:23:03,679 INFO mapred.MapTask: Map output collector class = org.apache.hadoop.mapred.MapTask$MapOutputBuffer\n",
            "2022-06-24 09:23:03,682 INFO mapred.LocalJobRunner: \n",
            "2022-06-24 09:23:03,682 INFO mapred.MapTask: Starting flush of map output\n",
            "2022-06-24 09:23:03,682 INFO mapred.MapTask: Spilling map output\n",
            "2022-06-24 09:23:03,683 INFO mapred.MapTask: bufstart = 0; bufend = 18; bufvoid = 104857600\n",
            "2022-06-24 09:23:03,683 INFO mapred.MapTask: kvstart = 26214396(104857584); kvend = 26214392(104857568); length = 5/6553600\n",
            "2022-06-24 09:23:03,684 INFO mapred.MapTask: Finished spill 0\n",
            "2022-06-24 09:23:03,686 INFO mapred.Task: Task:attempt_local1824338819_0001_m_000013_0 is done. And is in the process of committing\n",
            "2022-06-24 09:23:03,690 INFO mapred.LocalJobRunner: Generated 100000 samples.\n",
            "2022-06-24 09:23:03,690 INFO mapred.Task: Task 'attempt_local1824338819_0001_m_000013_0' done.\n",
            "2022-06-24 09:23:03,691 INFO mapred.Task: Final Counters for attempt_local1824338819_0001_m_000013_0: Counters: 17\n",
            "\tFile System Counters\n",
            "\t\tFILE: Number of bytes read=303096\n",
            "\t\tFILE: Number of bytes written=924357\n",
            "\t\tFILE: Number of read operations=0\n",
            "\t\tFILE: Number of large read operations=0\n",
            "\t\tFILE: Number of write operations=0\n",
            "\tMap-Reduce Framework\n",
            "\t\tMap input records=1\n",
            "\t\tMap output records=2\n",
            "\t\tMap output bytes=18\n",
            "\t\tMap output materialized bytes=28\n",
            "\t\tInput split bytes=129\n",
            "\t\tCombine input records=0\n",
            "\t\tSpilled Records=2\n",
            "\t\tFailed Shuffles=0\n",
            "\t\tMerged Map outputs=0\n",
            "\t\tGC time elapsed (ms)=25\n",
            "\t\tTotal committed heap usage (bytes)=1628438528\n",
            "\tFile Input Format Counters \n",
            "\t\tBytes Read=130\n",
            "2022-06-24 09:23:03,691 INFO mapred.LocalJobRunner: Finishing task: attempt_local1824338819_0001_m_000013_0\n",
            "2022-06-24 09:23:03,691 INFO mapred.LocalJobRunner: Starting task: attempt_local1824338819_0001_m_000014_0\n",
            "2022-06-24 09:23:03,693 INFO output.FileOutputCommitter: File Output Committer Algorithm version is 2\n",
            "2022-06-24 09:23:03,693 INFO output.FileOutputCommitter: FileOutputCommitter skip cleanup _temporary folders under output directory:false, ignore cleanup failures: false\n",
            "2022-06-24 09:23:03,694 INFO mapred.Task:  Using ResourceCalculatorProcessTree : [ ]\n",
            "2022-06-24 09:23:03,695 INFO mapred.MapTask: Processing split: file:/content/QuasiMonteCarlo_1656062580230_1321832377/in/part6:0+118\n",
            "2022-06-24 09:23:03,765 INFO mapred.MapTask: (EQUATOR) 0 kvi 26214396(104857584)\n",
            "2022-06-24 09:23:03,765 INFO mapred.MapTask: mapreduce.task.io.sort.mb: 100\n",
            "2022-06-24 09:23:03,765 INFO mapred.MapTask: soft limit at 83886080\n",
            "2022-06-24 09:23:03,765 INFO mapred.MapTask: bufstart = 0; bufvoid = 104857600\n",
            "2022-06-24 09:23:03,765 INFO mapred.MapTask: kvstart = 26214396; length = 6553600\n",
            "2022-06-24 09:23:03,767 INFO mapred.MapTask: Map output collector class = org.apache.hadoop.mapred.MapTask$MapOutputBuffer\n",
            "2022-06-24 09:23:03,771 INFO mapred.LocalJobRunner: \n",
            "2022-06-24 09:23:03,771 INFO mapred.MapTask: Starting flush of map output\n",
            "2022-06-24 09:23:03,771 INFO mapred.MapTask: Spilling map output\n",
            "2022-06-24 09:23:03,771 INFO mapred.MapTask: bufstart = 0; bufend = 18; bufvoid = 104857600\n",
            "2022-06-24 09:23:03,771 INFO mapred.MapTask: kvstart = 26214396(104857584); kvend = 26214392(104857568); length = 5/6553600\n",
            "2022-06-24 09:23:03,772 INFO mapred.MapTask: Finished spill 0\n",
            "2022-06-24 09:23:03,774 INFO mapred.Task: Task:attempt_local1824338819_0001_m_000014_0 is done. And is in the process of committing\n",
            "2022-06-24 09:23:03,775 INFO mapred.LocalJobRunner: Generated 100000 samples.\n",
            "2022-06-24 09:23:03,775 INFO mapred.Task: Task 'attempt_local1824338819_0001_m_000014_0' done.\n",
            "2022-06-24 09:23:03,775 INFO mapred.Task: Final Counters for attempt_local1824338819_0001_m_000014_0: Counters: 17\n",
            "\tFile System Counters\n",
            "\t\tFILE: Number of bytes read=303779\n",
            "\t\tFILE: Number of bytes written=924417\n",
            "\t\tFILE: Number of read operations=0\n",
            "\t\tFILE: Number of large read operations=0\n",
            "\t\tFILE: Number of write operations=0\n",
            "\tMap-Reduce Framework\n",
            "\t\tMap input records=1\n",
            "\t\tMap output records=2\n",
            "\t\tMap output bytes=18\n",
            "\t\tMap output materialized bytes=28\n",
            "\t\tInput split bytes=128\n",
            "\t\tCombine input records=0\n",
            "\t\tSpilled Records=2\n",
            "\t\tFailed Shuffles=0\n",
            "\t\tMerged Map outputs=0\n",
            "\t\tGC time elapsed (ms)=0\n",
            "\t\tTotal committed heap usage (bytes)=1733820416\n",
            "\tFile Input Format Counters \n",
            "\t\tBytes Read=130\n",
            "2022-06-24 09:23:03,775 INFO mapred.LocalJobRunner: Finishing task: attempt_local1824338819_0001_m_000014_0\n",
            "2022-06-24 09:23:03,776 INFO mapred.LocalJobRunner: Starting task: attempt_local1824338819_0001_m_000015_0\n",
            "2022-06-24 09:23:03,779 INFO output.FileOutputCommitter: File Output Committer Algorithm version is 2\n",
            "2022-06-24 09:23:03,779 INFO output.FileOutputCommitter: FileOutputCommitter skip cleanup _temporary folders under output directory:false, ignore cleanup failures: false\n",
            "2022-06-24 09:23:03,779 INFO mapred.Task:  Using ResourceCalculatorProcessTree : [ ]\n",
            "2022-06-24 09:23:03,783 INFO mapred.MapTask: Processing split: file:/content/QuasiMonteCarlo_1656062580230_1321832377/in/part3:0+118\n",
            "2022-06-24 09:23:03,850 INFO mapred.MapTask: (EQUATOR) 0 kvi 26214396(104857584)\n",
            "2022-06-24 09:23:03,850 INFO mapred.MapTask: mapreduce.task.io.sort.mb: 100\n",
            "2022-06-24 09:23:03,850 INFO mapred.MapTask: soft limit at 83886080\n",
            "2022-06-24 09:23:03,850 INFO mapred.MapTask: bufstart = 0; bufvoid = 104857600\n",
            "2022-06-24 09:23:03,850 INFO mapred.MapTask: kvstart = 26214396; length = 6553600\n",
            "2022-06-24 09:23:03,851 INFO mapred.MapTask: Map output collector class = org.apache.hadoop.mapred.MapTask$MapOutputBuffer\n",
            "2022-06-24 09:23:03,854 INFO mapred.LocalJobRunner: \n",
            "2022-06-24 09:23:03,854 INFO mapred.MapTask: Starting flush of map output\n",
            "2022-06-24 09:23:03,854 INFO mapred.MapTask: Spilling map output\n",
            "2022-06-24 09:23:03,854 INFO mapred.MapTask: bufstart = 0; bufend = 18; bufvoid = 104857600\n",
            "2022-06-24 09:23:03,854 INFO mapred.MapTask: kvstart = 26214396(104857584); kvend = 26214392(104857568); length = 5/6553600\n",
            "2022-06-24 09:23:03,855 INFO mapred.MapTask: Finished spill 0\n",
            "2022-06-24 09:23:03,857 INFO mapred.Task: Task:attempt_local1824338819_0001_m_000015_0 is done. And is in the process of committing\n",
            "2022-06-24 09:23:03,859 INFO mapred.LocalJobRunner: Generated 100000 samples.\n",
            "2022-06-24 09:23:03,859 INFO mapred.Task: Task 'attempt_local1824338819_0001_m_000015_0' done.\n",
            "2022-06-24 09:23:03,860 INFO mapred.Task: Final Counters for attempt_local1824338819_0001_m_000015_0: Counters: 17\n",
            "\tFile System Counters\n",
            "\t\tFILE: Number of bytes read=304462\n",
            "\t\tFILE: Number of bytes written=924477\n",
            "\t\tFILE: Number of read operations=0\n",
            "\t\tFILE: Number of large read operations=0\n",
            "\t\tFILE: Number of write operations=0\n",
            "\tMap-Reduce Framework\n",
            "\t\tMap input records=1\n",
            "\t\tMap output records=2\n",
            "\t\tMap output bytes=18\n",
            "\t\tMap output materialized bytes=28\n",
            "\t\tInput split bytes=128\n",
            "\t\tCombine input records=0\n",
            "\t\tSpilled Records=2\n",
            "\t\tFailed Shuffles=0\n",
            "\t\tMerged Map outputs=0\n",
            "\t\tGC time elapsed (ms)=0\n",
            "\t\tTotal committed heap usage (bytes)=1839202304\n",
            "\tFile Input Format Counters \n",
            "\t\tBytes Read=130\n",
            "2022-06-24 09:23:03,860 INFO mapred.LocalJobRunner: Finishing task: attempt_local1824338819_0001_m_000015_0\n",
            "2022-06-24 09:23:03,860 INFO mapred.LocalJobRunner: map task executor complete.\n",
            "2022-06-24 09:23:03,866 INFO mapred.LocalJobRunner: Waiting for reduce tasks\n",
            "2022-06-24 09:23:03,866 INFO mapred.LocalJobRunner: Starting task: attempt_local1824338819_0001_r_000000_0\n",
            "2022-06-24 09:23:03,875 INFO output.FileOutputCommitter: File Output Committer Algorithm version is 2\n",
            "2022-06-24 09:23:03,875 INFO output.FileOutputCommitter: FileOutputCommitter skip cleanup _temporary folders under output directory:false, ignore cleanup failures: false\n",
            "2022-06-24 09:23:03,875 INFO mapred.Task:  Using ResourceCalculatorProcessTree : [ ]\n",
            "2022-06-24 09:23:03,878 INFO mapred.ReduceTask: Using ShuffleConsumerPlugin: org.apache.hadoop.mapreduce.task.reduce.Shuffle@135b44f8\n",
            "2022-06-24 09:23:03,880 WARN impl.MetricsSystemImpl: JobTracker metrics system already initialized!\n",
            "2022-06-24 09:23:03,902 INFO reduce.MergeManagerImpl: MergerManager: memoryLimit=2119434240, maxSingleShuffleLimit=529858560, mergeThreshold=1398826624, ioSortFactor=10, memToMemMergeOutputsThreshold=10\n",
            "2022-06-24 09:23:03,918 INFO reduce.EventFetcher: attempt_local1824338819_0001_r_000000_0 Thread started: EventFetcher for fetching Map Completion Events\n",
            "2022-06-24 09:23:03,951 INFO reduce.LocalFetcher: localfetcher#1 about to shuffle output of map attempt_local1824338819_0001_m_000009_0 decomp: 24 len: 28 to MEMORY\n",
            "2022-06-24 09:23:03,955 INFO reduce.InMemoryMapOutput: Read 24 bytes from map-output for attempt_local1824338819_0001_m_000009_0\n",
            "2022-06-24 09:23:03,955 INFO reduce.MergeManagerImpl: closeInMemoryFile -> map-output of size: 24, inMemoryMapOutputs.size() -> 1, commitMemory -> 0, usedMemory ->24\n",
            "2022-06-24 09:23:03,959 INFO reduce.LocalFetcher: localfetcher#1 about to shuffle output of map attempt_local1824338819_0001_m_000003_0 decomp: 24 len: 28 to MEMORY\n",
            "2022-06-24 09:23:03,962 INFO reduce.InMemoryMapOutput: Read 24 bytes from map-output for attempt_local1824338819_0001_m_000003_0\n",
            "2022-06-24 09:23:03,962 INFO reduce.MergeManagerImpl: closeInMemoryFile -> map-output of size: 24, inMemoryMapOutputs.size() -> 2, commitMemory -> 24, usedMemory ->48\n",
            "2022-06-24 09:23:03,963 INFO reduce.LocalFetcher: localfetcher#1 about to shuffle output of map attempt_local1824338819_0001_m_000010_0 decomp: 24 len: 28 to MEMORY\n",
            "2022-06-24 09:23:03,968 INFO reduce.InMemoryMapOutput: Read 24 bytes from map-output for attempt_local1824338819_0001_m_000010_0\n",
            "2022-06-24 09:23:03,969 INFO reduce.MergeManagerImpl: closeInMemoryFile -> map-output of size: 24, inMemoryMapOutputs.size() -> 3, commitMemory -> 48, usedMemory ->72\n",
            "2022-06-24 09:23:03,970 INFO reduce.LocalFetcher: localfetcher#1 about to shuffle output of map attempt_local1824338819_0001_m_000004_0 decomp: 24 len: 28 to MEMORY\n",
            "2022-06-24 09:23:03,971 INFO reduce.InMemoryMapOutput: Read 24 bytes from map-output for attempt_local1824338819_0001_m_000004_0\n",
            "2022-06-24 09:23:03,971 INFO reduce.MergeManagerImpl: closeInMemoryFile -> map-output of size: 24, inMemoryMapOutputs.size() -> 4, commitMemory -> 72, usedMemory ->96\n",
            "2022-06-24 09:23:03,972 INFO reduce.LocalFetcher: localfetcher#1 about to shuffle output of map attempt_local1824338819_0001_m_000011_0 decomp: 24 len: 28 to MEMORY\n",
            "2022-06-24 09:23:03,972 INFO reduce.InMemoryMapOutput: Read 24 bytes from map-output for attempt_local1824338819_0001_m_000011_0\n",
            "2022-06-24 09:23:03,972 INFO reduce.MergeManagerImpl: closeInMemoryFile -> map-output of size: 24, inMemoryMapOutputs.size() -> 5, commitMemory -> 96, usedMemory ->120\n",
            "2022-06-24 09:23:03,973 WARN io.ReadaheadPool: Failed readahead on ifile\n",
            "EBADF: Bad file descriptor\n",
            "\tat org.apache.hadoop.io.nativeio.NativeIO$POSIX.posix_fadvise(Native Method)\n",
            "\tat org.apache.hadoop.io.nativeio.NativeIO$POSIX.posixFadviseIfPossible(NativeIO.java:419)\n",
            "\tat org.apache.hadoop.io.nativeio.NativeIO$POSIX$CacheManipulator.posixFadviseIfPossible(NativeIO.java:296)\n",
            "\tat org.apache.hadoop.io.ReadaheadPool$ReadaheadRequestImpl.run(ReadaheadPool.java:220)\n",
            "\tat java.util.concurrent.ThreadPoolExecutor.runWorker(ThreadPoolExecutor.java:1149)\n",
            "\tat java.util.concurrent.ThreadPoolExecutor$Worker.run(ThreadPoolExecutor.java:624)\n",
            "\tat java.lang.Thread.run(Thread.java:748)\n",
            "2022-06-24 09:23:03,973 INFO reduce.LocalFetcher: localfetcher#1 about to shuffle output of map attempt_local1824338819_0001_m_000005_0 decomp: 24 len: 28 to MEMORY\n",
            "2022-06-24 09:23:03,978 INFO reduce.InMemoryMapOutput: Read 24 bytes from map-output for attempt_local1824338819_0001_m_000005_0\n",
            "2022-06-24 09:23:03,978 INFO reduce.MergeManagerImpl: closeInMemoryFile -> map-output of size: 24, inMemoryMapOutputs.size() -> 6, commitMemory -> 120, usedMemory ->144\n",
            "2022-06-24 09:23:03,980 INFO reduce.LocalFetcher: localfetcher#1 about to shuffle output of map attempt_local1824338819_0001_m_000012_0 decomp: 24 len: 28 to MEMORY\n",
            "2022-06-24 09:23:03,980 INFO reduce.InMemoryMapOutput: Read 24 bytes from map-output for attempt_local1824338819_0001_m_000012_0\n",
            "2022-06-24 09:23:03,980 INFO reduce.MergeManagerImpl: closeInMemoryFile -> map-output of size: 24, inMemoryMapOutputs.size() -> 7, commitMemory -> 144, usedMemory ->168\n",
            "2022-06-24 09:23:03,984 INFO reduce.LocalFetcher: localfetcher#1 about to shuffle output of map attempt_local1824338819_0001_m_000006_0 decomp: 24 len: 28 to MEMORY\n",
            "2022-06-24 09:23:03,984 INFO reduce.InMemoryMapOutput: Read 24 bytes from map-output for attempt_local1824338819_0001_m_000006_0\n",
            "2022-06-24 09:23:03,984 INFO reduce.MergeManagerImpl: closeInMemoryFile -> map-output of size: 24, inMemoryMapOutputs.size() -> 8, commitMemory -> 168, usedMemory ->192\n",
            "2022-06-24 09:23:03,987 INFO reduce.LocalFetcher: localfetcher#1 about to shuffle output of map attempt_local1824338819_0001_m_000000_0 decomp: 24 len: 28 to MEMORY\n",
            "2022-06-24 09:23:03,991 INFO reduce.InMemoryMapOutput: Read 24 bytes from map-output for attempt_local1824338819_0001_m_000000_0\n",
            "2022-06-24 09:23:03,991 INFO reduce.MergeManagerImpl: closeInMemoryFile -> map-output of size: 24, inMemoryMapOutputs.size() -> 9, commitMemory -> 192, usedMemory ->216\n",
            "2022-06-24 09:23:03,993 INFO reduce.LocalFetcher: localfetcher#1 about to shuffle output of map attempt_local1824338819_0001_m_000013_0 decomp: 24 len: 28 to MEMORY\n",
            "2022-06-24 09:23:03,993 INFO reduce.InMemoryMapOutput: Read 24 bytes from map-output for attempt_local1824338819_0001_m_000013_0\n",
            "2022-06-24 09:23:03,993 INFO reduce.MergeManagerImpl: closeInMemoryFile -> map-output of size: 24, inMemoryMapOutputs.size() -> 10, commitMemory -> 216, usedMemory ->240\n",
            "2022-06-24 09:23:03,994 INFO reduce.LocalFetcher: localfetcher#1 about to shuffle output of map attempt_local1824338819_0001_m_000007_0 decomp: 24 len: 28 to MEMORY\n",
            "2022-06-24 09:23:03,997 INFO reduce.InMemoryMapOutput: Read 24 bytes from map-output for attempt_local1824338819_0001_m_000007_0\n",
            "2022-06-24 09:23:03,997 INFO reduce.MergeManagerImpl: closeInMemoryFile -> map-output of size: 24, inMemoryMapOutputs.size() -> 11, commitMemory -> 240, usedMemory ->264\n",
            "2022-06-24 09:23:03,998 INFO reduce.LocalFetcher: localfetcher#1 about to shuffle output of map attempt_local1824338819_0001_m_000001_0 decomp: 24 len: 28 to MEMORY\n",
            "2022-06-24 09:23:03,999 INFO reduce.InMemoryMapOutput: Read 24 bytes from map-output for attempt_local1824338819_0001_m_000001_0\n",
            "2022-06-24 09:23:03,999 INFO reduce.MergeManagerImpl: closeInMemoryFile -> map-output of size: 24, inMemoryMapOutputs.size() -> 12, commitMemory -> 264, usedMemory ->288\n",
            "2022-06-24 09:23:04,000 INFO reduce.LocalFetcher: localfetcher#1 about to shuffle output of map attempt_local1824338819_0001_m_000014_0 decomp: 24 len: 28 to MEMORY\n",
            "2022-06-24 09:23:04,001 INFO reduce.InMemoryMapOutput: Read 24 bytes from map-output for attempt_local1824338819_0001_m_000014_0\n",
            "2022-06-24 09:23:04,002 INFO reduce.MergeManagerImpl: closeInMemoryFile -> map-output of size: 24, inMemoryMapOutputs.size() -> 13, commitMemory -> 288, usedMemory ->312\n",
            "2022-06-24 09:23:04,003 INFO reduce.LocalFetcher: localfetcher#1 about to shuffle output of map attempt_local1824338819_0001_m_000008_0 decomp: 24 len: 28 to MEMORY\n",
            "2022-06-24 09:23:04,005 INFO reduce.InMemoryMapOutput: Read 24 bytes from map-output for attempt_local1824338819_0001_m_000008_0\n",
            "2022-06-24 09:23:04,005 INFO reduce.MergeManagerImpl: closeInMemoryFile -> map-output of size: 24, inMemoryMapOutputs.size() -> 14, commitMemory -> 312, usedMemory ->336\n",
            "2022-06-24 09:23:04,006 INFO reduce.LocalFetcher: localfetcher#1 about to shuffle output of map attempt_local1824338819_0001_m_000002_0 decomp: 24 len: 28 to MEMORY\n",
            "2022-06-24 09:23:04,009 INFO reduce.InMemoryMapOutput: Read 24 bytes from map-output for attempt_local1824338819_0001_m_000002_0\n",
            "2022-06-24 09:23:04,011 INFO reduce.MergeManagerImpl: closeInMemoryFile -> map-output of size: 24, inMemoryMapOutputs.size() -> 15, commitMemory -> 336, usedMemory ->360\n",
            "2022-06-24 09:23:04,013 INFO reduce.LocalFetcher: localfetcher#1 about to shuffle output of map attempt_local1824338819_0001_m_000015_0 decomp: 24 len: 28 to MEMORY\n",
            "2022-06-24 09:23:04,013 INFO reduce.InMemoryMapOutput: Read 24 bytes from map-output for attempt_local1824338819_0001_m_000015_0\n",
            "2022-06-24 09:23:04,013 INFO reduce.MergeManagerImpl: closeInMemoryFile -> map-output of size: 24, inMemoryMapOutputs.size() -> 16, commitMemory -> 360, usedMemory ->384\n",
            "2022-06-24 09:23:04,014 INFO reduce.EventFetcher: EventFetcher is interrupted.. Returning\n",
            "2022-06-24 09:23:04,015 INFO mapred.LocalJobRunner: 16 / 16 copied.\n",
            "2022-06-24 09:23:04,015 INFO reduce.MergeManagerImpl: finalMerge called with 16 in-memory map-outputs and 0 on-disk map-outputs\n",
            "2022-06-24 09:23:04,023 INFO mapred.Merger: Merging 16 sorted segments\n",
            "2022-06-24 09:23:04,023 INFO mapred.Merger: Down to the last merge-pass, with 16 segments left of total size: 336 bytes\n",
            "2022-06-24 09:23:04,025 INFO reduce.MergeManagerImpl: Merged 16 segments, 384 bytes to disk to satisfy reduce memory limit\n",
            "2022-06-24 09:23:04,026 INFO reduce.MergeManagerImpl: Merging 1 files, 358 bytes from disk\n",
            "2022-06-24 09:23:04,026 INFO reduce.MergeManagerImpl: Merging 0 segments, 0 bytes from memory into reduce\n",
            "2022-06-24 09:23:04,026 INFO mapred.Merger: Merging 1 sorted segments\n",
            "2022-06-24 09:23:04,027 INFO mapred.Merger: Down to the last merge-pass, with 1 segments left of total size: 351 bytes\n",
            "2022-06-24 09:23:04,027 INFO mapred.LocalJobRunner: 16 / 16 copied.\n",
            "2022-06-24 09:23:04,031 INFO Configuration.deprecation: mapred.skip.on is deprecated. Instead, use mapreduce.job.skiprecords\n",
            "2022-06-24 09:23:04,053 INFO mapred.Task: Task:attempt_local1824338819_0001_r_000000_0 is done. And is in the process of committing\n",
            "2022-06-24 09:23:04,054 INFO mapred.LocalJobRunner: 16 / 16 copied.\n",
            "2022-06-24 09:23:04,054 INFO mapred.Task: Task attempt_local1824338819_0001_r_000000_0 is allowed to commit now\n",
            "2022-06-24 09:23:04,055 INFO output.FileOutputCommitter: Saved output of task 'attempt_local1824338819_0001_r_000000_0' to file:/content/QuasiMonteCarlo_1656062580230_1321832377/out\n",
            "2022-06-24 09:23:04,057 INFO mapred.LocalJobRunner: reduce > reduce\n",
            "2022-06-24 09:23:04,057 INFO mapred.Task: Task 'attempt_local1824338819_0001_r_000000_0' done.\n",
            "2022-06-24 09:23:04,057 INFO mapred.Task: Final Counters for attempt_local1824338819_0001_r_000000_0: Counters: 24\n",
            "\tFile System Counters\n",
            "\t\tFILE: Number of bytes read=305780\n",
            "\t\tFILE: Number of bytes written=925074\n",
            "\t\tFILE: Number of read operations=0\n",
            "\t\tFILE: Number of large read operations=0\n",
            "\t\tFILE: Number of write operations=0\n",
            "\tMap-Reduce Framework\n",
            "\t\tCombine input records=0\n",
            "\t\tCombine output records=0\n",
            "\t\tReduce input groups=2\n",
            "\t\tReduce shuffle bytes=448\n",
            "\t\tReduce input records=32\n",
            "\t\tReduce output records=0\n",
            "\t\tSpilled Records=32\n",
            "\t\tShuffled Maps =16\n",
            "\t\tFailed Shuffles=0\n",
            "\t\tMerged Map outputs=16\n",
            "\t\tGC time elapsed (ms)=0\n",
            "\t\tTotal committed heap usage (bytes)=1839202304\n",
            "\tShuffle Errors\n",
            "\t\tBAD_ID=0\n",
            "\t\tCONNECTION=0\n",
            "\t\tIO_ERROR=0\n",
            "\t\tWRONG_LENGTH=0\n",
            "\t\tWRONG_MAP=0\n",
            "\t\tWRONG_REDUCE=0\n",
            "\tFile Output Format Counters \n",
            "\t\tBytes Written=109\n",
            "2022-06-24 09:23:04,058 INFO mapred.LocalJobRunner: Finishing task: attempt_local1824338819_0001_r_000000_0\n",
            "2022-06-24 09:23:04,058 INFO mapred.LocalJobRunner: reduce task executor complete.\n",
            "2022-06-24 09:23:04,768 INFO mapreduce.Job:  map 100% reduce 100%\n",
            "2022-06-24 09:23:04,768 INFO mapreduce.Job: Job job_local1824338819_0001 completed successfully\n",
            "2022-06-24 09:23:04,788 INFO mapreduce.Job: Counters: 30\n",
            "\tFile System Counters\n",
            "\t\tFILE: Number of bytes read=5044012\n",
            "\t\tFILE: Number of bytes written=15709506\n",
            "\t\tFILE: Number of read operations=0\n",
            "\t\tFILE: Number of large read operations=0\n",
            "\t\tFILE: Number of write operations=0\n",
            "\tMap-Reduce Framework\n",
            "\t\tMap input records=16\n",
            "\t\tMap output records=32\n",
            "\t\tMap output bytes=288\n",
            "\t\tMap output materialized bytes=448\n",
            "\t\tInput split bytes=2054\n",
            "\t\tCombine input records=0\n",
            "\t\tCombine output records=0\n",
            "\t\tReduce input groups=2\n",
            "\t\tReduce shuffle bytes=448\n",
            "\t\tReduce input records=32\n",
            "\t\tReduce output records=0\n",
            "\t\tSpilled Records=64\n",
            "\t\tShuffled Maps =16\n",
            "\t\tFailed Shuffles=0\n",
            "\t\tMerged Map outputs=16\n",
            "\t\tGC time elapsed (ms)=25\n",
            "\t\tTotal committed heap usage (bytes)=18620612608\n",
            "\tShuffle Errors\n",
            "\t\tBAD_ID=0\n",
            "\t\tCONNECTION=0\n",
            "\t\tIO_ERROR=0\n",
            "\t\tWRONG_LENGTH=0\n",
            "\t\tWRONG_MAP=0\n",
            "\t\tWRONG_REDUCE=0\n",
            "\tFile Input Format Counters \n",
            "\t\tBytes Read=2080\n",
            "\tFile Output Format Counters \n",
            "\t\tBytes Written=109\n",
            "Job Finished in 3.897 seconds\n",
            "Estimated value of Pi is 3.14157500000000000000\n"
          ]
        }
      ]
    },
    {
      "cell_type": "markdown",
      "metadata": {
        "id": "zHwLU0Uo3tLo"
      },
      "source": [
        "#Install HBase"
      ]
    },
    {
      "cell_type": "code",
      "metadata": {
        "colab": {
          "base_uri": "https://localhost:8080/"
        },
        "id": "bODP1xaM3vEB",
        "outputId": "609e8730-2cb3-435a-a0da-9ebc96ae3f48"
      },
      "source": [
        "# Get the latest HBase download site from here https://www.apache.org/dyn/closer.lua/hbase/\n",
        "# or even better check here for latest downloads >>> https://downloads.apache.org/hbase/\n",
        "#!wget https://mirrors.estointernet.in/apache/hbase/2.4.5/hbase-2.4.5-bin.tar.gz\n",
        "#!wget https://mirrors.estointernet.in/apache/hbase/2.4.8/hbase-2.4.8-bin.tar.gz\n",
        "#!wget https://downloads.apache.org/hbase/2.4.9/hbase-2.4.9-bin.tar.gz\n",
        "!wget https://downloads.apache.org/hbase/2.4.12/hbase-2.4.12-bin.tar.gz\n",
        "#!tar xzf hbase-2.4.5-bin.tar.gz\n",
        "#!tar xzf hbase-2.4.8-bin.tar.gz\n",
        "#!tar xzf hbase-2.4.9-bin.tar.gz\n",
        "!tar xzf hbase-2.4.12-bin.tar.gz"
      ],
      "execution_count": 7,
      "outputs": [
        {
          "output_type": "stream",
          "name": "stdout",
          "text": [
            "--2022-06-24 09:23:40--  https://downloads.apache.org/hbase/2.4.12/hbase-2.4.12-bin.tar.gz\n",
            "Resolving downloads.apache.org (downloads.apache.org)... 135.181.214.104, 88.99.95.219, 2a01:4f8:10a:201a::2, ...\n",
            "Connecting to downloads.apache.org (downloads.apache.org)|135.181.214.104|:443... connected.\n",
            "HTTP request sent, awaiting response... 200 OK\n",
            "Length: 283605397 (270M) [application/x-gzip]\n",
            "Saving to: ‘hbase-2.4.12-bin.tar.gz’\n",
            "\n",
            "hbase-2.4.12-bin.ta 100%[===================>] 270.47M  27.0MB/s    in 11s     \n",
            "\n",
            "2022-06-24 09:23:51 (25.5 MB/s) - ‘hbase-2.4.12-bin.tar.gz’ saved [283605397/283605397]\n",
            "\n"
          ]
        }
      ]
    },
    {
      "cell_type": "markdown",
      "metadata": {
        "id": "kaMtyNOVCiMS"
      },
      "source": [
        "## Set HBase Environment"
      ]
    },
    {
      "cell_type": "code",
      "metadata": {
        "colab": {
          "base_uri": "https://localhost:8080/"
        },
        "id": "p4dc0K7h4f-y",
        "outputId": "acf76107-25a5-45a8-f81d-c9fc64d79aff"
      },
      "source": [
        "#os.environ[\"HIVE_HOME\"] = \"/content/apache-hive-3.1.2-bin\"\n",
        "#!echo $HIVE_HOME\n",
        "#os.environ[\"HBASE_HOME\"] = \"/content/hbase-2.4.5/\"\n",
        "#os.environ[\"HBASE_HOME\"] = \"/content/hbase-2.4.8/\"\n",
        "#os.environ[\"HBASE_HOME\"] = \"/content/hbase-2.4.9/\"\n",
        "os.environ[\"HBASE_HOME\"] = \"/content/hbase-2.4.12/\"\n",
        "!echo $HBASE_HOME"
      ],
      "execution_count": 8,
      "outputs": [
        {
          "output_type": "stream",
          "name": "stdout",
          "text": [
            "/content/hbase-2.4.12/\n"
          ]
        }
      ]
    },
    {
      "cell_type": "code",
      "metadata": {
        "id": "LrLGC7ln5Wwx"
      },
      "source": [
        "#!echo $PATH"
      ],
      "execution_count": null,
      "outputs": []
    },
    {
      "cell_type": "code",
      "metadata": {
        "colab": {
          "base_uri": "https://localhost:8080/"
        },
        "id": "DqXZ_kF65VXK",
        "outputId": "d816eca9-dab8-46b4-b240-925ae576574c"
      },
      "source": [
        "# current_path taken from command in previous cell\n",
        "#current_path = '/opt/bin:/usr/local/nvidia/bin:/usr/local/cuda/bin:/usr/local/sbin:/usr/local/bin:/usr/sbin:/usr/bin:/sbin:/bin:/tools/node/bin:/tools/google-cloud-sdk/bin:/usr/local/hadoop-3.3.3/bin/'\n",
        "current_path = os.getenv('PATH')\n",
        "#new_path = current_path+':/content/hbase-2.4.5/bin'\n",
        "#new_path = current_path+':/content/hbase-2.4.8/bin'\n",
        "#new_path = current_path+':/content/hbase-2.4.9/bin'\n",
        "new_path = current_path+':/content/hbase-2.4.12/bin'  #bin - binary format, where actual executable files are stored\n",
        "os.environ[\"PATH\"] = new_path\n",
        "!echo $PATH"
      ],
      "execution_count": 9,
      "outputs": [
        {
          "output_type": "stream",
          "name": "stdout",
          "text": [
            "/opt/bin:/usr/local/nvidia/bin:/usr/local/cuda/bin:/usr/local/sbin:/usr/local/bin:/usr/sbin:/usr/bin:/sbin:/bin:/tools/node/bin:/tools/google-cloud-sdk/bin:/usr/local/hadoop-3.3.3/bin/:/content/hbase-2.4.12/bin\n"
          ]
        }
      ]
    },
    {
      "cell_type": "code",
      "metadata": {
        "colab": {
          "base_uri": "https://localhost:8080/"
        },
        "id": "ZrS6BL5k51Bl",
        "outputId": "80769bd9-1616-4d6f-8b1f-506832e9c342"
      },
      "source": [
        "!echo $JAVA_HOME\n",
        "!echo $HADOOP_HOME\n",
        "!echo $HBASE_HOME"
      ],
      "execution_count": null,
      "outputs": [
        {
          "output_type": "stream",
          "name": "stdout",
          "text": [
            "/usr/lib/jvm/java-8-openjdk-amd64\n",
            "/usr/local/hadoop-3.3.3/\n",
            "/content/hbase-2.4.12/\n"
          ]
        }
      ]
    },
    {
      "cell_type": "code",
      "metadata": {
        "id": "9kDmgFfh6a12"
      },
      "source": [
        "# the file hbase-site.xml may need to be updated ...\n",
        "# however the default file works well in the simple stand-alone HBase mode\n",
        "# so no need to touch it\n",
        "#!cat $HBASE_HOME/conf/hbase-site.xml"
      ],
      "execution_count": null,
      "outputs": []
    },
    {
      "cell_type": "markdown",
      "metadata": {
        "id": "BWn-DJ1PDbXd"
      },
      "source": [
        "## Some Clean UP\n",
        "Otherwise we get ugly warnings"
      ]
    },
    {
      "cell_type": "code",
      "metadata": {
        "colab": {
          "base_uri": "https://localhost:8080/"
        },
        "id": "bKG7t8sQDj2t",
        "outputId": "38728b55-2aa3-426d-a56a-6a439239adbb"
      },
      "source": [
        "# locate multiple instances of slf4j ...\n",
        "!ls $HADOOP_HOME/share/hadoop/common/lib/*slf4j*\n",
        "!ls $HBASE_HOME/lib/*slf4j*\n",
        "!ls /content/hbase-2.4.12/lib/client-facing-thirdparty/slf4j-reload4j-1.7.33.jar"
      ],
      "execution_count": 10,
      "outputs": [
        {
          "output_type": "stream",
          "name": "stdout",
          "text": [
            "/usr/local/hadoop-3.3.3//share/hadoop/common/lib/jul-to-slf4j-1.7.36.jar\n",
            "/usr/local/hadoop-3.3.3//share/hadoop/common/lib/slf4j-api-1.7.36.jar\n",
            "/usr/local/hadoop-3.3.3//share/hadoop/common/lib/slf4j-reload4j-1.7.36.jar\n",
            "/content/hbase-2.4.12//lib/jcl-over-slf4j-1.7.33.jar\n",
            "/content/hbase-2.4.12//lib/jul-to-slf4j-1.7.33.jar\n",
            "/content/hbase-2.4.12/lib/client-facing-thirdparty/slf4j-reload4j-1.7.33.jar\n"
          ]
        }
      ]
    },
    {
      "cell_type": "code",
      "metadata": {
        "id": "6OaOkjD5EOr0"
      },
      "source": [
        "# remove the Hadoop logger out of the path\n",
        "# without this you will get ugly warnings every time\n",
        "#!mv /usr/local/hadoop-3.3.3//share/hadoop/common/lib/slf4j-log4j12-1.7.25.jar .\n",
        "#!mv /usr/local/hadoop-3.3.3//share/hadoop/common/lib/slf4j-api-1.7.36.jar .\n",
        "#!mv /usr/local/hadoop-3.3.3//share/hadoop/common/lib/slf4j-reload4j-1.7.36.jar .\n",
        "!mv /content/hbase-2.4.12/lib/client-facing-thirdparty/slf4j-reload4j-1.7.33.jar ."
      ],
      "execution_count": 11,
      "outputs": []
    },
    {
      "cell_type": "code",
      "source": [
        ""
      ],
      "metadata": {
        "id": "C04Du_W-ur15"
      },
      "execution_count": null,
      "outputs": []
    },
    {
      "cell_type": "markdown",
      "metadata": {
        "id": "uA03iA4XFN_E"
      },
      "source": [
        "## Start HBase server"
      ]
    },
    {
      "cell_type": "code",
      "source": [
        "#!stop-hbase.sh"
      ],
      "metadata": {
        "id": "SOFDd_XCvBET"
      },
      "execution_count": null,
      "outputs": []
    },
    {
      "cell_type": "code",
      "metadata": {
        "colab": {
          "base_uri": "https://localhost:8080/"
        },
        "id": "GMQHzlCO7MDC",
        "outputId": "88b2d43d-c0c0-45e8-c169-030197727fb9"
      },
      "source": [
        "!start-hbase.sh"
      ],
      "execution_count": 12,
      "outputs": [
        {
          "output_type": "stream",
          "name": "stdout",
          "text": [
            "running master, logging to /content/hbase-2.4.12//logs/hbase--master-16e1f2c700ea.out\n"
          ]
        }
      ]
    },
    {
      "cell_type": "code",
      "metadata": {
        "colab": {
          "base_uri": "https://localhost:8080/"
        },
        "id": "v1imUqpf7apm",
        "outputId": "44b46ccb-10e1-4ec1-e8cf-ae012ad65464"
      },
      "source": [
        "!jps"
      ],
      "execution_count": 13,
      "outputs": [
        {
          "output_type": "stream",
          "name": "stdout",
          "text": [
            "1454 HMaster\n",
            "1823 Jps\n"
          ]
        }
      ]
    },
    {
      "cell_type": "markdown",
      "metadata": {
        "id": "gd6mdgPSFSvB"
      },
      "source": [
        "# Run Hbase Shell"
      ]
    },
    {
      "cell_type": "code",
      "metadata": {
        "colab": {
          "base_uri": "https://localhost:8080/"
        },
        "id": "42DJQfpY7oqe",
        "outputId": "425cad8e-55ba-48f4-a542-646d9ea9d9a8"
      },
      "source": [
        "# you can enter hbase shell commands at the prompt. Double click on the prompt to open up a input box\n",
        "!hbase shell "
      ],
      "execution_count": 14,
      "outputs": [
        {
          "output_type": "stream",
          "name": "stdout",
          "text": [
            "HBase Shell\n",
            "Use \"help\" to get list of supported commands.\n",
            "Use \"exit\" to quit this interactive shell.\n",
            "For Reference, please visit: http://hbase.apache.org/2.0/book.html#shell\n",
            "Version 2.4.12, r8382f55b15be6ae190f8d202a5e6a40af177ec76, Fri Apr 29 19:34:27 PDT 2022\n",
            "Took 0.0031 seconds                                                             \n",
            "hbase:001:0> exit\n"
          ]
        }
      ]
    },
    {
      "cell_type": "markdown",
      "metadata": {
        "id": "qhuHJF4lH6f6"
      },
      "source": [
        "shell commands  <br>\n",
        "https://www.tutorialspoint.com/hbase/hbase_shell.htm <br>\n",
        "https://www.guru99.com/hbase-shell-general-commands.html <br>\n",
        "better way of passing shell commands are given here"
      ]
    },
    {
      "cell_type": "code",
      "metadata": {
        "colab": {
          "base_uri": "https://localhost:8080/"
        },
        "id": "cQdbisL2GQtE",
        "outputId": "f628bc68-7777-453b-bd44-501b2b3d6bc5"
      },
      "source": [
        "!echo 'status' | hbase shell -n"
      ],
      "execution_count": 15,
      "outputs": [
        {
          "output_type": "stream",
          "name": "stdout",
          "text": [
            "hbase:001:0> status\n",
            "1 active master, 0 backup masters, 1 servers, 0 dead, 2.0000 average load\n",
            "Took 0.8872 seconds                                                             \n",
            "hbase:002:0> \n"
          ]
        }
      ]
    },
    {
      "cell_type": "code",
      "metadata": {
        "id": "0OvCnX8SGkPG"
      },
      "source": [
        "#!echo \"status 'detail'\" | hbase shell -n"
      ],
      "execution_count": null,
      "outputs": []
    },
    {
      "cell_type": "code",
      "metadata": {
        "colab": {
          "base_uri": "https://localhost:8080/"
        },
        "id": "NYhR2DpgIbnU",
        "outputId": "a7fdee12-95d4-4759-fa59-99a0b3b113a9"
      },
      "source": [
        "!echo \"whoami\" | hbase shell -n"
      ],
      "execution_count": 16,
      "outputs": [
        {
          "output_type": "stream",
          "name": "stdout",
          "text": [
            "hbase:001:0> whoami\n",
            "root (auth:SIMPLE)\n",
            "    groups: root\n",
            "Took 0.0196 seconds                                                             \n",
            "hbase:002:0> \n"
          ]
        }
      ]
    },
    {
      "cell_type": "markdown",
      "metadata": {
        "id": "psoYaCFmAItK"
      },
      "source": [
        "## Simple Tutorial\n",
        "command line tutorial https://akbarahmed.com/2012/08/13/hbase-command-line-tutorial/"
      ]
    },
    {
      "cell_type": "code",
      "metadata": {
        "colab": {
          "base_uri": "https://localhost:8080/"
        },
        "id": "vG4pok6AJu0V",
        "outputId": "25d2173b-7cde-4a84-8322-7f35e488c9dc"
      },
      "source": [
        "!echo \"create 'table1', 'columnfamily1'\" | hbase shell -n"
      ],
      "execution_count": 17,
      "outputs": [
        {
          "output_type": "stream",
          "name": "stdout",
          "text": [
            "hbase:001:0> create 'table1', 'columnfamily1'\n",
            "Created table table1\n",
            "Took 1.4729 seconds                                                             \n",
            "=> Hbase::Table - table1\n",
            "hbase:002:0> \n"
          ]
        }
      ]
    },
    {
      "cell_type": "code",
      "metadata": {
        "colab": {
          "base_uri": "https://localhost:8080/"
        },
        "id": "Mb26zNcdKJpC",
        "outputId": "dc2de39e-8d25-4000-d6ec-a0b8863b994c"
      },
      "source": [
        "!echo \"list\" | hbase shell -n"
      ],
      "execution_count": 18,
      "outputs": [
        {
          "output_type": "stream",
          "name": "stdout",
          "text": [
            "hbase:001:0> list\n",
            "TABLE                                                                           \n",
            "table1                                                                          \n",
            "1 row(s)\n",
            "Took 0.8679 seconds                                                             \n",
            "=> [\"table1\"]\n",
            "hbase:002:0> \n"
          ]
        }
      ]
    },
    {
      "cell_type": "code",
      "metadata": {
        "colab": {
          "base_uri": "https://localhost:8080/"
        },
        "id": "xb9m6ahLKxDK",
        "outputId": "cc3eab8d-7b28-481f-f5d5-16ccf196b250"
      },
      "source": [
        "!echo \"create 'cars', 'vi'\" | hbase shell -n"
      ],
      "execution_count": 19,
      "outputs": [
        {
          "output_type": "stream",
          "name": "stdout",
          "text": [
            "hbase:001:0> create 'cars', 'vi'\n",
            "Created table cars\n",
            "Took 1.5417 seconds                                                             \n",
            "=> Hbase::Table - cars\n",
            "hbase:002:0> \n"
          ]
        }
      ]
    },
    {
      "cell_type": "code",
      "metadata": {
        "colab": {
          "base_uri": "https://localhost:8080/"
        },
        "id": "InyhsYkXK_j9",
        "outputId": "612eccd3-7ce9-4b14-c4a8-eea4f6020016"
      },
      "source": [
        "!echo \"list\" | hbase shell -n"
      ],
      "execution_count": 20,
      "outputs": [
        {
          "output_type": "stream",
          "name": "stdout",
          "text": [
            "hbase:001:0> list\n",
            "TABLE                                                                           \n",
            "cars                                                                            \n",
            "table1                                                                          \n",
            "2 row(s)\n",
            "Took 1.0535 seconds                                                             \n",
            "=> [\"cars\", \"table1\"]\n",
            "hbase:002:0> \n"
          ]
        }
      ]
    },
    {
      "cell_type": "code",
      "metadata": {
        "colab": {
          "base_uri": "https://localhost:8080/"
        },
        "id": "L1ktyGL5LHG7",
        "outputId": "62cfc185-e38e-4d88-d064-44d149d0d408"
      },
      "source": [
        "# add ONE row\n",
        "# nearly THREE seconds per row ... what will you do with a million rows? wait for bulk loader\n",
        "!echo \"put 'cars', 'row1', 'vi:make', 'bmw'\" | hbase shell -n\n",
        "!echo \"put 'cars', 'row1', 'vi:model', '5 series'\" | hbase shell -n\n",
        "!echo \"put 'cars', 'row1', 'vi:year', '2012'\" | hbase shell -n"
      ],
      "execution_count": 21,
      "outputs": [
        {
          "output_type": "stream",
          "name": "stdout",
          "text": [
            "hbase:001:0> put 'cars', 'row1', 'vi:make', 'bmw'\n",
            "Took 0.9724 seconds                                                             \n",
            "hbase:002:0> \n",
            "hbase:001:0> put 'cars', 'row1', 'vi:model', '5 series'\n",
            "Took 1.0096 seconds                                                             \n",
            "hbase:002:0> \n",
            "hbase:001:0> put 'cars', 'row1', 'vi:year', '2012'\n",
            "Took 1.0726 seconds                                                             \n",
            "hbase:002:0> \n"
          ]
        }
      ]
    },
    {
      "cell_type": "code",
      "metadata": {
        "colab": {
          "base_uri": "https://localhost:8080/"
        },
        "id": "aDyHCB9_MsUy",
        "outputId": "4d7d6004-629a-4c29-ae16-0141eed660a2"
      },
      "source": [
        "%%time\n",
        "# add ONE row\n",
        "!echo \"put 'cars', 'row2', 'vi:make', 'mercedes'\" | hbase shell -n\n",
        "!echo \"put 'cars', 'row2', 'vi:model', 'e class'\" | hbase shell -n\n",
        "!echo \"put 'cars', 'row2', 'vi:year', '2012'\" | hbase shell -n"
      ],
      "execution_count": null,
      "outputs": [
        {
          "output_type": "stream",
          "name": "stdout",
          "text": [
            "Took 0.9319 seconds                                                             \n",
            "\n",
            "Took 0.7347 seconds                                                             \n",
            "\n",
            "Took 0.9142 seconds                                                             \n",
            "\n"
          ]
        }
      ]
    },
    {
      "cell_type": "code",
      "metadata": {
        "colab": {
          "base_uri": "https://localhost:8080/"
        },
        "id": "YJ2RISDNN1gT",
        "outputId": "65846ccf-0750-484c-ff0f-dc246deaf952"
      },
      "source": [
        "%%time\n",
        "!echo \"scan 'cars'\" | hbase shell -n"
      ],
      "execution_count": 22,
      "outputs": [
        {
          "output_type": "stream",
          "name": "stdout",
          "text": [
            "hbase:001:0> scan 'cars'\n",
            "ROW                   COLUMN+CELL                                               \n",
            " row1                 column=vi:make, timestamp=2022-06-24T09:37:27.367, value=b\n",
            "                      mw                                                        \n",
            " row1                 column=vi:model, timestamp=2022-06-24T09:38:48.262, value=\n",
            "                      5 series                                                  \n",
            " row1                 column=vi:year, timestamp=2022-06-24T09:40:08.638, value=2\n",
            "                      012                                                       \n",
            "1 row(s)\n",
            "Took 1.0226 seconds                                                             \n",
            "hbase:002:0> \n",
            "CPU times: user 718 ms, sys: 75.6 ms, total: 793 ms\n",
            "Wall time: 1min 21s\n"
          ]
        }
      ]
    },
    {
      "cell_type": "code",
      "metadata": {
        "colab": {
          "base_uri": "https://localhost:8080/"
        },
        "id": "sMadzGtQOVpM",
        "outputId": "b18d3230-d970-4e6f-c405-3b4140eade61"
      },
      "source": [
        "!echo \"scan 'cars', {COLUMNS => ['vi:make']}\" | hbase shell -n"
      ],
      "execution_count": 23,
      "outputs": [
        {
          "output_type": "stream",
          "name": "stdout",
          "text": [
            "hbase:001:0> scan 'cars', {COLUMNS => ['vi:make']}\n",
            "ROW                   COLUMN+CELL                                               \n",
            " row1                 column=vi:make, timestamp=2022-06-24T09:37:27.367, value=b\n",
            "                      mw                                                        \n",
            "1 row(s)\n",
            "Took 0.8826 seconds                                                             \n",
            "hbase:002:0> \n"
          ]
        }
      ]
    },
    {
      "cell_type": "code",
      "source": [
        "!echo \"get 'cars', 'row1'\"| hbase shell -n"
      ],
      "metadata": {
        "id": "SDVs9Yux2YPu",
        "outputId": "286f4ce0-357a-4a67-eb83-622eebd83720",
        "colab": {
          "base_uri": "https://localhost:8080/"
        }
      },
      "execution_count": null,
      "outputs": [
        {
          "output_type": "stream",
          "name": "stdout",
          "text": [
            "COLUMN                CELL                                                      \n",
            " vi:make              timestamp=2022-01-14T04:11:02.984, value=bmw              \n",
            " vi:model             timestamp=2022-01-14T04:12:17.633, value=5 series         \n",
            " vi:year              timestamp=2022-01-14T04:13:32.015, value=2012             \n",
            "1 row(s)\n",
            "Took 1.0586 seconds                                                             \n",
            "\n"
          ]
        }
      ]
    },
    {
      "cell_type": "code",
      "source": [
        "!echo \"get 'cars', 'row1', 'vi:make' \"| hbase shell -n"
      ],
      "metadata": {
        "id": "2F0-Eps93FxF",
        "outputId": "218f0cab-d403-4d80-e20d-bbec6863b922",
        "colab": {
          "base_uri": "https://localhost:8080/"
        }
      },
      "execution_count": null,
      "outputs": [
        {
          "output_type": "stream",
          "name": "stdout",
          "text": [
            "COLUMN                CELL                                                      \n",
            " vi:make              timestamp=2022-01-14T04:11:02.984, value=bmw              \n",
            "1 row(s)\n",
            "Took 1.0870 seconds                                                             \n",
            "\n"
          ]
        }
      ]
    },
    {
      "cell_type": "markdown",
      "source": [
        "### Versioning"
      ],
      "metadata": {
        "id": "TI4nTpqu9xtz"
      }
    },
    {
      "cell_type": "code",
      "source": [
        "# add the same row a second time\n",
        "!echo \"put 'cars', 'row1', 'vi:make', 'bmw-v2'\" | hbase shell -n"
      ],
      "metadata": {
        "id": "5jK9-93r30Dp",
        "outputId": "358936bb-93d6-4482-9f2f-c32ad09a5a46",
        "colab": {
          "base_uri": "https://localhost:8080/"
        }
      },
      "execution_count": 24,
      "outputs": [
        {
          "output_type": "stream",
          "name": "stdout",
          "text": [
            "hbase:001:0> put 'cars', 'row1', 'vi:make', 'bmw-v2'\n",
            "Took 0.9990 seconds                                                             \n",
            "hbase:002:0> \n"
          ]
        }
      ]
    },
    {
      "cell_type": "code",
      "source": [
        "!echo \"get 'cars', 'row1', 'vi:make' \"| hbase shell -n"
      ],
      "metadata": {
        "id": "uVo7y5sx4Psd",
        "outputId": "8323a347-4d3a-4388-e042-d4031f74e49c",
        "colab": {
          "base_uri": "https://localhost:8080/"
        }
      },
      "execution_count": null,
      "outputs": [
        {
          "output_type": "stream",
          "name": "stdout",
          "text": [
            "COLUMN                CELL                                                      \n",
            " vi:make              timestamp=2022-01-14T04:37:03.533, value=bmw-v2           \n",
            "1 row(s)\n",
            "Took 1.0824 seconds                                                             \n",
            "\n"
          ]
        }
      ]
    },
    {
      "cell_type": "code",
      "source": [
        "!echo \"get 'cars', 'row1',  {COLUMN => 'vi:make', VERSIONS => 2} \"| hbase shell -n"
      ],
      "metadata": {
        "id": "HwG3kO_P4u_G",
        "outputId": "523a9079-5f26-4555-f6b7-07fefbee9633",
        "colab": {
          "base_uri": "https://localhost:8080/"
        }
      },
      "execution_count": null,
      "outputs": [
        {
          "output_type": "stream",
          "name": "stdout",
          "text": [
            "COLUMN                CELL                                                      \n",
            " vi:make              timestamp=2022-01-14T04:37:03.533, value=bmw-v2           \n",
            "1 row(s)\n",
            "Took 0.8776 seconds                                                             \n",
            "\n"
          ]
        }
      ]
    },
    {
      "cell_type": "code",
      "source": [
        "# versioning is not setup by default\n",
        "! echo \"alter 'cars', NAME=>'vi', VERSIONS=>3\" | hbase shell -n"
      ],
      "metadata": {
        "id": "WfE76SyV8ppK",
        "outputId": "90263f6a-040e-4069-e610-dfb4b70083b7",
        "colab": {
          "base_uri": "https://localhost:8080/"
        }
      },
      "execution_count": 25,
      "outputs": [
        {
          "output_type": "stream",
          "name": "stdout",
          "text": [
            "hbase:001:0> alter 'cars', NAME=>'vi', VERSIONS=>3\n",
            "Updating all regions with the new schema...\n",
            "1/1 regions updated.\n",
            "Done.\n",
            "Took 3.3013 seconds                                                             \n",
            "hbase:002:0> \n"
          ]
        }
      ]
    },
    {
      "cell_type": "code",
      "source": [
        "# add the same row a third time\n",
        "!echo \"put 'cars', 'row1', 'vi:make', 'bmw-v3'\" | hbase shell -n"
      ],
      "metadata": {
        "id": "cn6iZqLo89DT",
        "outputId": "fe6eb6c2-e7a6-403a-e5d9-7c2ba02f3806",
        "colab": {
          "base_uri": "https://localhost:8080/"
        }
      },
      "execution_count": null,
      "outputs": [
        {
          "output_type": "stream",
          "name": "stdout",
          "text": [
            "Took 0.9044 seconds                                                             \n",
            "\n"
          ]
        }
      ]
    },
    {
      "cell_type": "code",
      "source": [
        "!echo \"get 'cars', 'row1',  {COLUMN => 'vi:make', VERSIONS => 2} \"| hbase shell -n"
      ],
      "metadata": {
        "id": "IIeysAjZ9Z9-",
        "outputId": "bbbddfd2-58b7-436c-fc52-7ce26af72613",
        "colab": {
          "base_uri": "https://localhost:8080/"
        }
      },
      "execution_count": null,
      "outputs": [
        {
          "output_type": "stream",
          "name": "stdout",
          "text": [
            "COLUMN                CELL                                                      \n",
            " vi:make              timestamp=2022-01-14T04:59:31.830, value=bmw-v3           \n",
            " vi:make              timestamp=2022-01-14T04:37:03.533, value=bmw-v2           \n",
            "1 row(s)\n",
            "Took 0.9090 seconds                                                             \n",
            "\n"
          ]
        }
      ]
    },
    {
      "cell_type": "code",
      "metadata": {
        "colab": {
          "base_uri": "https://localhost:8080/"
        },
        "id": "KBFVcL95PgSB",
        "outputId": "8631f35a-df21-4ca8-9c9b-3f2bba847ac6"
      },
      "source": [
        "!echo \"disable 'cars'\" | hbase shell -n\n",
        "!echo \"drop 'cars'\" | hbase shell -n"
      ],
      "execution_count": null,
      "outputs": [
        {
          "output_type": "stream",
          "name": "stdout",
          "text": [
            "Took 1.2346 seconds                                                             \n",
            "\n",
            "Took 1.1423 seconds                                                             \n",
            "\n"
          ]
        }
      ]
    },
    {
      "cell_type": "markdown",
      "metadata": {
        "id": "EztkGD3HPYhb"
      },
      "source": [
        "#Bulk Data Load\n",
        "https://people.apache.org/~stack/site/bulk-loads.html"
      ]
    },
    {
      "cell_type": "code",
      "metadata": {
        "colab": {
          "base_uri": "https://localhost:8080/"
        },
        "id": "v3z4W7zYzbEP",
        "outputId": "4dd81fcf-3c2a-47ff-d2b4-4f38bd54fc8d"
      },
      "source": [
        "#Data as CSV file\n",
        "!gdown https://drive.google.com/uc?id=1B6szzHNG7BCToKOktRiGUfFblrp1f_GC  # cars2.csv"
      ],
      "execution_count": 26,
      "outputs": [
        {
          "output_type": "stream",
          "name": "stdout",
          "text": [
            "Downloading...\n",
            "From: https://drive.google.com/uc?id=1B6szzHNG7BCToKOktRiGUfFblrp1f_GC\n",
            "To: /content/cars2.csv\n",
            "\r  0% 0.00/54.0 [00:00<?, ?B/s]\r100% 54.0/54.0 [00:00<00:00, 74.9kB/s]\n"
          ]
        }
      ]
    },
    {
      "cell_type": "code",
      "metadata": {
        "colab": {
          "base_uri": "https://localhost:8080/"
        },
        "id": "rBJ063HuoDhA",
        "outputId": "94387850-0ee0-491c-e982-b26f7a6696d4"
      },
      "source": [
        "# see the data\n",
        "!cat cars2.csv"
      ],
      "execution_count": 27,
      "outputs": [
        {
          "output_type": "stream",
          "name": "stdout",
          "text": [
            "Ford,Ecosport,2019\r\n",
            "Hyundai,i20,2015\r\n",
            "Maruti,Omni,2007"
          ]
        }
      ]
    },
    {
      "cell_type": "code",
      "metadata": {
        "id": "EkEIeHtHkc3L"
      },
      "source": [
        "#!echo \"disable 'cars2'\" | hbase shell -n\n",
        "#!echo \"drop 'cars2'\" | hbase shell -n"
      ],
      "execution_count": null,
      "outputs": []
    },
    {
      "cell_type": "code",
      "metadata": {
        "colab": {
          "base_uri": "https://localhost:8080/"
        },
        "id": "rOlmaKHFewdi",
        "outputId": "1276d4af-1aaa-479e-a605-26cc989d8e0c"
      },
      "source": [
        "#create 'sensor','temp','vibration','pressure'\n",
        "!echo \"create 'cars2', 'make','model','year'\" | hbase shell -n"
      ],
      "execution_count": 28,
      "outputs": [
        {
          "output_type": "stream",
          "name": "stdout",
          "text": [
            "hbase:001:0> create 'cars2', 'make','model','year'\n",
            "Created table cars2\n",
            "Took 1.5329 seconds                                                             \n",
            "=> Hbase::Table - cars2\n",
            "hbase:002:0> \n"
          ]
        }
      ]
    },
    {
      "cell_type": "code",
      "metadata": {
        "colab": {
          "base_uri": "https://localhost:8080/"
        },
        "id": "Hg002j_6fKQx",
        "outputId": "0e627682-1e44-4ba9-8537-e294811ee812"
      },
      "source": [
        "!echo \"list\" | hbase shell -n"
      ],
      "execution_count": null,
      "outputs": [
        {
          "output_type": "stream",
          "name": "stdout",
          "text": [
            "hbase:001:0> list\n",
            "TABLE                                                                           \n",
            "cars2                                                                           \n",
            "1 row(s)\n",
            "Took 0.9683 seconds                                                             \n",
            "=> [\"cars2\"]\n",
            "hbase:002:0> \n"
          ]
        }
      ]
    },
    {
      "cell_type": "code",
      "metadata": {
        "colab": {
          "base_uri": "https://localhost:8080/"
        },
        "id": "L0xLDl6_iHBA",
        "outputId": "b1c41473-dea8-438f-8b2e-e80dc264c38d"
      },
      "source": [
        "!cat cars2.csv  #cat=dump unix command, there are 12 unix commands"
      ],
      "execution_count": null,
      "outputs": [
        {
          "output_type": "stream",
          "name": "stdout",
          "text": [
            "Ford,Ecosport,2019\r\n",
            "Hyundai,i20,2015\r\n",
            "Maruti,Omni,2007"
          ]
        }
      ]
    },
    {
      "cell_type": "code",
      "source": [
        "!ls"
      ],
      "metadata": {
        "colab": {
          "base_uri": "https://localhost:8080/"
        },
        "id": "UzOvZ3MwH2dU",
        "outputId": "0e1c6350-7035-4ddc-d9d4-2932e9a8fbe8"
      },
      "execution_count": 29,
      "outputs": [
        {
          "output_type": "stream",
          "name": "stdout",
          "text": [
            "cars2.csv\t     hbase-2.4.12\t      sample_data\t\t tmp\n",
            "hadoop-3.3.3.tar.gz  hbase-2.4.12-bin.tar.gz  slf4j-reload4j-1.7.33.jar\n"
          ]
        }
      ]
    },
    {
      "cell_type": "code",
      "metadata": {
        "id": "EYhznehYfZiC"
      },
      "source": [
        "# input file has to be moved from regular file system to HDFS file system\n",
        "!hdfs dfs -copyFromLocal cars2.csv /tmp  #/tmp = designated hdfs location"
      ],
      "execution_count": 30,
      "outputs": []
    },
    {
      "cell_type": "code",
      "metadata": {
        "colab": {
          "base_uri": "https://localhost:8080/"
        },
        "id": "CF5loP6EfxuW",
        "outputId": "4aee36fc-6974-4451-ec04-2950e0f24f3a"
      },
      "source": [
        "# https://community.cloudera.com/t5/Community-Articles/Import-CSV-data-into-HBase-using-importtsv/ta-p/244842\n",
        "#hbase org.apache.hadoop.hbase.mapreduce.ImportTsv -Dimporttsv.separator=,  -Dimporttsv.columns=\"HBASE_ROW_KEY,id,temp:in,temp:out,vibration,pressure:in,pressure:out\" sensor hdfs://sandbox.hortonworks.com:/tmp/hbase.csv\n",
        "!hbase org.apache.hadoop.hbase.mapreduce.ImportTsv -Dimporttsv.separator=','  -Dimporttsv.columns=\"HBASE_ROW_KEY,make,model,year\" cars2 /tmp/cars2.csv"
      ],
      "execution_count": 31,
      "outputs": [
        {
          "output_type": "stream",
          "name": "stdout",
          "text": [
            "2022-06-24 09:54:31,379 INFO  [ReadOnlyZKClient-127.0.0.1:2181@0x1ce24091] zookeeper.ZooKeeper: Client environment:zookeeper.version=3.5.7-f0fdd52973d373ffd9c86b81d99842dc2c7f660e, built on 02/10/2020 11:30 GMT\n",
            "2022-06-24 09:54:31,379 INFO  [ReadOnlyZKClient-127.0.0.1:2181@0x1ce24091] zookeeper.ZooKeeper: Client environment:host.name=16e1f2c700ea\n",
            "2022-06-24 09:54:31,380 INFO  [ReadOnlyZKClient-127.0.0.1:2181@0x1ce24091] zookeeper.ZooKeeper: Client environment:java.version=1.8.0_312\n",
            "2022-06-24 09:54:31,380 INFO  [ReadOnlyZKClient-127.0.0.1:2181@0x1ce24091] zookeeper.ZooKeeper: Client environment:java.vendor=Private Build\n",
            "2022-06-24 09:54:31,380 INFO  [ReadOnlyZKClient-127.0.0.1:2181@0x1ce24091] zookeeper.ZooKeeper: Client environment:java.home=/usr/lib/jvm/java-8-openjdk-amd64/jre\n",
            "2022-06-24 09:54:31,380 INFO  [ReadOnlyZKClient-127.0.0.1:2181@0x1ce24091] zookeeper.ZooKeeper: managed-am-launcher-3.3.3.jar:/usr/local/hadoop-3.3.3//share/hadoop/yarn/hadoop-yarn-api-3.3.3.jar:/usr/local/hadoop-3.3.3//share/hadoop/yarn/hadoop-yarn-server-web-proxy-3.3.3.jar:/usr/local/hadoop-3.3.3//share/hadoop/yarn/hadoop-yarn-services-core-3.3.3.jar:/usr/local/hadoop-3.3.3//share/hadoop/yarn/hadoop-yarn-applications-mawo-core-3.3.3.jar:/usr/local/hadoop-3.3.3//share/hadoop/yarn/hadoop-yarn-client-3.3.3.jar:/usr/local/hadoop-3.3.3//share/hadoop/yarn/hadoop-yarn-server-resourcemanager-3.3.3.jar:/usr/local/hadoop-3.3.3//share/hadoop/yarn/hadoop-yarn-server-router-3.3.3.jar:/usr/local/hadoop-3.3.3//share/hadoop/yarn/hadoop-yarn-applications-distributedshell-3.3.3.jar:/usr/local/hadoop-3.3.3//share/hadoop/yarn/hadoop-yarn-server-tests-3.3.3.jar:/usr/local/hadoop-3.3.3//share/hadoop/yarn/hadoop-yarn-services-api-3.3.3.jar:/usr/local/hadoop-3.3.3//share/hadoop/yarn/hadoop-yarn-common-3.3.3.jar:/usr/local/hadoop-3.3.3//share/hadoop/yarn/hadoop-yarn-server-sharedcachemanager-3.3.3.jar\n",
            "2022-06-24 09:54:31,380 INFO  [ReadOnlyZKClient-127.0.0.1:2181@0x1ce24091] zookeeper.ZooKeeper: Client environment:java.library.path=/usr/local/hadoop-3.3.3//lib/native\n",
            "2022-06-24 09:54:31,380 INFO  [ReadOnlyZKClient-127.0.0.1:2181@0x1ce24091] zookeeper.ZooKeeper: Client environment:java.io.tmpdir=/tmp\n",
            "2022-06-24 09:54:31,380 INFO  [ReadOnlyZKClient-127.0.0.1:2181@0x1ce24091] zookeeper.ZooKeeper: Client environment:java.compiler=<NA>\n",
            "2022-06-24 09:54:31,380 INFO  [ReadOnlyZKClient-127.0.0.1:2181@0x1ce24091] zookeeper.ZooKeeper: Client environment:os.name=Linux\n",
            "2022-06-24 09:54:31,380 INFO  [ReadOnlyZKClient-127.0.0.1:2181@0x1ce24091] zookeeper.ZooKeeper: Client environment:os.arch=amd64\n",
            "2022-06-24 09:54:31,380 INFO  [ReadOnlyZKClient-127.0.0.1:2181@0x1ce24091] zookeeper.ZooKeeper: Client environment:os.version=5.4.188+\n",
            "2022-06-24 09:54:31,381 INFO  [ReadOnlyZKClient-127.0.0.1:2181@0x1ce24091] zookeeper.ZooKeeper: Client environment:user.name=root\n",
            "2022-06-24 09:54:31,381 INFO  [ReadOnlyZKClient-127.0.0.1:2181@0x1ce24091] zookeeper.ZooKeeper: Client environment:user.home=/root\n",
            "2022-06-24 09:54:31,381 INFO  [ReadOnlyZKClient-127.0.0.1:2181@0x1ce24091] zookeeper.ZooKeeper: Client environment:user.dir=/content\n",
            "2022-06-24 09:54:31,381 INFO  [ReadOnlyZKClient-127.0.0.1:2181@0x1ce24091] zookeeper.ZooKeeper: Client environment:os.memory.free=178MB\n",
            "2022-06-24 09:54:31,381 INFO  [ReadOnlyZKClient-127.0.0.1:2181@0x1ce24091] zookeeper.ZooKeeper: Client environment:os.memory.max=3231MB\n",
            "2022-06-24 09:54:31,381 INFO  [ReadOnlyZKClient-127.0.0.1:2181@0x1ce24091] zookeeper.ZooKeeper: Client environment:os.memory.total=197MB\n",
            "2022-06-24 09:54:31,386 INFO  [ReadOnlyZKClient-127.0.0.1:2181@0x1ce24091] zookeeper.ZooKeeper: Initiating client connection, connectString=127.0.0.1:2181 sessionTimeout=90000 watcher=org.apache.hadoop.hbase.zookeeper.ReadOnlyZKClient$$Lambda$15/895446950@3ac1a97a\n",
            "2022-06-24 09:54:31,392 INFO  [ReadOnlyZKClient-127.0.0.1:2181@0x1ce24091] common.X509Util: Setting -D jdk.tls.rejectClientInitiatedRenegotiation=true to disable client-initiated TLS renegotiation\n",
            "2022-06-24 09:54:31,401 INFO  [ReadOnlyZKClient-127.0.0.1:2181@0x1ce24091] zookeeper.ClientCnxnSocket: jute.maxbuffer value is 4194304 Bytes\n",
            "2022-06-24 09:54:31,413 INFO  [ReadOnlyZKClient-127.0.0.1:2181@0x1ce24091] zookeeper.ClientCnxn: zookeeper.request.timeout value is 0. feature enabled=\n",
            "2022-06-24 09:54:31,431 INFO  [ReadOnlyZKClient-127.0.0.1:2181@0x1ce24091-SendThread(127.0.0.1:2181)] zookeeper.ClientCnxn: Opening socket connection to server localhost/127.0.0.1:2181. Will not attempt to authenticate using SASL (unknown error)\n",
            "2022-06-24 09:54:31,437 INFO  [ReadOnlyZKClient-127.0.0.1:2181@0x1ce24091-SendThread(127.0.0.1:2181)] zookeeper.ClientCnxn: Socket connection established, initiating session, client: /127.0.0.1:47096, server: localhost/127.0.0.1:2181\n",
            "2022-06-24 09:54:31,447 INFO  [ReadOnlyZKClient-127.0.0.1:2181@0x1ce24091-SendThread(127.0.0.1:2181)] zookeeper.ClientCnxn: Session establishment complete on server localhost/127.0.0.1:2181, sessionid = 0x100000c8f9a0014, negotiated timeout = 40000\n",
            "2022-06-24 09:54:32,987 INFO  [main] Configuration.deprecation: session.id is deprecated. Instead, use dfs.metrics.session-id\n",
            "2022-06-24 09:54:32,995 INFO  [main] jvm.JvmMetrics: Initializing JVM Metrics with processName=JobTracker, sessionId=\n",
            "2022-06-24 09:54:33,047 INFO  [ReadOnlyZKClient-127.0.0.1:2181@0x1ce24091] zookeeper.ZooKeeper: Session: 0x100000c8f9a0014 closed\n",
            "2022-06-24 09:54:33,047 INFO  [ReadOnlyZKClient-127.0.0.1:2181@0x1ce24091-EventThread] zookeeper.ClientCnxn: EventThread shut down for session: 0x100000c8f9a0014\n",
            "2022-06-24 09:54:33,110 INFO  [ReadOnlyZKClient-127.0.0.1:2181@0x5ddabb18] zookeeper.ZooKeeper: Initiating client connection, connectString=127.0.0.1:2181 sessionTimeout=90000 watcher=org.apache.hadoop.hbase.zookeeper.ReadOnlyZKClient$$Lambda$15/895446950@3ac1a97a\n",
            "2022-06-24 09:54:33,111 INFO  [ReadOnlyZKClient-127.0.0.1:2181@0x5ddabb18] zookeeper.ClientCnxnSocket: jute.maxbuffer value is 4194304 Bytes\n",
            "2022-06-24 09:54:33,111 INFO  [ReadOnlyZKClient-127.0.0.1:2181@0x5ddabb18] zookeeper.ClientCnxn: zookeeper.request.timeout value is 0. feature enabled=\n",
            "2022-06-24 09:54:33,112 INFO  [ReadOnlyZKClient-127.0.0.1:2181@0x5ddabb18-SendThread(127.0.0.1:2181)] zookeeper.ClientCnxn: Opening socket connection to server localhost/127.0.0.1:2181. Will not attempt to authenticate using SASL (unknown error)\n",
            "2022-06-24 09:54:33,113 INFO  [ReadOnlyZKClient-127.0.0.1:2181@0x5ddabb18-SendThread(127.0.0.1:2181)] zookeeper.ClientCnxn: Socket connection established, initiating session, client: /127.0.0.1:47108, server: localhost/127.0.0.1:2181\n",
            "2022-06-24 09:54:33,116 INFO  [ReadOnlyZKClient-127.0.0.1:2181@0x5ddabb18-SendThread(127.0.0.1:2181)] zookeeper.ClientCnxn: Session establishment complete on server localhost/127.0.0.1:2181, sessionid = 0x100000c8f9a0015, negotiated timeout = 40000\n",
            "2022-06-24 09:54:33,251 INFO  [ReadOnlyZKClient-127.0.0.1:2181@0x5ddabb18] zookeeper.ZooKeeper: Session: 0x100000c8f9a0015 closed\n",
            "2022-06-24 09:54:33,252 INFO  [ReadOnlyZKClient-127.0.0.1:2181@0x5ddabb18-EventThread] zookeeper.ClientCnxn: EventThread shut down for session: 0x100000c8f9a0015\n",
            "2022-06-24 09:54:33,425 INFO  [main] input.FileInputFormat: Total input files to process : 1\n",
            "2022-06-24 09:54:33,469 INFO  [main] mapreduce.JobSubmitter: number of splits:1\n",
            "2022-06-24 09:54:33,788 INFO  [main] mapreduce.JobSubmitter: Submitting tokens for job: job_local1001451766_0001\n",
            "2022-06-24 09:54:34,207 INFO  [main] mapred.LocalDistributedCacheManager: Creating symlink: /tmp/hadoop-root/mapred/local/1656064473938/libjars <- /content/libjars/*\n",
            "2022-06-24 09:54:34,220 WARN  [main] fs.FileUtil: Command 'ln -s /tmp/hadoop-root/mapred/local/1656064473938/libjars /content/libjars/*' failed 1 with: ln: failed to create symbolic link '/content/libjars/*': No such file or directory\n",
            "\n",
            "2022-06-24 09:54:34,220 WARN  [main] mapred.LocalDistributedCacheManager: Failed to create symlink: /tmp/hadoop-root/mapred/local/1656064473938/libjars <- /content/libjars/*\n",
            "2022-06-24 09:54:34,220 INFO  [main] mapred.LocalDistributedCacheManager: Localized file:/tmp/hadoop-root/mapred/staging/root1001451766/.staging/job_local1001451766_0001/libjars as file:/tmp/hadoop-root/mapred/local/1656064473938/libjars\n",
            "2022-06-24 09:54:34,334 INFO  [main] mapreduce.Job: The url to track the job: http://localhost:8080/\n",
            "2022-06-24 09:54:34,335 INFO  [main] mapreduce.Job: Running job: job_local1001451766_0001\n",
            "2022-06-24 09:54:34,343 INFO  [Thread-7] mapred.LocalJobRunner: OutputCommitter set in config null\n",
            "2022-06-24 09:54:34,375 INFO  [Thread-7] mapred.LocalJobRunner: OutputCommitter is org.apache.hadoop.hbase.mapreduce.TableOutputCommitter\n",
            "2022-06-24 09:54:34,413 INFO  [Thread-7] mapred.LocalJobRunner: Waiting for map tasks\n",
            "2022-06-24 09:54:34,413 INFO  [LocalJobRunner Map Task Executor #0] mapred.LocalJobRunner: Starting task: attempt_local1001451766_0001_m_000000_0\n",
            "2022-06-24 09:54:34,522 INFO  [LocalJobRunner Map Task Executor #0] mapred.Task:  Using ResourceCalculatorProcessTree : [ ]\n",
            "2022-06-24 09:54:34,537 INFO  [LocalJobRunner Map Task Executor #0] mapred.MapTask: Processing split: file:/tmp/cars2.csv:0+54\n",
            "2022-06-24 09:54:34,553 INFO  [ReadOnlyZKClient-127.0.0.1:2181@0x13e4e91b] zookeeper.ZooKeeper: Initiating client connection, connectString=127.0.0.1:2181 sessionTimeout=90000 watcher=org.apache.hadoop.hbase.zookeeper.ReadOnlyZKClient$$Lambda$15/895446950@3ac1a97a\n",
            "2022-06-24 09:54:34,553 INFO  [ReadOnlyZKClient-127.0.0.1:2181@0x13e4e91b] zookeeper.ClientCnxnSocket: jute.maxbuffer value is 4194304 Bytes\n",
            "2022-06-24 09:54:34,554 INFO  [ReadOnlyZKClient-127.0.0.1:2181@0x13e4e91b] zookeeper.ClientCnxn: zookeeper.request.timeout value is 0. feature enabled=\n",
            "2022-06-24 09:54:34,559 INFO  [ReadOnlyZKClient-127.0.0.1:2181@0x13e4e91b-SendThread(127.0.0.1:2181)] zookeeper.ClientCnxn: Opening socket connection to server localhost/127.0.0.1:2181. Will not attempt to authenticate using SASL (unknown error)\n",
            "2022-06-24 09:54:34,560 INFO  [ReadOnlyZKClient-127.0.0.1:2181@0x13e4e91b-SendThread(127.0.0.1:2181)] zookeeper.ClientCnxn: Socket connection established, initiating session, client: /127.0.0.1:47118, server: localhost/127.0.0.1:2181\n",
            "2022-06-24 09:54:34,564 INFO  [ReadOnlyZKClient-127.0.0.1:2181@0x13e4e91b-SendThread(127.0.0.1:2181)] zookeeper.ClientCnxn: Session establishment complete on server localhost/127.0.0.1:2181, sessionid = 0x100000c8f9a0016, negotiated timeout = 40000\n",
            "2022-06-24 09:54:34,571 INFO  [LocalJobRunner Map Task Executor #0] mapreduce.TableOutputFormat: Created table instance for cars2\n",
            "2022-06-24 09:54:34,608 INFO  [ReadOnlyZKClient-127.0.0.1:2181@0x242ad51e] zookeeper.ZooKeeper: Initiating client connection, connectString=127.0.0.1:2181 sessionTimeout=90000 watcher=org.apache.hadoop.hbase.zookeeper.ReadOnlyZKClient$$Lambda$15/895446950@3ac1a97a\n",
            "2022-06-24 09:54:34,608 INFO  [ReadOnlyZKClient-127.0.0.1:2181@0x242ad51e] zookeeper.ClientCnxnSocket: jute.maxbuffer value is 4194304 Bytes\n",
            "2022-06-24 09:54:34,609 INFO  [ReadOnlyZKClient-127.0.0.1:2181@0x242ad51e] zookeeper.ClientCnxn: zookeeper.request.timeout value is 0. feature enabled=\n",
            "2022-06-24 09:54:34,610 INFO  [ReadOnlyZKClient-127.0.0.1:2181@0x242ad51e-SendThread(127.0.0.1:2181)] zookeeper.ClientCnxn: Opening socket connection to server localhost/127.0.0.1:2181. Will not attempt to authenticate using SASL (unknown error)\n",
            "2022-06-24 09:54:34,612 INFO  [ReadOnlyZKClient-127.0.0.1:2181@0x242ad51e-SendThread(127.0.0.1:2181)] zookeeper.ClientCnxn: Socket connection established, initiating session, client: /127.0.0.1:47122, server: localhost/127.0.0.1:2181\n",
            "2022-06-24 09:54:34,616 INFO  [ReadOnlyZKClient-127.0.0.1:2181@0x242ad51e-SendThread(127.0.0.1:2181)] zookeeper.ClientCnxn: Session establishment complete on server localhost/127.0.0.1:2181, sessionid = 0x100000c8f9a0017, negotiated timeout = 40000\n",
            "2022-06-24 09:54:34,724 INFO  [LocalJobRunner Map Task Executor #0] mapred.LocalJobRunner: \n",
            "2022-06-24 09:54:34,818 INFO  [ReadOnlyZKClient-127.0.0.1:2181@0x242ad51e] zookeeper.ZooKeeper: Session: 0x100000c8f9a0017 closed\n",
            "2022-06-24 09:54:34,818 INFO  [ReadOnlyZKClient-127.0.0.1:2181@0x242ad51e-EventThread] zookeeper.ClientCnxn: EventThread shut down for session: 0x100000c8f9a0017\n",
            "2022-06-24 09:54:34,906 INFO  [LocalJobRunner Map Task Executor #0] mapred.Task: Task:attempt_local1001451766_0001_m_000000_0 is done. And is in the process of committing\n",
            "2022-06-24 09:54:34,930 INFO  [LocalJobRunner Map Task Executor #0] mapred.LocalJobRunner: map\n",
            "2022-06-24 09:54:34,930 INFO  [LocalJobRunner Map Task Executor #0] mapred.Task: Task 'attempt_local1001451766_0001_m_000000_0' done.\n",
            "2022-06-24 09:54:34,941 INFO  [LocalJobRunner Map Task Executor #0] mapred.Task: Final Counters for attempt_local1001451766_0001_m_000000_0: Counters: 19\n",
            "\tFile System Counters\n",
            "\t\tFILE: Number of bytes read=432106\n",
            "\t\tFILE: Number of bytes written=1005031\n",
            "\t\tFILE: Number of read operations=0\n",
            "\t\tFILE: Number of large read operations=0\n",
            "\t\tFILE: Number of write operations=0\n",
            "\tMap-Reduce Framework\n",
            "\t\tMap input records=3\n",
            "\t\tMap output records=3\n",
            "\t\tInput split bytes=84\n",
            "\t\tSpilled Records=0\n",
            "\t\tFailed Shuffles=0\n",
            "\t\tMerged Map outputs=0\n",
            "\t\tGC time elapsed (ms)=0\n",
            "\t\tCPU time spent (ms)=650\n",
            "\t\tPhysical memory (bytes) snapshot=282173440\n",
            "\t\tVirtual memory (bytes) snapshot=5161148416\n",
            "\t\tTotal committed heap usage (bytes)=206831616\n",
            "\tImportTsv\n",
            "\t\tBad Lines=0\n",
            "\tFile Input Format Counters \n",
            "\t\tBytes Read=74\n",
            "\tFile Output Format Counters \n",
            "\t\tBytes Written=0\n",
            "2022-06-24 09:54:34,941 INFO  [LocalJobRunner Map Task Executor #0] mapred.LocalJobRunner: Finishing task: attempt_local1001451766_0001_m_000000_0\n",
            "2022-06-24 09:54:34,941 INFO  [Thread-7] mapred.LocalJobRunner: map task executor complete.\n",
            "2022-06-24 09:54:35,012 INFO  [ReadOnlyZKClient-127.0.0.1:2181@0x13e4e91b] zookeeper.ZooKeeper: Session: 0x100000c8f9a0016 closed\n",
            "2022-06-24 09:54:35,012 INFO  [ReadOnlyZKClient-127.0.0.1:2181@0x13e4e91b-EventThread] zookeeper.ClientCnxn: EventThread shut down for session: 0x100000c8f9a0016\n",
            "2022-06-24 09:54:35,340 INFO  [main] mapreduce.Job: Job job_local1001451766_0001 running in uber mode : false\n",
            "2022-06-24 09:54:35,341 INFO  [main] mapreduce.Job:  map 100% reduce 0%\n",
            "2022-06-24 09:54:35,344 INFO  [main] mapreduce.Job: Job job_local1001451766_0001 completed successfully\n",
            "2022-06-24 09:54:35,349 INFO  [main] mapreduce.Job: Counters: 19\n",
            "\tFile System Counters\n",
            "\t\tFILE: Number of bytes read=432106\n",
            "\t\tFILE: Number of bytes written=1005031\n",
            "\t\tFILE: Number of read operations=0\n",
            "\t\tFILE: Number of large read operations=0\n",
            "\t\tFILE: Number of write operations=0\n",
            "\tMap-Reduce Framework\n",
            "\t\tMap input records=3\n",
            "\t\tMap output records=3\n",
            "\t\tInput split bytes=84\n",
            "\t\tSpilled Records=0\n",
            "\t\tFailed Shuffles=0\n",
            "\t\tMerged Map outputs=0\n",
            "\t\tGC time elapsed (ms)=0\n",
            "\t\tCPU time spent (ms)=650\n",
            "\t\tPhysical memory (bytes) snapshot=282173440\n",
            "\t\tVirtual memory (bytes) snapshot=5161148416\n",
            "\t\tTotal committed heap usage (bytes)=206831616\n",
            "\tImportTsv\n",
            "\t\tBad Lines=0\n",
            "\tFile Input Format Counters \n",
            "\t\tBytes Read=74\n",
            "\tFile Output Format Counters \n",
            "\t\tBytes Written=0\n"
          ]
        }
      ]
    },
    {
      "cell_type": "code",
      "metadata": {
        "colab": {
          "base_uri": "https://localhost:8080/"
        },
        "id": "CSs-MATjgw6p",
        "outputId": "55d18d17-c415-4ebc-b693-b3b507b96d75"
      },
      "source": [
        "!echo \"scan 'cars2'\" | hbase shell -n"
      ],
      "execution_count": 32,
      "outputs": [
        {
          "output_type": "stream",
          "name": "stdout",
          "text": [
            "hbase:001:0> scan 'cars2'\n",
            "ROW                   COLUMN+CELL                                               \n",
            " Ford                 column=make:, timestamp=2022-06-24T09:54:30.781, value=Eco\n",
            "                      sport                                                     \n",
            " Ford                 column=model:, timestamp=2022-06-24T09:54:30.781, value=20\n",
            "                      19                                                        \n",
            " Hyundai              column=make:, timestamp=2022-06-24T09:54:30.781, value=i20\n",
            " Hyundai              column=model:, timestamp=2022-06-24T09:54:30.781, value=20\n",
            "                      15                                                        \n",
            " Maruti               column=make:, timestamp=2022-06-24T09:54:30.781, value=Omn\n",
            "                      i                                                         \n",
            " Maruti               column=model:, timestamp=2022-06-24T09:54:30.781, value=20\n",
            "                      07                                                        \n",
            "3 row(s)\n",
            "Took 0.9871 seconds                                                             \n",
            "hbase:002:0> \n"
          ]
        }
      ]
    },
    {
      "cell_type": "markdown",
      "metadata": {
        "id": "O6PP3akdlVKJ"
      },
      "source": [
        "#Stop HBase"
      ]
    },
    {
      "cell_type": "code",
      "metadata": {
        "colab": {
          "base_uri": "https://localhost:8080/"
        },
        "id": "p28XBoitAWTL",
        "outputId": "8f48c0c2-e6f2-490f-a0e2-9b13f9750daa"
      },
      "source": [
        "!stop-hbase.sh"
      ],
      "execution_count": 33,
      "outputs": [
        {
          "output_type": "stream",
          "name": "stdout",
          "text": [
            "stopping hbase..............\n"
          ]
        }
      ]
    }
  ]
}